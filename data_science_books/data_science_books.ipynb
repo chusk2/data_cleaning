{
 "cells": [
  {
   "cell_type": "markdown",
   "id": "6c9ba139-8388-46f6-8ca7-7828e6974cc7",
   "metadata": {
    "tags": []
   },
   "source": [
    "# Data Science Books Dataset Cleaning  \n",
    "### [Amazon Data Science Books Dataset from Kaggle](https://www.kaggle.com/datasets/die9origephit/amazon-data-science-books)  \n",
    "### Work done by: [@chusk2](https://twitter.com/chusk2)  \n",
    "### Github repository: [data_cleaning](https://github.com/chusk2/data_cleaning)"
   ]
  },
  {
   "cell_type": "markdown",
   "id": "0784da3d-79e1-4480-ba96-94af3e679d8e",
   "metadata": {},
   "source": [
    "## Import python libraries"
   ]
  },
  {
   "cell_type": "code",
   "execution_count": 1,
   "id": "c297ef99-c3db-482d-89f0-45bc7ce4219f",
   "metadata": {
    "tags": []
   },
   "outputs": [],
   "source": [
    "import pandas as pd\n",
    "import numpy as np"
   ]
  },
  {
   "cell_type": "markdown",
   "id": "20597348-6115-4d58-8620-05057c15944b",
   "metadata": {},
   "source": [
    "## Import raw data"
   ]
  },
  {
   "cell_type": "code",
   "execution_count": 2,
   "id": "60712390-4e5c-4dd8-8176-9c3be7d047e8",
   "metadata": {
    "tags": []
   },
   "outputs": [],
   "source": [
    "data = pd.read_csv('data_science_books.csv')"
   ]
  },
  {
   "cell_type": "markdown",
   "id": "534fd13c-94b1-446a-abef-ce5cfdf70be8",
   "metadata": {
    "tags": []
   },
   "source": [
    "## First overlook"
   ]
  },
  {
   "cell_type": "code",
   "execution_count": 3,
   "id": "49961fb1-e995-4a9c-a089-10c7d96a8de8",
   "metadata": {
    "tags": []
   },
   "outputs": [
    {
     "data": {
      "text/html": [
       "<div>\n",
       "<style scoped>\n",
       "    .dataframe tbody tr th:only-of-type {\n",
       "        vertical-align: middle;\n",
       "    }\n",
       "\n",
       "    .dataframe tbody tr th {\n",
       "        vertical-align: top;\n",
       "    }\n",
       "\n",
       "    .dataframe thead th {\n",
       "        text-align: right;\n",
       "    }\n",
       "</style>\n",
       "<table border=\"1\" class=\"dataframe\">\n",
       "  <thead>\n",
       "    <tr style=\"text-align: right;\">\n",
       "      <th></th>\n",
       "      <th>title</th>\n",
       "      <th>author</th>\n",
       "      <th>price</th>\n",
       "      <th>price (including used books)</th>\n",
       "      <th>pages</th>\n",
       "      <th>avg_reviews</th>\n",
       "      <th>n_reviews</th>\n",
       "      <th>star5</th>\n",
       "      <th>star4</th>\n",
       "      <th>star3</th>\n",
       "      <th>star2</th>\n",
       "      <th>star1</th>\n",
       "      <th>dimensions</th>\n",
       "      <th>weight</th>\n",
       "      <th>language</th>\n",
       "      <th>publisher</th>\n",
       "      <th>ISBN_13</th>\n",
       "      <th>link</th>\n",
       "      <th>complete_link</th>\n",
       "    </tr>\n",
       "  </thead>\n",
       "  <tbody>\n",
       "    <tr>\n",
       "      <th>0</th>\n",
       "      <td>Data Analysis Using R (Low Priced Edition): A ...</td>\n",
       "      <td>[ Dr Dhaval Maheta]</td>\n",
       "      <td>6.75</td>\n",
       "      <td>6.75</td>\n",
       "      <td>500</td>\n",
       "      <td>4.4</td>\n",
       "      <td>23</td>\n",
       "      <td>55%</td>\n",
       "      <td>39%</td>\n",
       "      <td>6%</td>\n",
       "      <td>NaN</td>\n",
       "      <td>NaN</td>\n",
       "      <td>8.5 x 1.01 x 11 inches</td>\n",
       "      <td>2.53 pounds</td>\n",
       "      <td>English</td>\n",
       "      <td>Notion Press Media Pvt Ltd (November 22, 2021)</td>\n",
       "      <td>978-1685549596</td>\n",
       "      <td>/Data-Analysis-Using-Low-Priced/dp/1685549594/...</td>\n",
       "      <td>https://www.amazon.com/Data-Analysis-Using-Low...</td>\n",
       "    </tr>\n",
       "    <tr>\n",
       "      <th>1</th>\n",
       "      <td>Head First Data Analysis: A learner's guide to...</td>\n",
       "      <td>NaN</td>\n",
       "      <td>33.72</td>\n",
       "      <td>21.49 - 33.72</td>\n",
       "      <td>484</td>\n",
       "      <td>4.3</td>\n",
       "      <td>124</td>\n",
       "      <td>61%</td>\n",
       "      <td>20%</td>\n",
       "      <td>9%</td>\n",
       "      <td>4%</td>\n",
       "      <td>6%</td>\n",
       "      <td>8 x 0.98 x 9.25 inches</td>\n",
       "      <td>1.96 pounds</td>\n",
       "      <td>English</td>\n",
       "      <td>O'Reilly Media; 1st edition (August 18, 2009)</td>\n",
       "      <td>978-0596153939</td>\n",
       "      <td>/Head-First-Data-Analysis-statistics/dp/059615...</td>\n",
       "      <td>https://www.amazon.com/Head-First-Data-Analysi...</td>\n",
       "    </tr>\n",
       "    <tr>\n",
       "      <th>2</th>\n",
       "      <td>Guerrilla Data Analysis Using Microsoft Excel:...</td>\n",
       "      <td>[ Oz du Soleil,  and , Bill Jelen]</td>\n",
       "      <td>32.07</td>\n",
       "      <td>32.07</td>\n",
       "      <td>274</td>\n",
       "      <td>4.7</td>\n",
       "      <td>10</td>\n",
       "      <td>87%</td>\n",
       "      <td>13%</td>\n",
       "      <td>NaN</td>\n",
       "      <td>NaN</td>\n",
       "      <td>NaN</td>\n",
       "      <td>8.25 x 0.6 x 10.75 inches</td>\n",
       "      <td>1.4 pounds</td>\n",
       "      <td>English</td>\n",
       "      <td>Holy Macro! Books; Third edition (August 1, 2022)</td>\n",
       "      <td>978-1615470747</td>\n",
       "      <td>/Guerrilla-Analysis-Using-Microsoft-Excel/dp/1...</td>\n",
       "      <td>https://www.amazon.com/Guerrilla-Analysis-Usin...</td>\n",
       "    </tr>\n",
       "    <tr>\n",
       "      <th>3</th>\n",
       "      <td>Python for Data Analysis: Data Wrangling with ...</td>\n",
       "      <td>[ William McKinney]</td>\n",
       "      <td>53.99</td>\n",
       "      <td>53.99</td>\n",
       "      <td>547</td>\n",
       "      <td>4.6</td>\n",
       "      <td>1,686</td>\n",
       "      <td>75%</td>\n",
       "      <td>16%</td>\n",
       "      <td>5%</td>\n",
       "      <td>2%</td>\n",
       "      <td>2%</td>\n",
       "      <td>7 x 1.11 x 9.19 inches</td>\n",
       "      <td>1.47 pounds</td>\n",
       "      <td>English</td>\n",
       "      <td>O'Reilly Media; 2nd edition (November 14, 2017)</td>\n",
       "      <td>978-1491957660</td>\n",
       "      <td>/Python-Data-Analysis-Wrangling-IPython/dp/149...</td>\n",
       "      <td>https://www.amazon.com/Python-Data-Analysis-Wr...</td>\n",
       "    </tr>\n",
       "    <tr>\n",
       "      <th>4</th>\n",
       "      <td>Excel Data Analysis For Dummies (For Dummies (...</td>\n",
       "      <td>[ Paul McFedries]</td>\n",
       "      <td>24.49</td>\n",
       "      <td>24.49</td>\n",
       "      <td>368</td>\n",
       "      <td>3.9</td>\n",
       "      <td>12</td>\n",
       "      <td>52%</td>\n",
       "      <td>17%</td>\n",
       "      <td>10%</td>\n",
       "      <td>10%</td>\n",
       "      <td>10%</td>\n",
       "      <td>7.38 x 0.83 x 9.25 inches</td>\n",
       "      <td>1.3 pounds</td>\n",
       "      <td>English</td>\n",
       "      <td>For Dummies; 5th edition (February 3, 2022)</td>\n",
       "      <td>978-1119844426</td>\n",
       "      <td>/Excel-Data-Analysis-Dummies-Computer/dp/11198...</td>\n",
       "      <td>https://www.amazon.com/Excel-Data-Analysis-Dum...</td>\n",
       "    </tr>\n",
       "  </tbody>\n",
       "</table>\n",
       "</div>"
      ],
      "text/plain": [
       "                                               title  \\\n",
       "0  Data Analysis Using R (Low Priced Edition): A ...   \n",
       "1  Head First Data Analysis: A learner's guide to...   \n",
       "2  Guerrilla Data Analysis Using Microsoft Excel:...   \n",
       "3  Python for Data Analysis: Data Wrangling with ...   \n",
       "4  Excel Data Analysis For Dummies (For Dummies (...   \n",
       "\n",
       "                               author  price price (including used books)  \\\n",
       "0                 [ Dr Dhaval Maheta]   6.75                         6.75   \n",
       "1                                 NaN  33.72               21.49 - 33.72    \n",
       "2  [ Oz du Soleil,  and , Bill Jelen]  32.07                        32.07   \n",
       "3                 [ William McKinney]  53.99                        53.99   \n",
       "4                   [ Paul McFedries]  24.49                        24.49   \n",
       "\n",
       "  pages  avg_reviews n_reviews star5 star4 star3 star2 star1  \\\n",
       "0   500          4.4        23   55%   39%    6%   NaN   NaN   \n",
       "1   484          4.3       124   61%   20%    9%    4%    6%   \n",
       "2   274          4.7        10   87%   13%   NaN   NaN   NaN   \n",
       "3   547          4.6     1,686   75%   16%    5%    2%    2%   \n",
       "4   368          3.9        12   52%   17%   10%   10%   10%   \n",
       "\n",
       "                  dimensions       weight language  \\\n",
       "0     8.5 x 1.01 x 11 inches  2.53 pounds  English   \n",
       "1     8 x 0.98 x 9.25 inches  1.96 pounds  English   \n",
       "2  8.25 x 0.6 x 10.75 inches   1.4 pounds  English   \n",
       "3     7 x 1.11 x 9.19 inches  1.47 pounds  English   \n",
       "4  7.38 x 0.83 x 9.25 inches   1.3 pounds  English   \n",
       "\n",
       "                                           publisher         ISBN_13  \\\n",
       "0     Notion Press Media Pvt Ltd (November 22, 2021)  978-1685549596   \n",
       "1      O'Reilly Media; 1st edition (August 18, 2009)  978-0596153939   \n",
       "2  Holy Macro! Books; Third edition (August 1, 2022)  978-1615470747   \n",
       "3    O'Reilly Media; 2nd edition (November 14, 2017)  978-1491957660   \n",
       "4        For Dummies; 5th edition (February 3, 2022)  978-1119844426   \n",
       "\n",
       "                                                link  \\\n",
       "0  /Data-Analysis-Using-Low-Priced/dp/1685549594/...   \n",
       "1  /Head-First-Data-Analysis-statistics/dp/059615...   \n",
       "2  /Guerrilla-Analysis-Using-Microsoft-Excel/dp/1...   \n",
       "3  /Python-Data-Analysis-Wrangling-IPython/dp/149...   \n",
       "4  /Excel-Data-Analysis-Dummies-Computer/dp/11198...   \n",
       "\n",
       "                                       complete_link  \n",
       "0  https://www.amazon.com/Data-Analysis-Using-Low...  \n",
       "1  https://www.amazon.com/Head-First-Data-Analysi...  \n",
       "2  https://www.amazon.com/Guerrilla-Analysis-Usin...  \n",
       "3  https://www.amazon.com/Python-Data-Analysis-Wr...  \n",
       "4  https://www.amazon.com/Excel-Data-Analysis-Dum...  "
      ]
     },
     "execution_count": 3,
     "metadata": {},
     "output_type": "execute_result"
    }
   ],
   "source": [
    "data.head()"
   ]
  },
  {
   "cell_type": "code",
   "execution_count": 4,
   "id": "3f218e29-ba1c-4433-8e41-778281cf445f",
   "metadata": {
    "tags": []
   },
   "outputs": [
    {
     "data": {
      "text/plain": [
       "Index(['title', 'author', 'price', 'price (including used books)', 'pages',\n",
       "       'avg_reviews', 'n_reviews', 'star5', 'star4', 'star3', 'star2', 'star1',\n",
       "       'dimensions', 'weight', 'language', 'publisher', 'ISBN_13', 'link',\n",
       "       'complete_link'],\n",
       "      dtype='object')"
      ]
     },
     "execution_count": 4,
     "metadata": {},
     "output_type": "execute_result"
    }
   ],
   "source": [
    "data.columns"
   ]
  },
  {
   "cell_type": "markdown",
   "id": "f7e72271-0501-43be-8c75-afe10718e13c",
   "metadata": {},
   "source": [
    "# Dataset cleaning process"
   ]
  },
  {
   "cell_type": "markdown",
   "id": "64bd4d68-eca0-4640-a0b3-6583f59cbd4d",
   "metadata": {},
   "source": [
    "## Subset of the raw data"
   ]
  },
  {
   "cell_type": "code",
   "execution_count": 5,
   "id": "234e9764-c457-44eb-adeb-56acf16e437f",
   "metadata": {
    "tags": []
   },
   "outputs": [],
   "source": [
    "df = data['title, author, price, pages, language, publisher, ISBN_13, complete_link'.split(', ')]"
   ]
  },
  {
   "cell_type": "code",
   "execution_count": 6,
   "id": "2b211737-7151-4681-be8d-489a9bf572d9",
   "metadata": {
    "tags": []
   },
   "outputs": [
    {
     "data": {
      "text/plain": [
       "Index(['title', 'author', 'price', 'pages', 'language', 'publisher', 'ISBN_13',\n",
       "       'complete_link'],\n",
       "      dtype='object')"
      ]
     },
     "execution_count": 6,
     "metadata": {},
     "output_type": "execute_result"
    }
   ],
   "source": [
    "df.columns"
   ]
  },
  {
   "cell_type": "markdown",
   "id": "83926fa6-7210-4b62-8545-3a867d910ca1",
   "metadata": {},
   "source": [
    "## Clean `author`"
   ]
  },
  {
   "cell_type": "code",
   "execution_count": 7,
   "id": "cc7ede8c-b2c8-4768-82b3-ab87dbb1df28",
   "metadata": {},
   "outputs": [
    {
     "data": {
      "text/plain": [
       "830"
      ]
     },
     "execution_count": 7,
     "metadata": {},
     "output_type": "execute_result"
    }
   ],
   "source": [
    "df.author.isna().count()"
   ]
  },
  {
   "cell_type": "code",
   "execution_count": 8,
   "id": "60ed451c-b9c4-4ba0-bde5-9af68b7f4191",
   "metadata": {
    "tags": []
   },
   "outputs": [],
   "source": [
    "def clean_author(value):\n",
    "\tif value == value:\n",
    "\t\treturn value.lstrip('[ ').rstrip(']').replace(',  and ,', ' and')\n",
    "\telse:\n",
    "\t\treturn value"
   ]
  },
  {
   "cell_type": "code",
   "execution_count": 9,
   "id": "7bb1c636-d201-4aeb-9309-08708dfe8b51",
   "metadata": {
    "tags": []
   },
   "outputs": [
    {
     "name": "stderr",
     "output_type": "stream",
     "text": [
      "/tmp/ipykernel_2990/4174911401.py:1: SettingWithCopyWarning: \n",
      "A value is trying to be set on a copy of a slice from a DataFrame.\n",
      "Try using .loc[row_indexer,col_indexer] = value instead\n",
      "\n",
      "See the caveats in the documentation: https://pandas.pydata.org/pandas-docs/stable/user_guide/indexing.html#returning-a-view-versus-a-copy\n",
      "  df.author = df.author.apply(clean_author)\n"
     ]
    }
   ],
   "source": [
    "df.author = df.author.apply(clean_author)"
   ]
  },
  {
   "cell_type": "code",
   "execution_count": 10,
   "id": "2cf1e3ce-cce7-4cba-ad88-1933416239d9",
   "metadata": {
    "tags": []
   },
   "outputs": [
    {
     "data": {
      "text/html": [
       "<div>\n",
       "<style scoped>\n",
       "    .dataframe tbody tr th:only-of-type {\n",
       "        vertical-align: middle;\n",
       "    }\n",
       "\n",
       "    .dataframe tbody tr th {\n",
       "        vertical-align: top;\n",
       "    }\n",
       "\n",
       "    .dataframe thead th {\n",
       "        text-align: right;\n",
       "    }\n",
       "</style>\n",
       "<table border=\"1\" class=\"dataframe\">\n",
       "  <thead>\n",
       "    <tr style=\"text-align: right;\">\n",
       "      <th></th>\n",
       "      <th>title</th>\n",
       "      <th>author</th>\n",
       "      <th>price</th>\n",
       "      <th>pages</th>\n",
       "      <th>language</th>\n",
       "      <th>publisher</th>\n",
       "      <th>ISBN_13</th>\n",
       "      <th>complete_link</th>\n",
       "    </tr>\n",
       "  </thead>\n",
       "  <tbody>\n",
       "    <tr>\n",
       "      <th>514</th>\n",
       "      <td>Bayesian Analysis with Python: Introduction to...</td>\n",
       "      <td>Osvaldo Martin</td>\n",
       "      <td>46.99</td>\n",
       "      <td>356</td>\n",
       "      <td>English</td>\n",
       "      <td>Packt Publishing (December 26, 2018)</td>\n",
       "      <td>978-1789341652</td>\n",
       "      <td>https://www.amazon.com/gp/slredirect/picassoRe...</td>\n",
       "    </tr>\n",
       "    <tr>\n",
       "      <th>396</th>\n",
       "      <td>Introduction to Synthetic Aperture Radar Using...</td>\n",
       "      <td>Lee Andrew (Andy) Harrison</td>\n",
       "      <td>151.59</td>\n",
       "      <td>390</td>\n",
       "      <td>English</td>\n",
       "      <td>Artech House (August 31, 2022)</td>\n",
       "      <td></td>\n",
       "      <td>https://www.amazon.com/Introduction-Synthetic-...</td>\n",
       "    </tr>\n",
       "    <tr>\n",
       "      <th>141</th>\n",
       "      <td>Learn Selenium: Build data-driven test framewo...</td>\n",
       "      <td>Unmesh Gundecha and Carl Cocchiaro</td>\n",
       "      <td>49.99</td>\n",
       "      <td>536</td>\n",
       "      <td>English</td>\n",
       "      <td>Packt Publishing (July 18, 2019)</td>\n",
       "      <td>978-1838983048</td>\n",
       "      <td>https://www.amazon.com/Learn-Selenium-data-dri...</td>\n",
       "    </tr>\n",
       "    <tr>\n",
       "      <th>733</th>\n",
       "      <td>The Tableau Workshop: A practical guide to the...</td>\n",
       "      <td>Sumit Gupta, Sylvester Pinto, et al.</td>\n",
       "      <td>46.99</td>\n",
       "      <td>822</td>\n",
       "      <td>English</td>\n",
       "      <td>Packt Publishing (April 28, 2022)</td>\n",
       "      <td>978-1800207653</td>\n",
       "      <td>https://www.amazon.com/gp/slredirect/picassoRe...</td>\n",
       "    </tr>\n",
       "    <tr>\n",
       "      <th>110</th>\n",
       "      <td>Python Data Analysis - Second Edition</td>\n",
       "      <td>Armando Fandango</td>\n",
       "      <td>51.99</td>\n",
       "      <td>330</td>\n",
       "      <td>English</td>\n",
       "      <td>Packt Publishing; 2nd Revised edition (March 2...</td>\n",
       "      <td>978-1787127487</td>\n",
       "      <td>https://www.amazon.com/Python-Data-Analysis-Ar...</td>\n",
       "    </tr>\n",
       "    <tr>\n",
       "      <th>260</th>\n",
       "      <td>The Data Lakehouse Architecture</td>\n",
       "      <td>Bill Inmon and Ranjeet Srivastava</td>\n",
       "      <td>49.95</td>\n",
       "      <td>162</td>\n",
       "      <td>English</td>\n",
       "      <td>Technics Publications (November 7, 2022)</td>\n",
       "      <td>978-1634622783</td>\n",
       "      <td>https://www.amazon.com/Data-Lakehouse-Architec...</td>\n",
       "    </tr>\n",
       "    <tr>\n",
       "      <th>12</th>\n",
       "      <td>Python for Beginners: 2 Books in 1: The Perfec...</td>\n",
       "      <td>Programming Languages Academy, Matthew Kinsey,...</td>\n",
       "      <td>NaN</td>\n",
       "      <td>NaN</td>\n",
       "      <td>NaN</td>\n",
       "      <td>NaN</td>\n",
       "      <td>NaN</td>\n",
       "      <td>https://www.amazon.com/Python-Beginners-Perfec...</td>\n",
       "    </tr>\n",
       "    <tr>\n",
       "      <th>177</th>\n",
       "      <td>Data Analysis in High Energy Physics: A Practi...</td>\n",
       "      <td>Olaf Behnke, Kevin Kröninger, et al.</td>\n",
       "      <td>89.00</td>\n",
       "      <td>658</td>\n",
       "      <td>English</td>\n",
       "      <td>Wiley-VCH; 1st edition (August 30, 2013)</td>\n",
       "      <td>NaN</td>\n",
       "      <td>https://www.amazon.com/Data-Analysis-High-Ener...</td>\n",
       "    </tr>\n",
       "    <tr>\n",
       "      <th>94</th>\n",
       "      <td>Introduction to Machine Learning with R: Rigor...</td>\n",
       "      <td>Scott V. Burger</td>\n",
       "      <td>40.49</td>\n",
       "      <td>226</td>\n",
       "      <td>English</td>\n",
       "      <td>O'Reilly Media; 1st edition (April 17, 2018)</td>\n",
       "      <td>978-1491976449</td>\n",
       "      <td>https://www.amazon.com/Introduction-Machine-Le...</td>\n",
       "    </tr>\n",
       "    <tr>\n",
       "      <th>62</th>\n",
       "      <td>Data Structures and Algorithm Analysis in Java...</td>\n",
       "      <td>Mark Allen Weiss</td>\n",
       "      <td>69.00</td>\n",
       "      <td>640</td>\n",
       "      <td>English</td>\n",
       "      <td>Pearson Education; International ed of 3rd rev...</td>\n",
       "      <td></td>\n",
       "      <td>https://www.amazon.com/Structures-Algorithm-An...</td>\n",
       "    </tr>\n",
       "  </tbody>\n",
       "</table>\n",
       "</div>"
      ],
      "text/plain": [
       "                                                 title  \\\n",
       "514  Bayesian Analysis with Python: Introduction to...   \n",
       "396  Introduction to Synthetic Aperture Radar Using...   \n",
       "141  Learn Selenium: Build data-driven test framewo...   \n",
       "733  The Tableau Workshop: A practical guide to the...   \n",
       "110              Python Data Analysis - Second Edition   \n",
       "260                    The Data Lakehouse Architecture   \n",
       "12   Python for Beginners: 2 Books in 1: The Perfec...   \n",
       "177  Data Analysis in High Energy Physics: A Practi...   \n",
       "94   Introduction to Machine Learning with R: Rigor...   \n",
       "62   Data Structures and Algorithm Analysis in Java...   \n",
       "\n",
       "                                                author   price pages language  \\\n",
       "514                                     Osvaldo Martin   46.99   356  English   \n",
       "396                         Lee Andrew (Andy) Harrison  151.59   390  English   \n",
       "141                 Unmesh Gundecha and Carl Cocchiaro   49.99   536  English   \n",
       "733               Sumit Gupta, Sylvester Pinto, et al.   46.99   822  English   \n",
       "110                                   Armando Fandango   51.99   330  English   \n",
       "260                  Bill Inmon and Ranjeet Srivastava   49.95   162  English   \n",
       "12   Programming Languages Academy, Matthew Kinsey,...     NaN   NaN      NaN   \n",
       "177               Olaf Behnke, Kevin Kröninger, et al.   89.00   658  English   \n",
       "94                                     Scott V. Burger   40.49   226  English   \n",
       "62                                    Mark Allen Weiss   69.00   640  English   \n",
       "\n",
       "                                             publisher         ISBN_13  \\\n",
       "514               Packt Publishing (December 26, 2018)  978-1789341652   \n",
       "396                     Artech House (August 31, 2022)                   \n",
       "141                   Packt Publishing (July 18, 2019)  978-1838983048   \n",
       "733                  Packt Publishing (April 28, 2022)  978-1800207653   \n",
       "110  Packt Publishing; 2nd Revised edition (March 2...  978-1787127487   \n",
       "260           Technics Publications (November 7, 2022)  978-1634622783   \n",
       "12                                                 NaN             NaN   \n",
       "177           Wiley-VCH; 1st edition (August 30, 2013)             NaN   \n",
       "94        O'Reilly Media; 1st edition (April 17, 2018)  978-1491976449   \n",
       "62   Pearson Education; International ed of 3rd rev...                   \n",
       "\n",
       "                                         complete_link  \n",
       "514  https://www.amazon.com/gp/slredirect/picassoRe...  \n",
       "396  https://www.amazon.com/Introduction-Synthetic-...  \n",
       "141  https://www.amazon.com/Learn-Selenium-data-dri...  \n",
       "733  https://www.amazon.com/gp/slredirect/picassoRe...  \n",
       "110  https://www.amazon.com/Python-Data-Analysis-Ar...  \n",
       "260  https://www.amazon.com/Data-Lakehouse-Architec...  \n",
       "12   https://www.amazon.com/Python-Beginners-Perfec...  \n",
       "177  https://www.amazon.com/Data-Analysis-High-Ener...  \n",
       "94   https://www.amazon.com/Introduction-Machine-Le...  \n",
       "62   https://www.amazon.com/Structures-Algorithm-An...  "
      ]
     },
     "execution_count": 10,
     "metadata": {},
     "output_type": "execute_result"
    }
   ],
   "source": [
    "df.sample(10)"
   ]
  },
  {
   "cell_type": "markdown",
   "id": "754bbece-e02f-4454-9dd9-bd9d92e4d147",
   "metadata": {},
   "source": [
    "## Clean `pages`"
   ]
  },
  {
   "cell_type": "markdown",
   "id": "f675699c-371e-4df1-b235-704be1c22f12",
   "metadata": {},
   "source": [
    "There's an error when trying to convert prices to float:  \n",
    "`ValueError: could not convert string to float: 'Explores all feature...`  \n",
    "Some values content comments, so I need to clean the price columns first."
   ]
  },
  {
   "cell_type": "code",
   "execution_count": 11,
   "id": "29129977-219e-47ed-9662-9acd1caaf7bf",
   "metadata": {
    "tags": []
   },
   "outputs": [],
   "source": [
    "#df.pages.astype(float)"
   ]
  },
  {
   "cell_type": "markdown",
   "id": "3a0fca49-e303-4c51-a5d8-f76d43841799",
   "metadata": {},
   "source": [
    "I will figure out what's the maximum lenght of the figures in pages column. I will try to convert to float those values of a maximum length. If it raises an error, it means there are values that are strings. In that case, I try using a shorter length for figures."
   ]
  },
  {
   "cell_type": "markdown",
   "id": "d6d8a00d-dbdb-4aed-84a7-ffaebc6dfc0f",
   "metadata": {},
   "source": [
    "Length 5 raises an error, but maximum length of pages figure of 4 doesn't."
   ]
  },
  {
   "cell_type": "code",
   "execution_count": 12,
   "id": "f2fe7ea1-ade0-4cbf-b8ee-6854e0a2a2f7",
   "metadata": {},
   "outputs": [],
   "source": [
    "#df.pages[df.pages.str.len() <=5].astype(float)"
   ]
  },
  {
   "cell_type": "code",
   "execution_count": 13,
   "id": "ca5555b8-6f48-4284-97e4-b41dcc6dd0bf",
   "metadata": {},
   "outputs": [
    {
     "data": {
      "text/plain": [
       "0      500.0\n",
       "1      484.0\n",
       "2      274.0\n",
       "3      547.0\n",
       "4      368.0\n",
       "       ...  \n",
       "822    165.0\n",
       "824    280.0\n",
       "825    208.0\n",
       "826    573.0\n",
       "827    288.0\n",
       "Name: pages, Length: 736, dtype: float64"
      ]
     },
     "execution_count": 13,
     "metadata": {},
     "output_type": "execute_result"
    }
   ],
   "source": [
    "df.pages[df.pages.str.len() <=4].astype(float)"
   ]
  },
  {
   "cell_type": "markdown",
   "id": "df6bde07-e442-48ab-88e3-03db35e69f64",
   "metadata": {},
   "source": [
    "Now I know that values longer than 4 are comments. Shorter values correspond to pages number, so there won't be a comment (use NaN). With this information I create a column with comments."
   ]
  },
  {
   "cell_type": "code",
   "execution_count": 14,
   "id": "ad97ced6-74ec-4cd6-a597-aea9359c4879",
   "metadata": {
    "tags": []
   },
   "outputs": [
    {
     "name": "stderr",
     "output_type": "stream",
     "text": [
      "/tmp/ipykernel_2990/3878540880.py:1: SettingWithCopyWarning: \n",
      "A value is trying to be set on a copy of a slice from a DataFrame.\n",
      "Try using .loc[row_indexer,col_indexer] = value instead\n",
      "\n",
      "See the caveats in the documentation: https://pandas.pydata.org/pandas-docs/stable/user_guide/indexing.html#returning-a-view-versus-a-copy\n",
      "  df['comments'] = np.where(df.pages.str.len() >= 5, df.pages, np.nan)\n"
     ]
    }
   ],
   "source": [
    "df['comments'] = np.where(df.pages.str.len() >= 5, df.pages, np.nan)"
   ]
  },
  {
   "cell_type": "markdown",
   "id": "46419c90-e0c1-4af1-b9a8-6c29fb0061fd",
   "metadata": {},
   "source": [
    "Now let's finally clean the pages column."
   ]
  },
  {
   "cell_type": "code",
   "execution_count": 15,
   "id": "6ec72bf5-405e-4fb4-b81e-25a4af6161c5",
   "metadata": {
    "tags": []
   },
   "outputs": [
    {
     "name": "stderr",
     "output_type": "stream",
     "text": [
      "/tmp/ipykernel_2990/108972310.py:1: SettingWithCopyWarning: \n",
      "A value is trying to be set on a copy of a slice from a DataFrame.\n",
      "Try using .loc[row_indexer,col_indexer] = value instead\n",
      "\n",
      "See the caveats in the documentation: https://pandas.pydata.org/pandas-docs/stable/user_guide/indexing.html#returning-a-view-versus-a-copy\n",
      "  df.pages = np.where(df.pages.str.len() <= 4, df.pages, np.nan).astype(float)\n"
     ]
    }
   ],
   "source": [
    "df.pages = np.where(df.pages.str.len() <= 4, df.pages, np.nan).astype(float)"
   ]
  },
  {
   "cell_type": "code",
   "execution_count": 16,
   "id": "9764b855-73d9-4371-8b4f-4f29bd17ed18",
   "metadata": {
    "tags": []
   },
   "outputs": [
    {
     "data": {
      "text/html": [
       "<div>\n",
       "<style scoped>\n",
       "    .dataframe tbody tr th:only-of-type {\n",
       "        vertical-align: middle;\n",
       "    }\n",
       "\n",
       "    .dataframe tbody tr th {\n",
       "        vertical-align: top;\n",
       "    }\n",
       "\n",
       "    .dataframe thead th {\n",
       "        text-align: right;\n",
       "    }\n",
       "</style>\n",
       "<table border=\"1\" class=\"dataframe\">\n",
       "  <thead>\n",
       "    <tr style=\"text-align: right;\">\n",
       "      <th></th>\n",
       "      <th>title</th>\n",
       "      <th>author</th>\n",
       "      <th>price</th>\n",
       "      <th>pages</th>\n",
       "      <th>language</th>\n",
       "      <th>publisher</th>\n",
       "      <th>ISBN_13</th>\n",
       "      <th>complete_link</th>\n",
       "      <th>comments</th>\n",
       "    </tr>\n",
       "  </thead>\n",
       "  <tbody>\n",
       "    <tr>\n",
       "      <th>655</th>\n",
       "      <td>The Self-Taught Computer Scientist: The Beginn...</td>\n",
       "      <td>Cory Althoff</td>\n",
       "      <td>19.49</td>\n",
       "      <td>224.0</td>\n",
       "      <td>English</td>\n",
       "      <td>Wiley; 1st edition (October 1, 2021)</td>\n",
       "      <td>978-1119724414</td>\n",
       "      <td>https://www.amazon.com/Self-Taught-Computer-Sc...</td>\n",
       "      <td>NaN</td>\n",
       "    </tr>\n",
       "    <tr>\n",
       "      <th>287</th>\n",
       "      <td>Qualitative Data Analysis: Practical Strategies</td>\n",
       "      <td>Pat Bazeley</td>\n",
       "      <td>54.08</td>\n",
       "      <td>584.0</td>\n",
       "      <td>English</td>\n",
       "      <td>SAGE Publications Ltd; Second edition (Decembe...</td>\n",
       "      <td>978-1526404763</td>\n",
       "      <td>https://www.amazon.com/Qualitative-Data-Analys...</td>\n",
       "      <td>NaN</td>\n",
       "    </tr>\n",
       "    <tr>\n",
       "      <th>584</th>\n",
       "      <td>The Recursive Book of Recursion: Ace the Codin...</td>\n",
       "      <td>Al Sweigart</td>\n",
       "      <td>35.99</td>\n",
       "      <td>328.0</td>\n",
       "      <td>English</td>\n",
       "      <td>No Starch Press (August 16, 2022)</td>\n",
       "      <td>978-1718502024</td>\n",
       "      <td>https://www.amazon.com/Recursive-Book-Recursio...</td>\n",
       "      <td>NaN</td>\n",
       "    </tr>\n",
       "    <tr>\n",
       "      <th>102</th>\n",
       "      <td>Pharmacokinetic and Pharmacodynamic Data Analy...</td>\n",
       "      <td>Johan Gabrielsson and Daniel Weiner</td>\n",
       "      <td>233.60</td>\n",
       "      <td>1040.0</td>\n",
       "      <td>English</td>\n",
       "      <td>Swedish Pharmaceutical Press; 5th edition (Jan...</td>\n",
       "      <td>978-9198299106</td>\n",
       "      <td>https://www.amazon.com/Pharmacokinetic-Pharmac...</td>\n",
       "      <td>NaN</td>\n",
       "    </tr>\n",
       "    <tr>\n",
       "      <th>64</th>\n",
       "      <td>Machine Learning Explained The Simple Way: A B...</td>\n",
       "      <td>Santos Ozoemena</td>\n",
       "      <td>11.97</td>\n",
       "      <td>216.0</td>\n",
       "      <td>English</td>\n",
       "      <td>Independently published (October 31, 2022)</td>\n",
       "      <td>979-8803622086</td>\n",
       "      <td>https://www.amazon.com/Machine-Learning-Explai...</td>\n",
       "      <td>NaN</td>\n",
       "    </tr>\n",
       "  </tbody>\n",
       "</table>\n",
       "</div>"
      ],
      "text/plain": [
       "                                                 title  \\\n",
       "655  The Self-Taught Computer Scientist: The Beginn...   \n",
       "287    Qualitative Data Analysis: Practical Strategies   \n",
       "584  The Recursive Book of Recursion: Ace the Codin...   \n",
       "102  Pharmacokinetic and Pharmacodynamic Data Analy...   \n",
       "64   Machine Learning Explained The Simple Way: A B...   \n",
       "\n",
       "                                  author   price   pages language  \\\n",
       "655                         Cory Althoff   19.49   224.0  English   \n",
       "287                          Pat Bazeley   54.08   584.0  English   \n",
       "584                          Al Sweigart   35.99   328.0  English   \n",
       "102  Johan Gabrielsson and Daniel Weiner  233.60  1040.0  English   \n",
       "64                       Santos Ozoemena   11.97   216.0  English   \n",
       "\n",
       "                                             publisher         ISBN_13  \\\n",
       "655               Wiley; 1st edition (October 1, 2021)  978-1119724414   \n",
       "287  SAGE Publications Ltd; Second edition (Decembe...  978-1526404763   \n",
       "584                  No Starch Press (August 16, 2022)  978-1718502024   \n",
       "102  Swedish Pharmaceutical Press; 5th edition (Jan...  978-9198299106   \n",
       "64          Independently published (October 31, 2022)  979-8803622086   \n",
       "\n",
       "                                         complete_link comments  \n",
       "655  https://www.amazon.com/Self-Taught-Computer-Sc...      NaN  \n",
       "287  https://www.amazon.com/Qualitative-Data-Analys...      NaN  \n",
       "584  https://www.amazon.com/Recursive-Book-Recursio...      NaN  \n",
       "102  https://www.amazon.com/Pharmacokinetic-Pharmac...      NaN  \n",
       "64   https://www.amazon.com/Machine-Learning-Explai...      NaN  "
      ]
     },
     "execution_count": 16,
     "metadata": {},
     "output_type": "execute_result"
    }
   ],
   "source": [
    "df.sample(5)"
   ]
  },
  {
   "cell_type": "markdown",
   "id": "330a0ad2-b639-4264-b580-71a68520f870",
   "metadata": {},
   "source": [
    "## Clean `language`"
   ]
  },
  {
   "cell_type": "code",
   "execution_count": 17,
   "id": "8a942aa8-29e7-468a-8dd9-4b1ee4bf4bd5",
   "metadata": {
    "tags": []
   },
   "outputs": [
    {
     "data": {
      "text/plain": [
       "array(['English', nan, 'Spanish',\n",
       "       'Unqualified, Japanese (Dolby Digital 2.0 Mono), English (Dolby Digital 5.1), English (Dolby Digital 2.0 Mono)',\n",
       "       'you will discover all you need ',\n",
       "       '• How to make better business decisions using ',\n",
       "       'Concepts are presented in a \"to-the-point\" style to cater to the busy individual. With this book, you can learn Python in just one day and start coding immediately. ',\n",
       "       'standard library',\n",
       "       'This Python programming guide assumes certain level of programming knowledge. It is not a beginner textbook.',\n",
       "       'Scroll to the top of the page and click the ',\n",
       "       'English (Dolby Digital 2.0 Mono)',\n",
       "       'English (DTS-HD Master Audio 5.1), French (DTS-HD 2.0)',\n",
       "       '\"Brilliant.\"'], dtype=object)"
      ]
     },
     "execution_count": 17,
     "metadata": {},
     "output_type": "execute_result"
    }
   ],
   "source": [
    "df.language.unique()"
   ]
  },
  {
   "cell_type": "markdown",
   "id": "e7a33e4f-6967-4d9a-b451-9a1b1e8b2e91",
   "metadata": {},
   "source": [
    "Some values have `English` or `Spanish` as language values. Some others have languages with other comments. Other values are just comments. This needs a more deep cleaning than previous columns."
   ]
  },
  {
   "cell_type": "markdown",
   "id": "ea031c7c-4bd3-4fbe-a0aa-1d6d959350ae",
   "metadata": {},
   "source": [
    "`language` values that don't have English, Spanish, Japanese or French, will be considered as comments."
   ]
  },
  {
   "cell_type": "markdown",
   "id": "84318391-4a72-4980-831d-a01c0745e025",
   "metadata": {},
   "source": [
    "Multiple conditions to check:"
   ]
  },
  {
   "cell_type": "code",
   "execution_count": 18,
   "id": "c0c9f13f-30f1-4d99-8855-fbae5b0a350e",
   "metadata": {},
   "outputs": [],
   "source": [
    "contains_english = df.language.str.contains('English')\n",
    "contains_spanish = df.language.str.contains('Spanish')\n",
    "contains_japanese = df.language.str.contains('Japanese')\n",
    "contains_french = df.language.str.contains('French')"
   ]
  },
  {
   "cell_type": "markdown",
   "id": "4a1c5fc6-6d15-4809-8baa-940223948ad5",
   "metadata": {},
   "source": [
    "Extract all the values that don't contain information about language."
   ]
  },
  {
   "cell_type": "code",
   "execution_count": 19,
   "id": "e5f69f94-e72a-4c4d-938d-e720e465985c",
   "metadata": {},
   "outputs": [],
   "source": [
    "not_language_info = ~(contains_english | contains_spanish | contains_japanese | contains_french | df.language.isnull() )"
   ]
  },
  {
   "cell_type": "code",
   "execution_count": 20,
   "id": "cfd98389-67bd-4260-b85a-cb3a884ad903",
   "metadata": {},
   "outputs": [
    {
     "data": {
      "text/plain": [
       "54                       you will discover all you need \n",
       "290       • How to make better business decisions using \n",
       "381    Concepts are presented in a \"to-the-point\" sty...\n",
       "382                                     standard library\n",
       "476    This Python programming guide assumes certain ...\n",
       "492         Scroll to the top of the page and click the \n",
       "633                                         \"Brilliant.\"\n",
       "Name: language, dtype: object"
      ]
     },
     "execution_count": 20,
     "metadata": {},
     "output_type": "execute_result"
    }
   ],
   "source": [
    "df.language[not_language_info]"
   ]
  },
  {
   "cell_type": "markdown",
   "id": "3e6d8879-1394-4b13-aa06-328365b7b250",
   "metadata": {},
   "source": [
    "I will store the indexes of these rows, which do not contain some language information."
   ]
  },
  {
   "cell_type": "code",
   "execution_count": 21,
   "id": "5abe7404-5bfb-467a-94b7-c24796486dc4",
   "metadata": {},
   "outputs": [],
   "source": [
    "not_lang_indexes = df.language[not_language_info].index"
   ]
  },
  {
   "cell_type": "code",
   "execution_count": 22,
   "id": "5d141838-4eff-4494-b01e-435ffe8f8d99",
   "metadata": {},
   "outputs": [
    {
     "data": {
      "text/plain": [
       "Int64Index([54, 290, 381, 382, 476, 492, 633], dtype='int64')"
      ]
     },
     "execution_count": 22,
     "metadata": {},
     "output_type": "execute_result"
    }
   ],
   "source": [
    "not_lang_indexes"
   ]
  },
  {
   "cell_type": "markdown",
   "id": "94cfa309-5ae0-40a8-a670-26bdacf2425b",
   "metadata": {},
   "source": [
    "Now I will create a function to add these comments to the comments column"
   ]
  },
  {
   "cell_type": "markdown",
   "id": "029684ae-2342-4a02-b94c-4cc777d1c4ab",
   "metadata": {},
   "source": [
    "Check if these rows have already a comment"
   ]
  },
  {
   "cell_type": "code",
   "execution_count": 23,
   "id": "3106dec5-eb3a-4581-923c-8e6e1a634ef5",
   "metadata": {},
   "outputs": [
    {
     "data": {
      "text/plain": [
       "54       NaN\n",
       "290      NaN\n",
       "381      NaN\n",
       "382    1,000\n",
       "476      NaN\n",
       "492      NaN\n",
       "633      NaN\n",
       "Name: comments, dtype: object"
      ]
     },
     "execution_count": 23,
     "metadata": {},
     "output_type": "execute_result"
    }
   ],
   "source": [
    "df.loc[not_lang_indexes].comments"
   ]
  },
  {
   "cell_type": "markdown",
   "id": "ef852486-71de-463a-95cd-71fbb76136c4",
   "metadata": {},
   "source": [
    "I have just discovered that row 382 had a valid number of pages:  1000 pages. I sent his page number to comments. I will fix this before going further."
   ]
  },
  {
   "cell_type": "code",
   "execution_count": 24,
   "id": "321c7aee-ded2-43f0-b418-69d9a1c4e52d",
   "metadata": {
    "tags": []
   },
   "outputs": [],
   "source": [
    "df.loc[382, ['pages']] = 1000\n",
    "df.loc[382, ['comments']] = np.nan"
   ]
  },
  {
   "cell_type": "code",
   "execution_count": 25,
   "id": "ab9e233d-0a53-4645-9c05-a04be39bcdce",
   "metadata": {},
   "outputs": [
    {
     "data": {
      "text/plain": [
       "title            Python 3: The Comprehensive Guide to Hands-On ...\n",
       "author                           Johannes Ernesti and Peter Kaiser\n",
       "price                                                        55.48\n",
       "pages                                                       1000.0\n",
       "language                                          standard library\n",
       "publisher        Rheinwerk Computing; First edition (September ...\n",
       "ISBN_13                                             978-1493223022\n",
       "complete_link    https://www.amazon.com/gp/slredirect/picassoRe...\n",
       "comments                                                       NaN\n",
       "Name: 382, dtype: object"
      ]
     },
     "execution_count": 25,
     "metadata": {},
     "output_type": "execute_result"
    }
   ],
   "source": [
    "df.iloc[382]"
   ]
  },
  {
   "cell_type": "code",
   "execution_count": 26,
   "id": "f0263039-89cb-405d-8cf6-bbcb484cb67e",
   "metadata": {},
   "outputs": [
    {
     "data": {
      "text/plain": [
       "54     NaN\n",
       "290    NaN\n",
       "381    NaN\n",
       "382    NaN\n",
       "476    NaN\n",
       "492    NaN\n",
       "633    NaN\n",
       "Name: comments, dtype: object"
      ]
     },
     "execution_count": 26,
     "metadata": {},
     "output_type": "execute_result"
    }
   ],
   "source": [
    "df.loc[not_lang_indexes].comments"
   ]
  },
  {
   "cell_type": "markdown",
   "id": "0dbca003-0091-40fa-8945-42582cfa5f1b",
   "metadata": {},
   "source": [
    "Their comments values are NaN, so I will replace the with their values in column `language`"
   ]
  },
  {
   "cell_type": "code",
   "execution_count": 27,
   "id": "3cf9a75b-14d9-43ee-a004-61436b9d1f45",
   "metadata": {},
   "outputs": [],
   "source": [
    "df.loc[not_lang_indexes].comments = df.loc[not_lang_indexes].language"
   ]
  },
  {
   "cell_type": "markdown",
   "id": "e9956517-8146-49e9-9ce8-67be4dde98a1",
   "metadata": {},
   "source": [
    "Remove the comments from the `language` column:"
   ]
  },
  {
   "cell_type": "code",
   "execution_count": 28,
   "id": "29c36e98-222b-4936-ac9d-000e9003ce74",
   "metadata": {},
   "outputs": [],
   "source": [
    "df.loc[not_lang_indexes, ['language']] = np.nan"
   ]
  },
  {
   "cell_type": "markdown",
   "id": "41e72460-0848-4ce5-b841-f6cfe7ab3464",
   "metadata": {},
   "source": [
    "Now let's process the rest of the language values."
   ]
  },
  {
   "cell_type": "code",
   "execution_count": 29,
   "id": "7386b761-8aab-4713-b0d4-0537db711cea",
   "metadata": {},
   "outputs": [
    {
     "data": {
      "text/plain": [
       "array(['English', nan, 'Spanish',\n",
       "       'Unqualified, Japanese (Dolby Digital 2.0 Mono), English (Dolby Digital 5.1), English (Dolby Digital 2.0 Mono)',\n",
       "       'English (Dolby Digital 2.0 Mono)',\n",
       "       'English (DTS-HD Master Audio 5.1), French (DTS-HD 2.0)'],\n",
       "      dtype=object)"
      ]
     },
     "execution_count": 29,
     "metadata": {},
     "output_type": "execute_result"
    }
   ],
   "source": [
    "df.language.unique()"
   ]
  },
  {
   "cell_type": "markdown",
   "id": "1c3d78a7-4709-473a-9f7e-25837ecf1c91",
   "metadata": {},
   "source": [
    "There are only three types of language values which need cleaning, so I will create a function to clean them:"
   ]
  },
  {
   "cell_type": "code",
   "execution_count": 30,
   "id": "da56241f-94ac-452f-abda-040c23aa323c",
   "metadata": {},
   "outputs": [],
   "source": [
    "def clean_language(row):\n",
    "\tlang = row.language\n",
    "\tcomment = row.comments\n",
    "\tif lang == 'Unqualified, Japanese (Dolby Digital 2.0 Mono), English (Dolby Digital 5.1), English (Dolby Digital 2.0 Mono)' :\n",
    "\t\trow.language = 'English, Japanese'\n",
    "\t\tif comment != comment:  #check if comment is NaN\n",
    "\t\t\trow.comments = 'Avaliable languages: Japanese (Dolby Digital 2.0 Mono), English (Dolby Digital 5.1), English (Dolby Digital 2.0 Mono)'\n",
    "\t\telse:\n",
    "\t\t\trow.comments += ' Avaliable languages: Japanese (Dolby Digital 2.0 Mono), English (Dolby Digital 5.1), English (Dolby Digital 2.0 Mono)'\n",
    "\t\n",
    "\telif lang == 'English (Dolby Digital 2.0 Mono)' :\n",
    "\t\trow.language = 'English'\n",
    "\t\tif comment != comment:\n",
    "\t\t\trow.comments = 'English (Dolby Digital 2.0 Mono)'\n",
    "\t\telse:\n",
    "\t\t\trow.comments += 'English (Dolby Digital 2.0 Mono)'\n",
    "\t\n",
    "\telif lang == 'English (DTS-HD Master Audio 5.1), French (DTS-HD 2.0)' :\n",
    "\t\trow.language = 'English, French'\n",
    "\t\tif comment != comment :\n",
    "\t\t\trow.comments = 'English (DTS-HD Master Audio 5.1), French (DTS-HD 2.0)'\n",
    "\t\telse:\n",
    "\t\t\trow.comments += ' English (DTS-HD Master Audio 5.1), French (DTS-HD 2.0)'\n",
    "\treturn row"
   ]
  },
  {
   "cell_type": "code",
   "execution_count": 31,
   "id": "e21851ba-36f5-4185-a74f-9d4c9f720c7e",
   "metadata": {},
   "outputs": [],
   "source": [
    "df = df.apply(clean_language, axis=1)"
   ]
  },
  {
   "cell_type": "markdown",
   "id": "dac74903-1dd9-4f85-aab6-e4a8b2f97e74",
   "metadata": {},
   "source": [
    "Now the `language` column is clean:"
   ]
  },
  {
   "cell_type": "code",
   "execution_count": 32,
   "id": "934803cb-5f37-4069-b372-43857ac2071e",
   "metadata": {
    "tags": []
   },
   "outputs": [
    {
     "data": {
      "text/plain": [
       "array(['English', nan, 'Spanish', 'English, Japanese', 'English, French'],\n",
       "      dtype=object)"
      ]
     },
     "execution_count": 32,
     "metadata": {},
     "output_type": "execute_result"
    }
   ],
   "source": [
    "df.language.unique()"
   ]
  },
  {
   "cell_type": "markdown",
   "id": "0d5fca12-4ea5-4f93-90b7-c322303dfe08",
   "metadata": {},
   "source": [
    "## Clean `publisher`"
   ]
  },
  {
   "cell_type": "markdown",
   "id": "7a813d0f-d334-413a-8ce0-f4af8fa38af9",
   "metadata": {},
   "source": [
    "I want to extract the date of publishing and create a new `publishing_date` column."
   ]
  },
  {
   "cell_type": "code",
   "execution_count": 33,
   "id": "5001d571-fe66-4693-920a-30f9bcdc583e",
   "metadata": {
    "tags": []
   },
   "outputs": [
    {
     "data": {
      "text/plain": [
       "0         Notion Press Media Pvt Ltd (November 22, 2021)\n",
       "1          O'Reilly Media; 1st edition (August 18, 2009)\n",
       "2      Holy Macro! Books; Third edition (August 1, 2022)\n",
       "3        O'Reilly Media; 2nd edition (November 14, 2017)\n",
       "4            For Dummies; 5th edition (February 3, 2022)\n",
       "                             ...                        \n",
       "825            Corwin; First edition (December 15, 2017)\n",
       "826        Springer; 1st ed. 2020 edition (July 2, 2020)\n",
       "827                      Packt Publishing (July 8, 2022)\n",
       "828                                                  NaN\n",
       "829                                                  NaN\n",
       "Name: publisher, Length: 830, dtype: object"
      ]
     },
     "execution_count": 33,
     "metadata": {},
     "output_type": "execute_result"
    }
   ],
   "source": [
    "df.publisher"
   ]
  },
  {
   "cell_type": "markdown",
   "id": "0d425941-82db-4246-bcd8-2894618c08d3",
   "metadata": {},
   "source": [
    "Create a function to extract the publishing date from the values"
   ]
  },
  {
   "cell_type": "code",
   "execution_count": 34,
   "id": "2b95c79a-6aff-4512-ac93-a53347aeb157",
   "metadata": {
    "tags": []
   },
   "outputs": [],
   "source": [
    "def extract_date(value):\n",
    "    months = 'January February March April May June July August September October November December'.split(' ')\n",
    "    if value == value: \n",
    "        for month in months:\n",
    "            date_index = value.find(month)\n",
    "            if date_index != -1:  # returns -1 if string not found\n",
    "                publisher = value[:date_index].replace(' (', '')\n",
    "                date = value[date_index:-1]  # drop the closing parenthesis using [:-1]\n",
    "                return [publisher, date]\n",
    "        return [value, 'no date']\n",
    "    else:\n",
    "        return np.nan"
   ]
  },
  {
   "cell_type": "code",
   "execution_count": 35,
   "id": "246ed611-f9bb-44d3-82b8-682387df53a2",
   "metadata": {
    "tags": []
   },
   "outputs": [],
   "source": [
    "publish_info = df.publisher.apply(extract_date)"
   ]
  },
  {
   "cell_type": "code",
   "execution_count": 36,
   "id": "3930f97e-d715-4145-87db-a13fc79dabc9",
   "metadata": {
    "tags": []
   },
   "outputs": [
    {
     "data": {
      "text/plain": [
       "169          [CRC Press; 2nd edition, September 1, 2020]\n",
       "218           [Esri Press; Second edition, May 26, 2020]\n",
       "453    [No Starch Press; Flc Crds edition, January 15...\n",
       "787    [Dover Publications; 2nd Revised ed. edition, ...\n",
       "60      [Springer; 2nd ed. 2015 edition, April 22, 2015]\n",
       "Name: publisher, dtype: object"
      ]
     },
     "execution_count": 36,
     "metadata": {},
     "output_type": "execute_result"
    }
   ],
   "source": [
    "publish_info.sample(5)"
   ]
  },
  {
   "cell_type": "markdown",
   "id": "55542654-6a9f-4c59-8462-7d8f02bdc474",
   "metadata": {},
   "source": [
    "Check for `no date` values"
   ]
  },
  {
   "cell_type": "code",
   "execution_count": 44,
   "id": "f6c329a6-93a3-4aa6-bfc5-360ad7021524",
   "metadata": {
    "tags": []
   },
   "outputs": [
    {
     "data": {
      "text/plain": [
       "174    no date\n",
       "Name: publisher, dtype: object"
      ]
     },
     "execution_count": 44,
     "metadata": {},
     "output_type": "execute_result"
    }
   ],
   "source": [
    "dates = publish_info.dropna().apply(lambda x : x[1])\n",
    "dates [ dates =='no date']"
   ]
  },
  {
   "cell_type": "code",
   "execution_count": 46,
   "id": "198f3b0a-c88b-47b3-a782-d3844f64e2c2",
   "metadata": {
    "tags": []
   },
   "outputs": [
    {
     "data": {
      "text/plain": [
       "[';', 'no date']"
      ]
     },
     "execution_count": 46,
     "metadata": {},
     "output_type": "execute_result"
    }
   ],
   "source": [
    "publish_info.loc[174]"
   ]
  },
  {
   "cell_type": "markdown",
   "id": "8ba56eb2-e356-4588-a9e7-4deecf0e978f",
   "metadata": {},
   "source": [
    "I will check if there are any invalid values, in order to investigate them later."
   ]
  },
  {
   "cell_type": "markdown",
   "id": "3d477588-53cd-45d6-9b5a-40e76e791ca3",
   "metadata": {},
   "source": [
    "## WORKING ON FIXING THIS !!"
   ]
  },
  {
   "cell_type": "markdown",
   "id": "d28b7d6d-863f-40f8-9bf4-6156b8e578ce",
   "metadata": {},
   "source": [
    "It's just a value, so there's no need to create a function. I will set it to NaN."
   ]
  },
  {
   "cell_type": "code",
   "execution_count": 47,
   "id": "dfee438d-a5fc-40d9-96b0-e1c03aa8324b",
   "metadata": {
    "tags": []
   },
   "outputs": [],
   "source": [
    "df.loc[174, 'publisher'] = np.nan"
   ]
  },
  {
   "cell_type": "markdown",
   "id": "9e44908c-7515-480f-bd11-e203f94039ec",
   "metadata": {},
   "source": [
    "I create a new column: `publishing_date` :"
   ]
  },
  {
   "cell_type": "code",
   "execution_count": 50,
   "id": "56cc4627-c573-4c33-84b3-faeee210f345",
   "metadata": {
    "tags": []
   },
   "outputs": [],
   "source": [
    "publish_info = df.publisher.apply(extract_date)"
   ]
  },
  {
   "cell_type": "code",
   "execution_count": 51,
   "id": "693952f1-d81b-4897-99a9-0fe0a6893d1a",
   "metadata": {
    "tags": []
   },
   "outputs": [
    {
     "data": {
      "text/plain": [
       "Series([], Name: publisher, dtype: object)"
      ]
     },
     "execution_count": 51,
     "metadata": {},
     "output_type": "execute_result"
    }
   ],
   "source": [
    "dates = publish_info.dropna().apply(lambda x : x[1])\n",
    "dates [ dates =='no date']"
   ]
  },
  {
   "cell_type": "code",
   "execution_count": 52,
   "id": "610ef393-c8ff-4c5d-bbc6-5875907cbec6",
   "metadata": {
    "tags": []
   },
   "outputs": [],
   "source": [
    "df['publishing_date'] = [i[1] if (i==i) else i for i in publish_info]"
   ]
  },
  {
   "cell_type": "code",
   "execution_count": 53,
   "id": "333e0285-fcfd-4ec6-8480-ce0f1c6eda29",
   "metadata": {
    "tags": []
   },
   "outputs": [],
   "source": [
    "df.publishing_date = pd.to_datetime(df.publishing_date)"
   ]
  },
  {
   "cell_type": "markdown",
   "id": "a5c8798c-81ff-4f5c-a618-bbb50c8f36af",
   "metadata": {},
   "source": [
    "Now I replace the `publisher` values with the processed publisher information:"
   ]
  },
  {
   "cell_type": "code",
   "execution_count": 54,
   "id": "2ba612bd-d4bf-4326-a255-9aa0b867accd",
   "metadata": {
    "tags": []
   },
   "outputs": [],
   "source": [
    "df['publisher'] = [i[0] if (i==i) else i for i in publish_info]"
   ]
  },
  {
   "cell_type": "code",
   "execution_count": 55,
   "id": "208ff443-9971-40a1-a4d0-61cab6188934",
   "metadata": {
    "tags": []
   },
   "outputs": [
    {
     "data": {
      "text/plain": [
       "0            Notion Press Media Pvt Ltd\n",
       "1           O'Reilly Media; 1st edition\n",
       "2      Holy Macro! Books; Third edition\n",
       "3           O'Reilly Media; 2nd edition\n",
       "4              For Dummies; 5th edition\n",
       "                     ...               \n",
       "825               Corwin; First edition\n",
       "826      Springer; 1st ed. 2020 edition\n",
       "827                    Packt Publishing\n",
       "828                                 NaN\n",
       "829                                 NaN\n",
       "Name: publisher, Length: 830, dtype: object"
      ]
     },
     "execution_count": 55,
     "metadata": {},
     "output_type": "execute_result"
    }
   ],
   "source": [
    "df.publisher"
   ]
  },
  {
   "cell_type": "code",
   "execution_count": 56,
   "id": "8d906290-96d5-4717-90fe-d891e1c1bd73",
   "metadata": {
    "tags": []
   },
   "outputs": [],
   "source": [
    "df.publisher = df.publisher.str.replace(';', ',')"
   ]
  },
  {
   "cell_type": "code",
   "execution_count": 57,
   "id": "06bc0246-1a66-404b-9f44-1cbc5abf59a9",
   "metadata": {
    "tags": []
   },
   "outputs": [
    {
     "data": {
      "text/plain": [
       "225    Roberts and Company Publishers, 2nd edition\n",
       "826                 Springer, 1st ed. 2020 edition\n",
       "714              Packt Publishing, 2nd ed. edition\n",
       "796                                            NaN\n",
       "183                 QuickStudy, Lam Rfc Cr edition\n",
       "2                 Holy Macro! Books, Third edition\n",
       "205                                            NaN\n",
       "199              Packt Publishing, 3rd ed. edition\n",
       "451                    O'Reilly Media, 2nd edition\n",
       "37                                 No Starch Press\n",
       "Name: publisher, dtype: object"
      ]
     },
     "execution_count": 57,
     "metadata": {},
     "output_type": "execute_result"
    }
   ],
   "source": [
    "df.publisher.sample(10)"
   ]
  },
  {
   "cell_type": "markdown",
   "id": "e9627432-25c7-4a83-b43a-b2909dbbd2f1",
   "metadata": {},
   "source": [
    "## Clean `ISBN_13`"
   ]
  },
  {
   "cell_type": "markdown",
   "id": "daf7e703-4ca0-4913-9a2f-864044b6c01a",
   "metadata": {},
   "source": [
    "It seems like some `ISBN_13` values are empty but not set as NaN. Aslo, lenght of ISBN_13 code must be 14 (13 + hyphen)."
   ]
  },
  {
   "cell_type": "code",
   "execution_count": 58,
   "id": "217746ee-d086-4225-bfa3-16a90465fa73",
   "metadata": {},
   "outputs": [
    {
     "data": {
      "text/plain": [
       "5                              NaN\n",
       "7      Research in Drama Education\n",
       "12                             NaN\n",
       "13                                \n",
       "14                                \n",
       "                  ...             \n",
       "824                             99\n",
       "825                             59\n",
       "826                               \n",
       "828                            NaN\n",
       "829                               \n",
       "Name: ISBN_13, Length: 369, dtype: object"
      ]
     },
     "execution_count": 58,
     "metadata": {},
     "output_type": "execute_result"
    }
   ],
   "source": [
    "df.ISBN_13 [ df.ISBN_13.str.len() != 14]"
   ]
  },
  {
   "cell_type": "code",
   "execution_count": 59,
   "id": "a97730db-abf6-4831-b9bc-5647b3056693",
   "metadata": {},
   "outputs": [
    {
     "data": {
      "text/plain": [
       "array([nan, 'Research in Drama Education', ' ', '$13.99 ', '-34%',\n",
       "       '     ', 'Usually ships within 2 to 3 days.', '#NAME?', '#250 in ',\n",
       "       '#1 in ', '  Second Edition, Second edition ', '$113.19 ', '-22%',\n",
       "       'The Data Revolution',\n",
       "       'Regulating Alcohol around the World: Policy Cocktails', '-19%',\n",
       "       '#35 in ', 'x', '-27%', '79', '99', '-21%', '75', '49', '69', '29',\n",
       "       '66', '-30%', '  Kindle Edition ', '$139.99 ', '$13.79 ', 'Python',\n",
       "       '#372 in ', 'PennyLane', 'JOSH TYSON', '—', '-39%', '59', '39',\n",
       "       '-25%', '30', '56', '25'], dtype=object)"
      ]
     },
     "execution_count": 59,
     "metadata": {},
     "output_type": "execute_result"
    }
   ],
   "source": [
    "df.ISBN_13 [ df.ISBN_13.str.len() != 14].unique()"
   ]
  },
  {
   "cell_type": "markdown",
   "id": "ff0c184c-72f0-41ba-811e-4813c230324b",
   "metadata": {},
   "source": [
    "First set empty values to NaN"
   ]
  },
  {
   "cell_type": "code",
   "execution_count": 60,
   "id": "33299b23-55cb-4b07-bbb0-225febaea861",
   "metadata": {},
   "outputs": [],
   "source": [
    "df.ISBN_13 = np.where((df.ISBN_13 == '') | (df.ISBN_13 == ' '), np.nan, df.ISBN_13)"
   ]
  },
  {
   "cell_type": "markdown",
   "id": "81c2de67-4d88-495d-a2b5-c56e713d02b3",
   "metadata": {},
   "source": [
    "Check if row with invalid ISBN_13 values have already comments:"
   ]
  },
  {
   "cell_type": "code",
   "execution_count": 61,
   "id": "aacd91d4-7ed1-42ec-a03b-99437daa79b4",
   "metadata": {},
   "outputs": [
    {
     "data": {
      "text/plain": [
       "array([nan, 'Research in Drama Education', '$13.99 ', '-34%', '     ',\n",
       "       'Usually ships within 2 to 3 days.', '#NAME?', '#250 in ',\n",
       "       '#1 in ', '  Second Edition, Second edition ', '$113.19 ', '-22%',\n",
       "       'The Data Revolution',\n",
       "       'Regulating Alcohol around the World: Policy Cocktails', '-19%',\n",
       "       '#35 in ', 'x', '-27%', '79', '99', '-21%', '75', '49', '69', '29',\n",
       "       '66', '-30%', '  Kindle Edition ', '$139.99 ', '$13.79 ', 'Python',\n",
       "       '#372 in ', 'PennyLane', 'JOSH TYSON', '—', '-39%', '59', '39',\n",
       "       '-25%', '30', '56', '25'], dtype=object)"
      ]
     },
     "execution_count": 61,
     "metadata": {},
     "output_type": "execute_result"
    }
   ],
   "source": [
    "df.ISBN_13 [ df.ISBN_13.str.len() != 14].unique()"
   ]
  },
  {
   "cell_type": "code",
   "execution_count": 62,
   "id": "c7ce0d8e-dcfe-4aab-9406-9b158d83a501",
   "metadata": {
    "tags": []
   },
   "outputs": [],
   "source": [
    "invalid_isbn_values = list(df.ISBN_13 [ df.ISBN_13.str.len() != 14].unique())"
   ]
  },
  {
   "cell_type": "code",
   "execution_count": 63,
   "id": "64ee5b8d-2873-4774-b666-978ebe2b4a51",
   "metadata": {
    "tags": []
   },
   "outputs": [
    {
     "data": {
      "text/plain": [
       "[nan, 'Research in Drama Education', '$13.99 ', '-34%', '     ']"
      ]
     },
     "execution_count": 63,
     "metadata": {},
     "output_type": "execute_result"
    }
   ],
   "source": [
    "invalid_isbn_values[:5]"
   ]
  },
  {
   "cell_type": "markdown",
   "id": "5c534e31-cad4-44bd-a76d-7ef1946cce7d",
   "metadata": {},
   "source": [
    "Let's drop the nan values from invalid isbn values:"
   ]
  },
  {
   "cell_type": "code",
   "execution_count": 64,
   "id": "e7aff83d-0ff3-41be-914e-7e58900694e8",
   "metadata": {
    "tags": []
   },
   "outputs": [],
   "source": [
    "invalid_isbn_values = invalid_isbn_values[1:]"
   ]
  },
  {
   "cell_type": "markdown",
   "id": "133733f5-cf8a-4557-8939-f7adfcb6fa8f",
   "metadata": {},
   "source": [
    "Let's check if the rows with prices in the `ISBN_13` column have the price set."
   ]
  },
  {
   "cell_type": "code",
   "execution_count": 65,
   "id": "74de1557-78f8-4cea-8ffa-2f3773cce6aa",
   "metadata": {
    "tags": []
   },
   "outputs": [
    {
     "data": {
      "text/html": [
       "<div>\n",
       "<style scoped>\n",
       "    .dataframe tbody tr th:only-of-type {\n",
       "        vertical-align: middle;\n",
       "    }\n",
       "\n",
       "    .dataframe tbody tr th {\n",
       "        vertical-align: top;\n",
       "    }\n",
       "\n",
       "    .dataframe thead th {\n",
       "        text-align: right;\n",
       "    }\n",
       "</style>\n",
       "<table border=\"1\" class=\"dataframe\">\n",
       "  <thead>\n",
       "    <tr style=\"text-align: right;\">\n",
       "      <th></th>\n",
       "      <th>7</th>\n",
       "      <th>31</th>\n",
       "      <th>61</th>\n",
       "      <th>80</th>\n",
       "      <th>91</th>\n",
       "      <th>121</th>\n",
       "      <th>134</th>\n",
       "      <th>138</th>\n",
       "      <th>161</th>\n",
       "      <th>195</th>\n",
       "      <th>...</th>\n",
       "      <th>725</th>\n",
       "      <th>730</th>\n",
       "      <th>731</th>\n",
       "      <th>732</th>\n",
       "      <th>763</th>\n",
       "      <th>787</th>\n",
       "      <th>796</th>\n",
       "      <th>819</th>\n",
       "      <th>824</th>\n",
       "      <th>825</th>\n",
       "    </tr>\n",
       "  </thead>\n",
       "  <tbody>\n",
       "    <tr>\n",
       "      <th>price</th>\n",
       "      <td>90.0</td>\n",
       "      <td>13.99</td>\n",
       "      <td>26.49</td>\n",
       "      <td>121.99</td>\n",
       "      <td>31.3</td>\n",
       "      <td>26.44</td>\n",
       "      <td>NaN</td>\n",
       "      <td>NaN</td>\n",
       "      <td>24.95</td>\n",
       "      <td>113.19</td>\n",
       "      <td>...</td>\n",
       "      <td>14.19</td>\n",
       "      <td>41.16</td>\n",
       "      <td>14.99</td>\n",
       "      <td>15.3</td>\n",
       "      <td>139.56</td>\n",
       "      <td>11.89</td>\n",
       "      <td>46.5</td>\n",
       "      <td>24.95</td>\n",
       "      <td>9.69</td>\n",
       "      <td>5.33</td>\n",
       "    </tr>\n",
       "    <tr>\n",
       "      <th>ISBN_13</th>\n",
       "      <td>Research in Drama Education</td>\n",
       "      <td>$13.99</td>\n",
       "      <td>-34%</td>\n",
       "      <td></td>\n",
       "      <td>Usually ships within 2 to 3 days.</td>\n",
       "      <td>#NAME?</td>\n",
       "      <td>#250 in</td>\n",
       "      <td>#1 in</td>\n",
       "      <td>Second Edition, Second edition</td>\n",
       "      <td>$113.19</td>\n",
       "      <td>...</td>\n",
       "      <td>39</td>\n",
       "      <td>-25%</td>\n",
       "      <td>99</td>\n",
       "      <td>30</td>\n",
       "      <td>56</td>\n",
       "      <td>69</td>\n",
       "      <td>-22%</td>\n",
       "      <td>25</td>\n",
       "      <td>99</td>\n",
       "      <td>59</td>\n",
       "    </tr>\n",
       "  </tbody>\n",
       "</table>\n",
       "<p>2 rows × 56 columns</p>\n",
       "</div>"
      ],
      "text/plain": [
       "                                 7        31     61      80   \\\n",
       "price                           90.0    13.99  26.49  121.99   \n",
       "ISBN_13  Research in Drama Education  $13.99    -34%           \n",
       "\n",
       "                                       91      121       134     138  \\\n",
       "price                                 31.3   26.44       NaN     NaN   \n",
       "ISBN_13  Usually ships within 2 to 3 days.  #NAME?  #250 in   #1 in    \n",
       "\n",
       "                                       161       195  ...    725    730  \\\n",
       "price                                24.95    113.19  ...  14.19  41.16   \n",
       "ISBN_13    Second Edition, Second edition   $113.19   ...     39   -25%   \n",
       "\n",
       "           731   732     763    787   796    819   824   825  \n",
       "price    14.99  15.3  139.56  11.89  46.5  24.95  9.69  5.33  \n",
       "ISBN_13     99    30      56     69  -22%     25    99    59  \n",
       "\n",
       "[2 rows x 56 columns]"
      ]
     },
     "execution_count": 65,
     "metadata": {},
     "output_type": "execute_result"
    }
   ],
   "source": [
    "df[['price', 'ISBN_13']][df.ISBN_13.isin(invalid_isbn_values)].T"
   ]
  },
  {
   "cell_type": "markdown",
   "id": "faba0a97-01f0-4b73-983c-37efbc0ea072",
   "metadata": {},
   "source": [
    "At the sight of the results, besides a couple of rows,the rest of the ISBN invalid values are not worth processing. I will just set them as NaN.  \n",
    "I will process the rows number: 7, 161, 233 and 292"
   ]
  },
  {
   "cell_type": "code",
   "execution_count": 66,
   "id": "0e5c5027-5457-4b74-8772-f857b9b274d9",
   "metadata": {
    "tags": []
   },
   "outputs": [
    {
     "data": {
      "text/html": [
       "<div>\n",
       "<style scoped>\n",
       "    .dataframe tbody tr th:only-of-type {\n",
       "        vertical-align: middle;\n",
       "    }\n",
       "\n",
       "    .dataframe tbody tr th {\n",
       "        vertical-align: top;\n",
       "    }\n",
       "\n",
       "    .dataframe thead th {\n",
       "        text-align: right;\n",
       "    }\n",
       "</style>\n",
       "<table border=\"1\" class=\"dataframe\">\n",
       "  <thead>\n",
       "    <tr style=\"text-align: right;\">\n",
       "      <th></th>\n",
       "      <th>title</th>\n",
       "      <th>ISBN_13</th>\n",
       "      <th>comments</th>\n",
       "    </tr>\n",
       "  </thead>\n",
       "  <tbody>\n",
       "    <tr>\n",
       "      <th>7</th>\n",
       "      <td>Qualitative Data Analysis: A Methods Sourcebook</td>\n",
       "      <td>Research in Drama Education</td>\n",
       "      <td>NaN</td>\n",
       "    </tr>\n",
       "    <tr>\n",
       "      <th>161</th>\n",
       "      <td>Guerrilla Data Analysis Using Microsoft Excel:...</td>\n",
       "      <td>Second Edition, Second edition</td>\n",
       "      <td>NaN</td>\n",
       "    </tr>\n",
       "    <tr>\n",
       "      <th>233</th>\n",
       "      <td>The Data Revolution: A Critical Analysis of Bi...</td>\n",
       "      <td>The Data Revolution</td>\n",
       "      <td>NaN</td>\n",
       "    </tr>\n",
       "    <tr>\n",
       "      <th>292</th>\n",
       "      <td>An Introduction to Data Analysis: Quantitative...</td>\n",
       "      <td>Regulating Alcohol around the World: Policy Co...</td>\n",
       "      <td>NaN</td>\n",
       "    </tr>\n",
       "  </tbody>\n",
       "</table>\n",
       "</div>"
      ],
      "text/plain": [
       "                                                 title  \\\n",
       "7      Qualitative Data Analysis: A Methods Sourcebook   \n",
       "161  Guerrilla Data Analysis Using Microsoft Excel:...   \n",
       "233  The Data Revolution: A Critical Analysis of Bi...   \n",
       "292  An Introduction to Data Analysis: Quantitative...   \n",
       "\n",
       "                                               ISBN_13 comments  \n",
       "7                          Research in Drama Education      NaN  \n",
       "161                    Second Edition, Second edition       NaN  \n",
       "233                                The Data Revolution      NaN  \n",
       "292  Regulating Alcohol around the World: Policy Co...      NaN  "
      ]
     },
     "execution_count": 66,
     "metadata": {},
     "output_type": "execute_result"
    }
   ],
   "source": [
    "df.loc[[7,161,233,292], ['title', 'ISBN_13', 'comments'] ]"
   ]
  },
  {
   "cell_type": "markdown",
   "id": "938ab70f-3021-4a64-93b2-8ebf825ab26f",
   "metadata": {},
   "source": [
    "It seems like book in row 292 has an ISBN value that has nothing to do this its title."
   ]
  },
  {
   "cell_type": "code",
   "execution_count": 67,
   "id": "6bf22628-8629-49a9-9e1d-fa2d15526090",
   "metadata": {
    "tags": []
   },
   "outputs": [
    {
     "data": {
      "text/plain": [
       "array(['An Introduction to Data Analysis: Quantitative, Qualitative and Mixed Methods'],\n",
       "      dtype=object)"
      ]
     },
     "execution_count": 67,
     "metadata": {},
     "output_type": "execute_result"
    }
   ],
   "source": [
    "df.loc[292, ['title']].values"
   ]
  },
  {
   "cell_type": "code",
   "execution_count": 68,
   "id": "d12fc6fb-827d-47bc-b044-f906a6d32b17",
   "metadata": {
    "tags": []
   },
   "outputs": [
    {
     "data": {
      "text/plain": [
       "'Regulating Alcohol around the World: Policy Cocktails'"
      ]
     },
     "execution_count": 68,
     "metadata": {},
     "output_type": "execute_result"
    }
   ],
   "source": [
    "df.loc[292, 'ISBN_13']"
   ]
  },
  {
   "cell_type": "markdown",
   "id": "e1986ba3-6e13-4a5e-9e9b-7aaaffa18e61",
   "metadata": {},
   "source": [
    "I will clean manually these 4 rows:"
   ]
  },
  {
   "cell_type": "code",
   "execution_count": 69,
   "id": "745053cc-70ae-472a-9526-e037b4be5cfd",
   "metadata": {
    "tags": []
   },
   "outputs": [],
   "source": [
    "df.loc[7, 'comments'] = 'Research in Drama Education'\n",
    "df.loc[161, 'ISBN_13'] = 'Second edition'\n",
    "df.loc[[233, 292], 'ISBN_13'] = np.nan"
   ]
  },
  {
   "cell_type": "markdown",
   "id": "7914bc11-a906-426f-8878-e7e966e5612e",
   "metadata": {},
   "source": [
    "The rest of invalid ISBN values will be set to NaN"
   ]
  },
  {
   "cell_type": "code",
   "execution_count": 70,
   "id": "3c63a4c8-d076-4b9c-92cf-1621a3183fcc",
   "metadata": {
    "tags": []
   },
   "outputs": [
    {
     "data": {
      "text/html": [
       "<div>\n",
       "<style scoped>\n",
       "    .dataframe tbody tr th:only-of-type {\n",
       "        vertical-align: middle;\n",
       "    }\n",
       "\n",
       "    .dataframe tbody tr th {\n",
       "        vertical-align: top;\n",
       "    }\n",
       "\n",
       "    .dataframe thead th {\n",
       "        text-align: right;\n",
       "    }\n",
       "</style>\n",
       "<table border=\"1\" class=\"dataframe\">\n",
       "  <thead>\n",
       "    <tr style=\"text-align: right;\">\n",
       "      <th></th>\n",
       "      <th>7</th>\n",
       "      <th>31</th>\n",
       "      <th>61</th>\n",
       "      <th>80</th>\n",
       "      <th>91</th>\n",
       "      <th>121</th>\n",
       "      <th>134</th>\n",
       "      <th>138</th>\n",
       "      <th>195</th>\n",
       "      <th>217</th>\n",
       "      <th>...</th>\n",
       "      <th>725</th>\n",
       "      <th>730</th>\n",
       "      <th>731</th>\n",
       "      <th>732</th>\n",
       "      <th>763</th>\n",
       "      <th>787</th>\n",
       "      <th>796</th>\n",
       "      <th>819</th>\n",
       "      <th>824</th>\n",
       "      <th>825</th>\n",
       "    </tr>\n",
       "  </thead>\n",
       "  <tbody>\n",
       "    <tr>\n",
       "      <th>price</th>\n",
       "      <td>90.0</td>\n",
       "      <td>13.99</td>\n",
       "      <td>26.49</td>\n",
       "      <td>121.99</td>\n",
       "      <td>31.3</td>\n",
       "      <td>26.44</td>\n",
       "      <td>NaN</td>\n",
       "      <td>NaN</td>\n",
       "      <td>113.19</td>\n",
       "      <td>46.53</td>\n",
       "      <td>...</td>\n",
       "      <td>14.19</td>\n",
       "      <td>41.16</td>\n",
       "      <td>14.99</td>\n",
       "      <td>15.3</td>\n",
       "      <td>139.56</td>\n",
       "      <td>11.89</td>\n",
       "      <td>46.5</td>\n",
       "      <td>24.95</td>\n",
       "      <td>9.69</td>\n",
       "      <td>5.33</td>\n",
       "    </tr>\n",
       "    <tr>\n",
       "      <th>ISBN_13</th>\n",
       "      <td>Research in Drama Education</td>\n",
       "      <td>$13.99</td>\n",
       "      <td>-34%</td>\n",
       "      <td></td>\n",
       "      <td>Usually ships within 2 to 3 days.</td>\n",
       "      <td>#NAME?</td>\n",
       "      <td>#250 in</td>\n",
       "      <td>#1 in</td>\n",
       "      <td>$113.19</td>\n",
       "      <td>-22%</td>\n",
       "      <td>...</td>\n",
       "      <td>39</td>\n",
       "      <td>-25%</td>\n",
       "      <td>99</td>\n",
       "      <td>30</td>\n",
       "      <td>56</td>\n",
       "      <td>69</td>\n",
       "      <td>-22%</td>\n",
       "      <td>25</td>\n",
       "      <td>99</td>\n",
       "      <td>59</td>\n",
       "    </tr>\n",
       "  </tbody>\n",
       "</table>\n",
       "<p>2 rows × 53 columns</p>\n",
       "</div>"
      ],
      "text/plain": [
       "                                 7        31     61      80   \\\n",
       "price                           90.0    13.99  26.49  121.99   \n",
       "ISBN_13  Research in Drama Education  $13.99    -34%           \n",
       "\n",
       "                                       91      121       134     138  \\\n",
       "price                                 31.3   26.44       NaN     NaN   \n",
       "ISBN_13  Usually ships within 2 to 3 days.  #NAME?  #250 in   #1 in    \n",
       "\n",
       "              195    217  ...    725    730    731   732     763    787   796  \\\n",
       "price      113.19  46.53  ...  14.19  41.16  14.99  15.3  139.56  11.89  46.5   \n",
       "ISBN_13  $113.19    -22%  ...     39   -25%     99    30      56     69  -22%   \n",
       "\n",
       "           819   824   825  \n",
       "price    24.95  9.69  5.33  \n",
       "ISBN_13     25    99    59  \n",
       "\n",
       "[2 rows x 53 columns]"
      ]
     },
     "execution_count": 70,
     "metadata": {},
     "output_type": "execute_result"
    }
   ],
   "source": [
    "df[['price', 'ISBN_13']][df.ISBN_13.isin(invalid_isbn_values)].T"
   ]
  },
  {
   "cell_type": "code",
   "execution_count": 71,
   "id": "7d2c6541-e723-47c8-9945-41fa53d94920",
   "metadata": {
    "tags": []
   },
   "outputs": [],
   "source": [
    "df.loc[df.ISBN_13.isin(invalid_isbn_values), 'ISBN_13'] = np.nan"
   ]
  },
  {
   "cell_type": "markdown",
   "id": "cde9d59f-ed65-454d-b3a7-d063bcdf8bf6",
   "metadata": {},
   "source": [
    "I check ISBN values again..."
   ]
  },
  {
   "cell_type": "code",
   "execution_count": 72,
   "id": "56e75cfc-615e-47dd-91bd-89771251efef",
   "metadata": {
    "tags": []
   },
   "outputs": [
    {
     "data": {
      "text/plain": [
       "['Second edition', 'Pratip Samanta']"
      ]
     },
     "execution_count": 72,
     "metadata": {},
     "output_type": "execute_result"
    }
   ],
   "source": [
    "[i for i in df['ISBN_13'].dropna().unique() if not i.startswith('9')]"
   ]
  },
  {
   "cell_type": "markdown",
   "id": "04120844-9cb0-417f-bc3d-d3b10501b87d",
   "metadata": {},
   "source": [
    "A couple of rows still need a cleaning"
   ]
  },
  {
   "cell_type": "code",
   "execution_count": 73,
   "id": "e719b58c-93f9-4d8f-8ca6-6714b7e0bd64",
   "metadata": {
    "tags": []
   },
   "outputs": [],
   "source": [
    "invalid_isbn_values = [i for i in df['ISBN_13'].dropna().unique() if not i.startswith('9')]"
   ]
  },
  {
   "cell_type": "code",
   "execution_count": 74,
   "id": "4cf75ef2-0b2d-4fbe-9141-b1994ff11a1f",
   "metadata": {
    "tags": []
   },
   "outputs": [
    {
     "data": {
      "text/html": [
       "<div>\n",
       "<style scoped>\n",
       "    .dataframe tbody tr th:only-of-type {\n",
       "        vertical-align: middle;\n",
       "    }\n",
       "\n",
       "    .dataframe tbody tr th {\n",
       "        vertical-align: top;\n",
       "    }\n",
       "\n",
       "    .dataframe thead th {\n",
       "        text-align: right;\n",
       "    }\n",
       "</style>\n",
       "<table border=\"1\" class=\"dataframe\">\n",
       "  <thead>\n",
       "    <tr style=\"text-align: right;\">\n",
       "      <th></th>\n",
       "      <th>ISBN_13</th>\n",
       "      <th>comments</th>\n",
       "    </tr>\n",
       "  </thead>\n",
       "  <tbody>\n",
       "    <tr>\n",
       "      <th>161</th>\n",
       "      <td>Second edition</td>\n",
       "      <td>NaN</td>\n",
       "    </tr>\n",
       "    <tr>\n",
       "      <th>427</th>\n",
       "      <td>Pratip Samanta</td>\n",
       "      <td>NaN</td>\n",
       "    </tr>\n",
       "  </tbody>\n",
       "</table>\n",
       "</div>"
      ],
      "text/plain": [
       "            ISBN_13 comments\n",
       "161  Second edition      NaN\n",
       "427  Pratip Samanta      NaN"
      ]
     },
     "execution_count": 74,
     "metadata": {},
     "output_type": "execute_result"
    }
   ],
   "source": [
    "df[['ISBN_13', 'comments']][df.ISBN_13.isin(invalid_isbn_values)]"
   ]
  },
  {
   "cell_type": "code",
   "execution_count": 75,
   "id": "0eb4d43d-55d5-4dfe-8941-07829aaff2c0",
   "metadata": {
    "tags": []
   },
   "outputs": [],
   "source": [
    "df.loc[[161, 427], 'comments'] = df.loc[[161, 427], 'ISBN_13']\n",
    "df.loc[[161, 427], 'ISBN_13'] = np.nan"
   ]
  },
  {
   "cell_type": "markdown",
   "id": "f13358c0-9bb6-4a41-8073-e299d19ac2f7",
   "metadata": {},
   "source": [
    "Finally ISBN column is clean:"
   ]
  },
  {
   "cell_type": "code",
   "execution_count": 76,
   "id": "827ade07-014e-40cf-9bcb-b9204a676c00",
   "metadata": {
    "tags": []
   },
   "outputs": [
    {
     "data": {
      "text/plain": [
       "[]"
      ]
     },
     "execution_count": 76,
     "metadata": {},
     "output_type": "execute_result"
    }
   ],
   "source": [
    "[i for i in df['ISBN_13'].dropna().unique() if not i.startswith('9')]"
   ]
  },
  {
   "cell_type": "code",
   "execution_count": 77,
   "id": "512c43c3-4b76-4cdc-9f31-b758b28e61ee",
   "metadata": {
    "tags": []
   },
   "outputs": [
    {
     "data": {
      "text/plain": [
       "39     978-1098100667\n",
       "690               NaN\n",
       "5                 NaN\n",
       "789               NaN\n",
       "248    978-0132744287\n",
       "40     979-8420836248\n",
       "296    978-1589486089\n",
       "328    978-0578973838\n",
       "113    978-0262232586\n",
       "329    978-1119621492\n",
       "365    978-0137613663\n",
       "677    978-1938946035\n",
       "198               NaN\n",
       "275    979-8357294340\n",
       "304               NaN\n",
       "Name: ISBN_13, dtype: object"
      ]
     },
     "execution_count": 77,
     "metadata": {},
     "output_type": "execute_result"
    }
   ],
   "source": [
    "df.ISBN_13.sample(15)"
   ]
  },
  {
   "cell_type": "markdown",
   "id": "e8301279-1158-4116-8b80-5bf96594973e",
   "metadata": {
    "tags": []
   },
   "source": [
    "## Fine tuning of titles"
   ]
  },
  {
   "cell_type": "code",
   "execution_count": 78,
   "id": "1ce8e9aa-c00a-4501-94d4-a93853bbc7ca",
   "metadata": {
    "tags": []
   },
   "outputs": [],
   "source": [
    "\n",
    "def lower_words(title_string):\n",
    "    words_to_lower = ['Using', 'And', 'For']\n",
    "    for word in words_to_lower:\n",
    "        if word in title_string:\n",
    "            title_string = title_string.replace(word, word.lower())\n",
    "    return title_string"
   ]
  },
  {
   "cell_type": "code",
   "execution_count": 79,
   "id": "206f707e-bb49-41b1-bb1c-23075a78b236",
   "metadata": {
    "tags": []
   },
   "outputs": [],
   "source": [
    "df.title = df.title.apply(lower_words)"
   ]
  },
  {
   "cell_type": "markdown",
   "id": "295681c3-d805-4c73-928d-925220f22121",
   "metadata": {},
   "source": [
    "## Reorder dataset"
   ]
  },
  {
   "cell_type": "markdown",
   "id": "6c91ef0c-0ceb-499d-8bc3-eaec17864a6c",
   "metadata": {},
   "source": [
    "A final reorder of the columns in the dataset."
   ]
  },
  {
   "cell_type": "code",
   "execution_count": 80,
   "id": "b0be84dc-42b2-4c30-be66-eec682ebf368",
   "metadata": {},
   "outputs": [],
   "source": [
    "new_order = ['title', 'author', 'publisher', 'publishing_date', 'pages', 'price', 'language', 'ISBN_13', 'complete_link', 'comments']"
   ]
  },
  {
   "cell_type": "code",
   "execution_count": 81,
   "id": "c7b9934b-471f-4b12-a8ca-cac291f0ddbb",
   "metadata": {},
   "outputs": [],
   "source": [
    "df = df.reindex(new_order, axis=1)"
   ]
  },
  {
   "cell_type": "markdown",
   "id": "00e1ddd1-aad5-4472-8504-8ac7e6ce8ee2",
   "metadata": {},
   "source": [
    "Finally, get a sample to have an overview of the clean dataset."
   ]
  },
  {
   "cell_type": "code",
   "execution_count": 82,
   "id": "ad6ccc7a-689d-466b-974b-0feb058e457b",
   "metadata": {},
   "outputs": [
    {
     "data": {
      "text/html": [
       "<div>\n",
       "<style scoped>\n",
       "    .dataframe tbody tr th:only-of-type {\n",
       "        vertical-align: middle;\n",
       "    }\n",
       "\n",
       "    .dataframe tbody tr th {\n",
       "        vertical-align: top;\n",
       "    }\n",
       "\n",
       "    .dataframe thead th {\n",
       "        text-align: right;\n",
       "    }\n",
       "</style>\n",
       "<table border=\"1\" class=\"dataframe\">\n",
       "  <thead>\n",
       "    <tr style=\"text-align: right;\">\n",
       "      <th></th>\n",
       "      <th>title</th>\n",
       "      <th>author</th>\n",
       "      <th>publisher</th>\n",
       "      <th>publishing_date</th>\n",
       "      <th>pages</th>\n",
       "      <th>price</th>\n",
       "      <th>language</th>\n",
       "      <th>ISBN_13</th>\n",
       "      <th>complete_link</th>\n",
       "      <th>comments</th>\n",
       "    </tr>\n",
       "  </thead>\n",
       "  <tbody>\n",
       "    <tr>\n",
       "      <th>273</th>\n",
       "      <td>Qualitative Data Analysis with ATLAS.ti</td>\n",
       "      <td>Susanne Friese</td>\n",
       "      <td>SAGE Publications Ltd, Third edition</td>\n",
       "      <td>2019-04-22</td>\n",
       "      <td>344.0</td>\n",
       "      <td>49.99</td>\n",
       "      <td>English</td>\n",
       "      <td>978-1526458926</td>\n",
       "      <td>https://www.amazon.com/Qualitative-Data-Analys...</td>\n",
       "      <td>NaN</td>\n",
       "    </tr>\n",
       "    <tr>\n",
       "      <th>699</th>\n",
       "      <td>The Science of Hockey: The Math, Technology, a...</td>\n",
       "      <td>Kevin Snow and John Vogl</td>\n",
       "      <td>Sports Publishing</td>\n",
       "      <td>2023-01-03</td>\n",
       "      <td>NaN</td>\n",
       "      <td>10.99</td>\n",
       "      <td>English</td>\n",
       "      <td>NaN</td>\n",
       "      <td>https://www.amazon.com/Science-Hockey-Technolo...</td>\n",
       "      <td>NaN</td>\n",
       "    </tr>\n",
       "    <tr>\n",
       "      <th>559</th>\n",
       "      <td>Macramè for Beginners: Discover the Art of Mac...</td>\n",
       "      <td>Michelle Yates</td>\n",
       "      <td>Independently published</td>\n",
       "      <td>2022-09-17</td>\n",
       "      <td>172.0</td>\n",
       "      <td>18.96</td>\n",
       "      <td>English</td>\n",
       "      <td>979-8353349204</td>\n",
       "      <td>https://www.amazon.com/gp/slredirect/picassoRe...</td>\n",
       "      <td>NaN</td>\n",
       "    </tr>\n",
       "    <tr>\n",
       "      <th>100</th>\n",
       "      <td>An Introduction to Categorical Data Analysis, ...</td>\n",
       "      <td>Agresti</td>\n",
       "      <td>Wiley, 3rd edition</td>\n",
       "      <td>2018-11-05</td>\n",
       "      <td>394.0</td>\n",
       "      <td>92.83</td>\n",
       "      <td>English</td>\n",
       "      <td>NaN</td>\n",
       "      <td>https://www.amazon.com/Introduction-Categorica...</td>\n",
       "      <td>NaN</td>\n",
       "    </tr>\n",
       "    <tr>\n",
       "      <th>427</th>\n",
       "      <td>Advanced Data Analytics using Python: With Arc...</td>\n",
       "      <td>Sayan Mukhopadhyay and Pratip Samanta</td>\n",
       "      <td>Apress, 2nd edition</td>\n",
       "      <td>2022-11-25</td>\n",
       "      <td>269.0</td>\n",
       "      <td>29.99</td>\n",
       "      <td>English</td>\n",
       "      <td>NaN</td>\n",
       "      <td>https://www.amazon.com/Advanced-Data-Analytics...</td>\n",
       "      <td>Pratip Samanta</td>\n",
       "    </tr>\n",
       "    <tr>\n",
       "      <th>601</th>\n",
       "      <td>Python Programming for Beginners: A Kid's Guid...</td>\n",
       "      <td>Patricia Foster</td>\n",
       "      <td>Rockridge Press</td>\n",
       "      <td>2020-11-03</td>\n",
       "      <td>198.0</td>\n",
       "      <td>14.40</td>\n",
       "      <td>English</td>\n",
       "      <td>978-1646113880</td>\n",
       "      <td>https://www.amazon.com/Python-Programming-Begi...</td>\n",
       "      <td>NaN</td>\n",
       "    </tr>\n",
       "    <tr>\n",
       "      <th>482</th>\n",
       "      <td>Black Hat Python: Python Programming for Hacke...</td>\n",
       "      <td>Justin Seitz</td>\n",
       "      <td>No Starch Press, 1st edition</td>\n",
       "      <td>2014-12-21</td>\n",
       "      <td>192.0</td>\n",
       "      <td>34.95</td>\n",
       "      <td>English</td>\n",
       "      <td>978-1593275907</td>\n",
       "      <td>https://www.amazon.com/Black-Hat-Python-Progra...</td>\n",
       "      <td>NaN</td>\n",
       "    </tr>\n",
       "    <tr>\n",
       "      <th>233</th>\n",
       "      <td>The Data Revolution: A Critical Analysis of Bi...</td>\n",
       "      <td>Rob Kitchin</td>\n",
       "      <td>SAGE Publications Ltd, Second edition</td>\n",
       "      <td>2022-05-31</td>\n",
       "      <td>376.0</td>\n",
       "      <td>42.00</td>\n",
       "      <td>English</td>\n",
       "      <td>NaN</td>\n",
       "      <td>https://www.amazon.com/Data-Revolution-Critica...</td>\n",
       "      <td>NaN</td>\n",
       "    </tr>\n",
       "    <tr>\n",
       "      <th>719</th>\n",
       "      <td>Data Science from Scratch with Python: A Step ...</td>\n",
       "      <td>Richard Wilson</td>\n",
       "      <td>NaN</td>\n",
       "      <td>NaT</td>\n",
       "      <td>243.0</td>\n",
       "      <td>NaN</td>\n",
       "      <td>English</td>\n",
       "      <td>NaN</td>\n",
       "      <td>https://www.amazon.com/Data-Science-Scratch-Py...</td>\n",
       "      <td>NaN</td>\n",
       "    </tr>\n",
       "    <tr>\n",
       "      <th>137</th>\n",
       "      <td>Python for Data Analysis: Learn the Principles...</td>\n",
       "      <td>Robert Campbell</td>\n",
       "      <td>Robert Campbell</td>\n",
       "      <td>2022-10-16</td>\n",
       "      <td>74.0</td>\n",
       "      <td>33.99</td>\n",
       "      <td>English</td>\n",
       "      <td>978-1803064420</td>\n",
       "      <td>https://www.amazon.com/Python-Data-Analysis-Pr...</td>\n",
       "      <td>NaN</td>\n",
       "    </tr>\n",
       "  </tbody>\n",
       "</table>\n",
       "</div>"
      ],
      "text/plain": [
       "                                                 title  \\\n",
       "273            Qualitative Data Analysis with ATLAS.ti   \n",
       "699  The Science of Hockey: The Math, Technology, a...   \n",
       "559  Macramè for Beginners: Discover the Art of Mac...   \n",
       "100  An Introduction to Categorical Data Analysis, ...   \n",
       "427  Advanced Data Analytics using Python: With Arc...   \n",
       "601  Python Programming for Beginners: A Kid's Guid...   \n",
       "482  Black Hat Python: Python Programming for Hacke...   \n",
       "233  The Data Revolution: A Critical Analysis of Bi...   \n",
       "719  Data Science from Scratch with Python: A Step ...   \n",
       "137  Python for Data Analysis: Learn the Principles...   \n",
       "\n",
       "                                    author  \\\n",
       "273                         Susanne Friese   \n",
       "699               Kevin Snow and John Vogl   \n",
       "559                         Michelle Yates   \n",
       "100                                Agresti   \n",
       "427  Sayan Mukhopadhyay and Pratip Samanta   \n",
       "601                        Patricia Foster   \n",
       "482                           Justin Seitz   \n",
       "233                            Rob Kitchin   \n",
       "719                         Richard Wilson   \n",
       "137                        Robert Campbell   \n",
       "\n",
       "                                 publisher publishing_date  pages  price  \\\n",
       "273   SAGE Publications Ltd, Third edition      2019-04-22  344.0  49.99   \n",
       "699                      Sports Publishing      2023-01-03    NaN  10.99   \n",
       "559                Independently published      2022-09-17  172.0  18.96   \n",
       "100                     Wiley, 3rd edition      2018-11-05  394.0  92.83   \n",
       "427                    Apress, 2nd edition      2022-11-25  269.0  29.99   \n",
       "601                        Rockridge Press      2020-11-03  198.0  14.40   \n",
       "482           No Starch Press, 1st edition      2014-12-21  192.0  34.95   \n",
       "233  SAGE Publications Ltd, Second edition      2022-05-31  376.0  42.00   \n",
       "719                                    NaN             NaT  243.0    NaN   \n",
       "137                        Robert Campbell      2022-10-16   74.0  33.99   \n",
       "\n",
       "    language         ISBN_13  \\\n",
       "273  English  978-1526458926   \n",
       "699  English             NaN   \n",
       "559  English  979-8353349204   \n",
       "100  English             NaN   \n",
       "427  English             NaN   \n",
       "601  English  978-1646113880   \n",
       "482  English  978-1593275907   \n",
       "233  English             NaN   \n",
       "719  English             NaN   \n",
       "137  English  978-1803064420   \n",
       "\n",
       "                                         complete_link        comments  \n",
       "273  https://www.amazon.com/Qualitative-Data-Analys...             NaN  \n",
       "699  https://www.amazon.com/Science-Hockey-Technolo...             NaN  \n",
       "559  https://www.amazon.com/gp/slredirect/picassoRe...             NaN  \n",
       "100  https://www.amazon.com/Introduction-Categorica...             NaN  \n",
       "427  https://www.amazon.com/Advanced-Data-Analytics...  Pratip Samanta  \n",
       "601  https://www.amazon.com/Python-Programming-Begi...             NaN  \n",
       "482  https://www.amazon.com/Black-Hat-Python-Progra...             NaN  \n",
       "233  https://www.amazon.com/Data-Revolution-Critica...             NaN  \n",
       "719  https://www.amazon.com/Data-Science-Scratch-Py...             NaN  \n",
       "137  https://www.amazon.com/Python-Data-Analysis-Pr...             NaN  "
      ]
     },
     "execution_count": 82,
     "metadata": {},
     "output_type": "execute_result"
    }
   ],
   "source": [
    "df.sample(10)"
   ]
  },
  {
   "cell_type": "markdown",
   "id": "6da4b2e2-732d-4f52-8569-523cbdef4be1",
   "metadata": {},
   "source": [
    "## Export the result"
   ]
  },
  {
   "cell_type": "code",
   "execution_count": 83,
   "id": "c8c6294a-8371-4be3-9631-f464bfbefc35",
   "metadata": {
    "tags": []
   },
   "outputs": [],
   "source": [
    "df.to_csv('data_science_books_clean.csv', index=False, na_rep='NaN')"
   ]
  }
 ],
 "metadata": {
  "kernelspec": {
   "display_name": "Python 3 (ipykernel)",
   "language": "python",
   "name": "python3"
  },
  "language_info": {
   "codemirror_mode": {
    "name": "ipython",
    "version": 3
   },
   "file_extension": ".py",
   "mimetype": "text/x-python",
   "name": "python",
   "nbconvert_exporter": "python",
   "pygments_lexer": "ipython3",
   "version": "3.10.10"
  }
 },
 "nbformat": 4,
 "nbformat_minor": 5
}
