{
 "cells": [
  {
   "cell_type": "code",
   "execution_count": 19,
   "id": "c297ef99-c3db-482d-89f0-45bc7ce4219f",
   "metadata": {
    "tags": []
   },
   "outputs": [],
   "source": [
    "import pandas as pd\n",
    "import numpy as np"
   ]
  },
  {
   "cell_type": "code",
   "execution_count": 20,
   "id": "60712390-4e5c-4dd8-8176-9c3be7d047e8",
   "metadata": {
    "tags": []
   },
   "outputs": [],
   "source": [
    "df = pd.read_csv('data_science_books.csv')"
   ]
  },
  {
   "cell_type": "code",
   "execution_count": 21,
   "id": "49961fb1-e995-4a9c-a089-10c7d96a8de8",
   "metadata": {
    "tags": []
   },
   "outputs": [
    {
     "data": {
      "text/html": [
       "<div>\n",
       "<style scoped>\n",
       "    .dataframe tbody tr th:only-of-type {\n",
       "        vertical-align: middle;\n",
       "    }\n",
       "\n",
       "    .dataframe tbody tr th {\n",
       "        vertical-align: top;\n",
       "    }\n",
       "\n",
       "    .dataframe thead th {\n",
       "        text-align: right;\n",
       "    }\n",
       "</style>\n",
       "<table border=\"1\" class=\"dataframe\">\n",
       "  <thead>\n",
       "    <tr style=\"text-align: right;\">\n",
       "      <th></th>\n",
       "      <th>title</th>\n",
       "      <th>author</th>\n",
       "      <th>price</th>\n",
       "      <th>price (including used books)</th>\n",
       "      <th>pages</th>\n",
       "      <th>avg_reviews</th>\n",
       "      <th>n_reviews</th>\n",
       "      <th>star5</th>\n",
       "      <th>star4</th>\n",
       "      <th>star3</th>\n",
       "      <th>star2</th>\n",
       "      <th>star1</th>\n",
       "      <th>dimensions</th>\n",
       "      <th>weight</th>\n",
       "      <th>language</th>\n",
       "      <th>publisher</th>\n",
       "      <th>ISBN_13</th>\n",
       "      <th>link</th>\n",
       "      <th>complete_link</th>\n",
       "    </tr>\n",
       "  </thead>\n",
       "  <tbody>\n",
       "    <tr>\n",
       "      <th>0</th>\n",
       "      <td>Data Analysis Using R (Low Priced Edition): A ...</td>\n",
       "      <td>[ Dr Dhaval Maheta]</td>\n",
       "      <td>6.75</td>\n",
       "      <td>6.75</td>\n",
       "      <td>500</td>\n",
       "      <td>4.4</td>\n",
       "      <td>23</td>\n",
       "      <td>55%</td>\n",
       "      <td>39%</td>\n",
       "      <td>6%</td>\n",
       "      <td>NaN</td>\n",
       "      <td>NaN</td>\n",
       "      <td>8.5 x 1.01 x 11 inches</td>\n",
       "      <td>2.53 pounds</td>\n",
       "      <td>English</td>\n",
       "      <td>Notion Press Media Pvt Ltd (November 22, 2021)</td>\n",
       "      <td>978-1685549596</td>\n",
       "      <td>/Data-Analysis-Using-Low-Priced/dp/1685549594/...</td>\n",
       "      <td>https://www.amazon.com/Data-Analysis-Using-Low...</td>\n",
       "    </tr>\n",
       "    <tr>\n",
       "      <th>1</th>\n",
       "      <td>Head First Data Analysis: A learner's guide to...</td>\n",
       "      <td>NaN</td>\n",
       "      <td>33.72</td>\n",
       "      <td>21.49 - 33.72</td>\n",
       "      <td>484</td>\n",
       "      <td>4.3</td>\n",
       "      <td>124</td>\n",
       "      <td>61%</td>\n",
       "      <td>20%</td>\n",
       "      <td>9%</td>\n",
       "      <td>4%</td>\n",
       "      <td>6%</td>\n",
       "      <td>8 x 0.98 x 9.25 inches</td>\n",
       "      <td>1.96 pounds</td>\n",
       "      <td>English</td>\n",
       "      <td>O'Reilly Media; 1st edition (August 18, 2009)</td>\n",
       "      <td>978-0596153939</td>\n",
       "      <td>/Head-First-Data-Analysis-statistics/dp/059615...</td>\n",
       "      <td>https://www.amazon.com/Head-First-Data-Analysi...</td>\n",
       "    </tr>\n",
       "    <tr>\n",
       "      <th>2</th>\n",
       "      <td>Guerrilla Data Analysis Using Microsoft Excel:...</td>\n",
       "      <td>[ Oz du Soleil,  and , Bill Jelen]</td>\n",
       "      <td>32.07</td>\n",
       "      <td>32.07</td>\n",
       "      <td>274</td>\n",
       "      <td>4.7</td>\n",
       "      <td>10</td>\n",
       "      <td>87%</td>\n",
       "      <td>13%</td>\n",
       "      <td>NaN</td>\n",
       "      <td>NaN</td>\n",
       "      <td>NaN</td>\n",
       "      <td>8.25 x 0.6 x 10.75 inches</td>\n",
       "      <td>1.4 pounds</td>\n",
       "      <td>English</td>\n",
       "      <td>Holy Macro! Books; Third edition (August 1, 2022)</td>\n",
       "      <td>978-1615470747</td>\n",
       "      <td>/Guerrilla-Analysis-Using-Microsoft-Excel/dp/1...</td>\n",
       "      <td>https://www.amazon.com/Guerrilla-Analysis-Usin...</td>\n",
       "    </tr>\n",
       "    <tr>\n",
       "      <th>3</th>\n",
       "      <td>Python for Data Analysis: Data Wrangling with ...</td>\n",
       "      <td>[ William McKinney]</td>\n",
       "      <td>53.99</td>\n",
       "      <td>53.99</td>\n",
       "      <td>547</td>\n",
       "      <td>4.6</td>\n",
       "      <td>1,686</td>\n",
       "      <td>75%</td>\n",
       "      <td>16%</td>\n",
       "      <td>5%</td>\n",
       "      <td>2%</td>\n",
       "      <td>2%</td>\n",
       "      <td>7 x 1.11 x 9.19 inches</td>\n",
       "      <td>1.47 pounds</td>\n",
       "      <td>English</td>\n",
       "      <td>O'Reilly Media; 2nd edition (November 14, 2017)</td>\n",
       "      <td>978-1491957660</td>\n",
       "      <td>/Python-Data-Analysis-Wrangling-IPython/dp/149...</td>\n",
       "      <td>https://www.amazon.com/Python-Data-Analysis-Wr...</td>\n",
       "    </tr>\n",
       "    <tr>\n",
       "      <th>4</th>\n",
       "      <td>Excel Data Analysis For Dummies (For Dummies (...</td>\n",
       "      <td>[ Paul McFedries]</td>\n",
       "      <td>24.49</td>\n",
       "      <td>24.49</td>\n",
       "      <td>368</td>\n",
       "      <td>3.9</td>\n",
       "      <td>12</td>\n",
       "      <td>52%</td>\n",
       "      <td>17%</td>\n",
       "      <td>10%</td>\n",
       "      <td>10%</td>\n",
       "      <td>10%</td>\n",
       "      <td>7.38 x 0.83 x 9.25 inches</td>\n",
       "      <td>1.3 pounds</td>\n",
       "      <td>English</td>\n",
       "      <td>For Dummies; 5th edition (February 3, 2022)</td>\n",
       "      <td>978-1119844426</td>\n",
       "      <td>/Excel-Data-Analysis-Dummies-Computer/dp/11198...</td>\n",
       "      <td>https://www.amazon.com/Excel-Data-Analysis-Dum...</td>\n",
       "    </tr>\n",
       "  </tbody>\n",
       "</table>\n",
       "</div>"
      ],
      "text/plain": [
       "                                               title  \\\n",
       "0  Data Analysis Using R (Low Priced Edition): A ...   \n",
       "1  Head First Data Analysis: A learner's guide to...   \n",
       "2  Guerrilla Data Analysis Using Microsoft Excel:...   \n",
       "3  Python for Data Analysis: Data Wrangling with ...   \n",
       "4  Excel Data Analysis For Dummies (For Dummies (...   \n",
       "\n",
       "                               author  price price (including used books)  \\\n",
       "0                 [ Dr Dhaval Maheta]   6.75                         6.75   \n",
       "1                                 NaN  33.72               21.49 - 33.72    \n",
       "2  [ Oz du Soleil,  and , Bill Jelen]  32.07                        32.07   \n",
       "3                 [ William McKinney]  53.99                        53.99   \n",
       "4                   [ Paul McFedries]  24.49                        24.49   \n",
       "\n",
       "  pages  avg_reviews n_reviews star5 star4 star3 star2 star1  \\\n",
       "0   500          4.4        23   55%   39%    6%   NaN   NaN   \n",
       "1   484          4.3       124   61%   20%    9%    4%    6%   \n",
       "2   274          4.7        10   87%   13%   NaN   NaN   NaN   \n",
       "3   547          4.6     1,686   75%   16%    5%    2%    2%   \n",
       "4   368          3.9        12   52%   17%   10%   10%   10%   \n",
       "\n",
       "                  dimensions       weight language  \\\n",
       "0     8.5 x 1.01 x 11 inches  2.53 pounds  English   \n",
       "1     8 x 0.98 x 9.25 inches  1.96 pounds  English   \n",
       "2  8.25 x 0.6 x 10.75 inches   1.4 pounds  English   \n",
       "3     7 x 1.11 x 9.19 inches  1.47 pounds  English   \n",
       "4  7.38 x 0.83 x 9.25 inches   1.3 pounds  English   \n",
       "\n",
       "                                           publisher         ISBN_13  \\\n",
       "0     Notion Press Media Pvt Ltd (November 22, 2021)  978-1685549596   \n",
       "1      O'Reilly Media; 1st edition (August 18, 2009)  978-0596153939   \n",
       "2  Holy Macro! Books; Third edition (August 1, 2022)  978-1615470747   \n",
       "3    O'Reilly Media; 2nd edition (November 14, 2017)  978-1491957660   \n",
       "4        For Dummies; 5th edition (February 3, 2022)  978-1119844426   \n",
       "\n",
       "                                                link  \\\n",
       "0  /Data-Analysis-Using-Low-Priced/dp/1685549594/...   \n",
       "1  /Head-First-Data-Analysis-statistics/dp/059615...   \n",
       "2  /Guerrilla-Analysis-Using-Microsoft-Excel/dp/1...   \n",
       "3  /Python-Data-Analysis-Wrangling-IPython/dp/149...   \n",
       "4  /Excel-Data-Analysis-Dummies-Computer/dp/11198...   \n",
       "\n",
       "                                       complete_link  \n",
       "0  https://www.amazon.com/Data-Analysis-Using-Low...  \n",
       "1  https://www.amazon.com/Head-First-Data-Analysi...  \n",
       "2  https://www.amazon.com/Guerrilla-Analysis-Usin...  \n",
       "3  https://www.amazon.com/Python-Data-Analysis-Wr...  \n",
       "4  https://www.amazon.com/Excel-Data-Analysis-Dum...  "
      ]
     },
     "execution_count": 21,
     "metadata": {},
     "output_type": "execute_result"
    }
   ],
   "source": [
    "df.head()"
   ]
  },
  {
   "cell_type": "code",
   "execution_count": 22,
   "id": "3f218e29-ba1c-4433-8e41-778281cf445f",
   "metadata": {
    "tags": []
   },
   "outputs": [
    {
     "data": {
      "text/plain": [
       "Index(['title', 'author', 'price', 'price (including used books)', 'pages',\n",
       "       'avg_reviews', 'n_reviews', 'star5', 'star4', 'star3', 'star2', 'star1',\n",
       "       'dimensions', 'weight', 'language', 'publisher', 'ISBN_13', 'link',\n",
       "       'complete_link'],\n",
       "      dtype='object')"
      ]
     },
     "execution_count": 22,
     "metadata": {},
     "output_type": "execute_result"
    }
   ],
   "source": [
    "df.columns"
   ]
  },
  {
   "cell_type": "code",
   "execution_count": 23,
   "id": "234e9764-c457-44eb-adeb-56acf16e437f",
   "metadata": {
    "tags": []
   },
   "outputs": [],
   "source": [
    "df2 = df['title, author, price, pages, language, publisher, ISBN_13, complete_link'.split(', ')]"
   ]
  },
  {
   "cell_type": "code",
   "execution_count": 24,
   "id": "2b211737-7151-4681-be8d-489a9bf572d9",
   "metadata": {
    "tags": []
   },
   "outputs": [
    {
     "data": {
      "text/plain": [
       "Index(['title', 'author', 'price', 'pages', 'language', 'publisher', 'ISBN_13',\n",
       "       'complete_link'],\n",
       "      dtype='object')"
      ]
     },
     "execution_count": 24,
     "metadata": {},
     "output_type": "execute_result"
    }
   ],
   "source": [
    "df2.columns"
   ]
  },
  {
   "cell_type": "code",
   "execution_count": 12,
   "id": "cc7ede8c-b2c8-4768-82b3-ab87dbb1df28",
   "metadata": {},
   "outputs": [
    {
     "data": {
      "text/plain": [
       "830"
      ]
     },
     "execution_count": 12,
     "metadata": {},
     "output_type": "execute_result"
    }
   ],
   "source": [
    "df2.author.isna().count()"
   ]
  },
  {
   "cell_type": "code",
   "execution_count": 27,
   "id": "60ed451c-b9c4-4ba0-bde5-9af68b7f4191",
   "metadata": {
    "tags": []
   },
   "outputs": [],
   "source": [
    "def clean_author(value):\n",
    "\tif value == value:\n",
    "\t\treturn value.lstrip('[ ').rstrip(']').replace(',  and ,', ' and')\n",
    "\telse:\n",
    "\t\treturn value"
   ]
  },
  {
   "cell_type": "code",
   "execution_count": 28,
   "id": "7bb1c636-d201-4aeb-9309-08708dfe8b51",
   "metadata": {
    "collapsed": true,
    "jupyter": {
     "outputs_hidden": true
    },
    "tags": []
   },
   "outputs": [
    {
     "name": "stderr",
     "output_type": "stream",
     "text": [
      "/tmp/ipykernel_3834/865183782.py:1: SettingWithCopyWarning: \n",
      "A value is trying to be set on a copy of a slice from a DataFrame.\n",
      "Try using .loc[row_indexer,col_indexer] = value instead\n",
      "\n",
      "See the caveats in the documentation: https://pandas.pydata.org/pandas-docs/stable/user_guide/indexing.html#returning-a-view-versus-a-copy\n",
      "  df2.author = df2.author.apply(clean_author)\n"
     ]
    }
   ],
   "source": [
    "df2.author = df2.author.apply(clean_author)"
   ]
  },
  {
   "cell_type": "code",
   "execution_count": 29,
   "id": "2cf1e3ce-cce7-4cba-ad88-1933416239d9",
   "metadata": {
    "tags": []
   },
   "outputs": [
    {
     "data": {
      "text/html": [
       "<div>\n",
       "<style scoped>\n",
       "    .dataframe tbody tr th:only-of-type {\n",
       "        vertical-align: middle;\n",
       "    }\n",
       "\n",
       "    .dataframe tbody tr th {\n",
       "        vertical-align: top;\n",
       "    }\n",
       "\n",
       "    .dataframe thead th {\n",
       "        text-align: right;\n",
       "    }\n",
       "</style>\n",
       "<table border=\"1\" class=\"dataframe\">\n",
       "  <thead>\n",
       "    <tr style=\"text-align: right;\">\n",
       "      <th></th>\n",
       "      <th>title</th>\n",
       "      <th>author</th>\n",
       "      <th>price</th>\n",
       "      <th>pages</th>\n",
       "      <th>language</th>\n",
       "      <th>publisher</th>\n",
       "      <th>ISBN_13</th>\n",
       "      <th>complete_link</th>\n",
       "    </tr>\n",
       "  </thead>\n",
       "  <tbody>\n",
       "    <tr>\n",
       "      <th>56</th>\n",
       "      <td>Data Analysis with Python: Introducing NumPy, ...</td>\n",
       "      <td>Rituraj Dixit</td>\n",
       "      <td>29.95</td>\n",
       "      <td>276</td>\n",
       "      <td>English</td>\n",
       "      <td>BPB Publications (August 20, 2022)</td>\n",
       "      <td>978-9355510655</td>\n",
       "      <td>https://www.amazon.com/Data-Analysis-Python-In...</td>\n",
       "    </tr>\n",
       "    <tr>\n",
       "      <th>604</th>\n",
       "      <td>Alligator vs. Python (Who Would Win?) (12)</td>\n",
       "      <td>NaN</td>\n",
       "      <td>4.99</td>\n",
       "      <td>32</td>\n",
       "      <td>English</td>\n",
       "      <td>Scholastic Inc.; Illustrated edition (Septembe...</td>\n",
       "      <td>978-0545451925</td>\n",
       "      <td>https://www.amazon.com/Who-Would-Win-Alligator...</td>\n",
       "    </tr>\n",
       "    <tr>\n",
       "      <th>510</th>\n",
       "      <td>Coding for Beginners: Using Python [Hardcover]...</td>\n",
       "      <td>NaN</td>\n",
       "      <td>21.27</td>\n",
       "      <td>NaN</td>\n",
       "      <td>English</td>\n",
       "      <td>NaN</td>\n",
       "      <td>978-1409599340</td>\n",
       "      <td>https://www.amazon.com/Coding-Beginners-Python...</td>\n",
       "    </tr>\n",
       "    <tr>\n",
       "      <th>708</th>\n",
       "      <td>Communicating with Data: The Art of Writing fo...</td>\n",
       "      <td>Deborah Nolan and Sara Stoudt</td>\n",
       "      <td>51.00</td>\n",
       "      <td>352</td>\n",
       "      <td>English</td>\n",
       "      <td>Oxford University Press; 1st edition (May 25, ...</td>\n",
       "      <td>978-0198862758</td>\n",
       "      <td>https://www.amazon.com/Communicating-Data-Art-...</td>\n",
       "    </tr>\n",
       "    <tr>\n",
       "      <th>140</th>\n",
       "      <td>Excel 2022: Learn From Scratch with the Most U...</td>\n",
       "      <td>Robert Johnson</td>\n",
       "      <td>19.24</td>\n",
       "      <td>161</td>\n",
       "      <td>English</td>\n",
       "      <td>Independently published (October 6, 2022)</td>\n",
       "      <td>979-8356241734</td>\n",
       "      <td>https://www.amazon.com/gp/slredirect/picassoRe...</td>\n",
       "    </tr>\n",
       "    <tr>\n",
       "      <th>456</th>\n",
       "      <td>Learn to Program with Minecraft: Transform You...</td>\n",
       "      <td>Craig Richardson</td>\n",
       "      <td>29.05</td>\n",
       "      <td>336</td>\n",
       "      <td>English</td>\n",
       "      <td>No Starch Press; 1st edition (December 1, 2015)</td>\n",
       "      <td></td>\n",
       "      <td>https://www.amazon.com/Learn-Program-Minecraft...</td>\n",
       "    </tr>\n",
       "    <tr>\n",
       "      <th>784</th>\n",
       "      <td>The Handbook of Data Science and AI: Generate ...</td>\n",
       "      <td>Stefan Papp, Wolfgang Weidinger, et al.</td>\n",
       "      <td>42.49</td>\n",
       "      <td>576</td>\n",
       "      <td>English</td>\n",
       "      <td>Hanser Publications (April 28, 2022)</td>\n",
       "      <td>978-1569908860</td>\n",
       "      <td>https://www.amazon.com/Handbook-Data-Science-A...</td>\n",
       "    </tr>\n",
       "    <tr>\n",
       "      <th>493</th>\n",
       "      <td>Machine Learning with Python Cookbook: Practic...</td>\n",
       "      <td>NaN</td>\n",
       "      <td>49.18</td>\n",
       "      <td>366</td>\n",
       "      <td>English</td>\n",
       "      <td>O'Reilly Media; 1st edition (April 17, 2018)</td>\n",
       "      <td>978-1491989388</td>\n",
       "      <td>https://www.amazon.com/Machine-Learning-Python...</td>\n",
       "    </tr>\n",
       "    <tr>\n",
       "      <th>386</th>\n",
       "      <td>2Pack Reptile Plants Hanging Silk Terrarium Pl...</td>\n",
       "      <td>NaN</td>\n",
       "      <td>NaN</td>\n",
       "      <td>NaN</td>\n",
       "      <td>NaN</td>\n",
       "      <td>NaN</td>\n",
       "      <td>NaN</td>\n",
       "      <td>https://www.amazon.com/Reptile-Hanging-Terrari...</td>\n",
       "    </tr>\n",
       "    <tr>\n",
       "      <th>464</th>\n",
       "      <td>Practical Python Programming for IoT: Build ad...</td>\n",
       "      <td>Gary Smart</td>\n",
       "      <td>39.99</td>\n",
       "      <td>516</td>\n",
       "      <td>English</td>\n",
       "      <td>Packt Publishing (November 12, 2020)</td>\n",
       "      <td></td>\n",
       "      <td>https://www.amazon.com/gp/slredirect/picassoRe...</td>\n",
       "    </tr>\n",
       "  </tbody>\n",
       "</table>\n",
       "</div>"
      ],
      "text/plain": [
       "                                                 title  \\\n",
       "56   Data Analysis with Python: Introducing NumPy, ...   \n",
       "604         Alligator vs. Python (Who Would Win?) (12)   \n",
       "510  Coding for Beginners: Using Python [Hardcover]...   \n",
       "708  Communicating with Data: The Art of Writing fo...   \n",
       "140  Excel 2022: Learn From Scratch with the Most U...   \n",
       "456  Learn to Program with Minecraft: Transform You...   \n",
       "784  The Handbook of Data Science and AI: Generate ...   \n",
       "493  Machine Learning with Python Cookbook: Practic...   \n",
       "386  2Pack Reptile Plants Hanging Silk Terrarium Pl...   \n",
       "464  Practical Python Programming for IoT: Build ad...   \n",
       "\n",
       "                                      author  price pages language  \\\n",
       "56                             Rituraj Dixit  29.95   276  English   \n",
       "604                                      NaN   4.99    32  English   \n",
       "510                                      NaN  21.27   NaN  English   \n",
       "708            Deborah Nolan and Sara Stoudt  51.00   352  English   \n",
       "140                           Robert Johnson  19.24   161  English   \n",
       "456                         Craig Richardson  29.05   336  English   \n",
       "784  Stefan Papp, Wolfgang Weidinger, et al.  42.49   576  English   \n",
       "493                                      NaN  49.18   366  English   \n",
       "386                                      NaN    NaN   NaN      NaN   \n",
       "464                               Gary Smart  39.99   516  English   \n",
       "\n",
       "                                             publisher         ISBN_13  \\\n",
       "56                  BPB Publications (August 20, 2022)  978-9355510655   \n",
       "604  Scholastic Inc.; Illustrated edition (Septembe...  978-0545451925   \n",
       "510                                                NaN  978-1409599340   \n",
       "708  Oxford University Press; 1st edition (May 25, ...  978-0198862758   \n",
       "140          Independently published (October 6, 2022)  979-8356241734   \n",
       "456    No Starch Press; 1st edition (December 1, 2015)                   \n",
       "784               Hanser Publications (April 28, 2022)  978-1569908860   \n",
       "493       O'Reilly Media; 1st edition (April 17, 2018)  978-1491989388   \n",
       "386                                                NaN             NaN   \n",
       "464               Packt Publishing (November 12, 2020)                   \n",
       "\n",
       "                                         complete_link  \n",
       "56   https://www.amazon.com/Data-Analysis-Python-In...  \n",
       "604  https://www.amazon.com/Who-Would-Win-Alligator...  \n",
       "510  https://www.amazon.com/Coding-Beginners-Python...  \n",
       "708  https://www.amazon.com/Communicating-Data-Art-...  \n",
       "140  https://www.amazon.com/gp/slredirect/picassoRe...  \n",
       "456  https://www.amazon.com/Learn-Program-Minecraft...  \n",
       "784  https://www.amazon.com/Handbook-Data-Science-A...  \n",
       "493  https://www.amazon.com/Machine-Learning-Python...  \n",
       "386  https://www.amazon.com/Reptile-Hanging-Terrari...  \n",
       "464  https://www.amazon.com/gp/slredirect/picassoRe...  "
      ]
     },
     "execution_count": 29,
     "metadata": {},
     "output_type": "execute_result"
    }
   ],
   "source": [
    "df2.sample(10)"
   ]
  },
  {
   "cell_type": "markdown",
   "id": "f675699c-371e-4df1-b235-704be1c22f12",
   "metadata": {},
   "source": [
    "There's an error when trying to convert prices to float:  \n",
    "`ValueError: could not convert string to float: 'Explores all feature...`  \n",
    "Some values content comments, so I need to clean the price columns first."
   ]
  },
  {
   "cell_type": "code",
   "execution_count": 31,
   "id": "29129977-219e-47ed-9662-9acd1caaf7bf",
   "metadata": {
    "tags": []
   },
   "outputs": [],
   "source": [
    "#df2.pages.astype(float)"
   ]
  },
  {
   "cell_type": "markdown",
   "id": "3a0fca49-e303-4c51-a5d8-f76d43841799",
   "metadata": {},
   "source": [
    "I will figure out what's the maximum lenght of the figures in pages column. I will try to convert to float those values of a maximum length. If it raises an error, it means there are values that are strings. In that case, I try using a shorter length for figures."
   ]
  },
  {
   "cell_type": "markdown",
   "id": "d6d8a00d-dbdb-4aed-84a7-ffaebc6dfc0f",
   "metadata": {},
   "source": [
    "Length 5 raises an error, but maximum length of pages figure of 4 doesn't."
   ]
  },
  {
   "cell_type": "code",
   "execution_count": 34,
   "id": "f2fe7ea1-ade0-4cbf-b8ee-6854e0a2a2f7",
   "metadata": {},
   "outputs": [],
   "source": [
    "#df2.pages[df2.pages.str.len() <=5].astype(float)"
   ]
  },
  {
   "cell_type": "code",
   "execution_count": 35,
   "id": "ca5555b8-6f48-4284-97e4-b41dcc6dd0bf",
   "metadata": {},
   "outputs": [
    {
     "data": {
      "text/plain": [
       "0      500.0\n",
       "1      484.0\n",
       "2      274.0\n",
       "3      547.0\n",
       "4      368.0\n",
       "       ...  \n",
       "822    165.0\n",
       "824    280.0\n",
       "825    208.0\n",
       "826    573.0\n",
       "827    288.0\n",
       "Name: pages, Length: 736, dtype: float64"
      ]
     },
     "execution_count": 35,
     "metadata": {},
     "output_type": "execute_result"
    }
   ],
   "source": [
    "df2.pages[df2.pages.str.len() <=4].astype(float)"
   ]
  },
  {
   "cell_type": "markdown",
   "id": "df6bde07-e442-48ab-88e3-03db35e69f64",
   "metadata": {},
   "source": [
    "Now I know that values longer than 4 are comments. Shorter values correspond to pages number, so there won't be a comment (use NaN). With this information I create a column with comments."
   ]
  },
  {
   "cell_type": "code",
   "execution_count": 36,
   "id": "ad97ced6-74ec-4cd6-a597-aea9359c4879",
   "metadata": {
    "collapsed": true,
    "jupyter": {
     "outputs_hidden": true
    },
    "tags": []
   },
   "outputs": [
    {
     "name": "stderr",
     "output_type": "stream",
     "text": [
      "/tmp/ipykernel_3834/3462824006.py:1: SettingWithCopyWarning: \n",
      "A value is trying to be set on a copy of a slice from a DataFrame.\n",
      "Try using .loc[row_indexer,col_indexer] = value instead\n",
      "\n",
      "See the caveats in the documentation: https://pandas.pydata.org/pandas-docs/stable/user_guide/indexing.html#returning-a-view-versus-a-copy\n",
      "  df2['comments'] = np.where(df2.pages.str.len() >= 5, df2.pages, np.nan)\n"
     ]
    }
   ],
   "source": [
    "df2['comments'] = np.where(df2.pages.str.len() >= 5, df2.pages, np.nan)"
   ]
  },
  {
   "cell_type": "markdown",
   "id": "46419c90-e0c1-4af1-b9a8-6c29fb0061fd",
   "metadata": {},
   "source": [
    "Now let's finally clean the pages column."
   ]
  },
  {
   "cell_type": "code",
   "execution_count": 37,
   "id": "6ec72bf5-405e-4fb4-b81e-25a4af6161c5",
   "metadata": {
    "collapsed": true,
    "jupyter": {
     "outputs_hidden": true
    },
    "tags": []
   },
   "outputs": [
    {
     "name": "stderr",
     "output_type": "stream",
     "text": [
      "/tmp/ipykernel_3834/2976936717.py:1: SettingWithCopyWarning: \n",
      "A value is trying to be set on a copy of a slice from a DataFrame.\n",
      "Try using .loc[row_indexer,col_indexer] = value instead\n",
      "\n",
      "See the caveats in the documentation: https://pandas.pydata.org/pandas-docs/stable/user_guide/indexing.html#returning-a-view-versus-a-copy\n",
      "  df2.pages = np.where(df2.pages.str.len() <= 4, df2.pages, np.nan).astype(float)\n"
     ]
    }
   ],
   "source": [
    "df2.pages = np.where(df2.pages.str.len() <= 4, df2.pages, np.nan).astype(float)"
   ]
  },
  {
   "cell_type": "code",
   "execution_count": 38,
   "id": "9764b855-73d9-4371-8b4f-4f29bd17ed18",
   "metadata": {
    "tags": []
   },
   "outputs": [
    {
     "data": {
      "text/html": [
       "<div>\n",
       "<style scoped>\n",
       "    .dataframe tbody tr th:only-of-type {\n",
       "        vertical-align: middle;\n",
       "    }\n",
       "\n",
       "    .dataframe tbody tr th {\n",
       "        vertical-align: top;\n",
       "    }\n",
       "\n",
       "    .dataframe thead th {\n",
       "        text-align: right;\n",
       "    }\n",
       "</style>\n",
       "<table border=\"1\" class=\"dataframe\">\n",
       "  <thead>\n",
       "    <tr style=\"text-align: right;\">\n",
       "      <th></th>\n",
       "      <th>title</th>\n",
       "      <th>author</th>\n",
       "      <th>price</th>\n",
       "      <th>pages</th>\n",
       "      <th>language</th>\n",
       "      <th>publisher</th>\n",
       "      <th>ISBN_13</th>\n",
       "      <th>complete_link</th>\n",
       "      <th>comments</th>\n",
       "    </tr>\n",
       "  </thead>\n",
       "  <tbody>\n",
       "    <tr>\n",
       "      <th>753</th>\n",
       "      <td>Practitioner’s Guide to Data Science: Streamli...</td>\n",
       "      <td>Nasir Ali Mirza</td>\n",
       "      <td>29.95</td>\n",
       "      <td>242.0</td>\n",
       "      <td>English</td>\n",
       "      <td>BPB Publications (January 17, 2022)</td>\n",
       "      <td>978-9391392871</td>\n",
       "      <td>https://www.amazon.com/gp/slredirect/picassoRe...</td>\n",
       "      <td>NaN</td>\n",
       "    </tr>\n",
       "    <tr>\n",
       "      <th>148</th>\n",
       "      <td>Practical Data Analysis Using Jupyter Notebook...</td>\n",
       "      <td>Marc Wintjen and Andrew Vlahutin</td>\n",
       "      <td>34.99</td>\n",
       "      <td>322.0</td>\n",
       "      <td>English</td>\n",
       "      <td>Packt Publishing (June 19, 2020)</td>\n",
       "      <td>978-1838826031</td>\n",
       "      <td>https://www.amazon.com/Practical-Analysis-Usin...</td>\n",
       "      <td>NaN</td>\n",
       "    </tr>\n",
       "    <tr>\n",
       "      <th>121</th>\n",
       "      <td>Doing Data Science: Straight Talk from the Fro...</td>\n",
       "      <td>\"Cathy ONeil\" and Rachel Schutt</td>\n",
       "      <td>26.44</td>\n",
       "      <td>408.0</td>\n",
       "      <td>English</td>\n",
       "      <td>O'Reilly Media; 1st edition (November 19, 2013)</td>\n",
       "      <td>#NAME?</td>\n",
       "      <td>https://www.amazon.com/Doing-Data-Science-Stra...</td>\n",
       "      <td>NaN</td>\n",
       "    </tr>\n",
       "    <tr>\n",
       "      <th>400</th>\n",
       "      <td>Impractical Python Projects: Playful Programmi...</td>\n",
       "      <td>Lee Vaughan</td>\n",
       "      <td>18.99</td>\n",
       "      <td>424.0</td>\n",
       "      <td>English</td>\n",
       "      <td>No Starch Press; Illustrated edition (November...</td>\n",
       "      <td></td>\n",
       "      <td>https://www.amazon.com/Impractical-Python-Proj...</td>\n",
       "      <td>NaN</td>\n",
       "    </tr>\n",
       "    <tr>\n",
       "      <th>382</th>\n",
       "      <td>Python 3: The Comprehensive Guide to Hands-On ...</td>\n",
       "      <td>Johannes Ernesti and Peter Kaiser</td>\n",
       "      <td>55.48</td>\n",
       "      <td>NaN</td>\n",
       "      <td>standard library</td>\n",
       "      <td>Rheinwerk Computing; First edition (September ...</td>\n",
       "      <td>978-1493223022</td>\n",
       "      <td>https://www.amazon.com/gp/slredirect/picassoRe...</td>\n",
       "      <td>1,000</td>\n",
       "    </tr>\n",
       "  </tbody>\n",
       "</table>\n",
       "</div>"
      ],
      "text/plain": [
       "                                                 title  \\\n",
       "753  Practitioner’s Guide to Data Science: Streamli...   \n",
       "148  Practical Data Analysis Using Jupyter Notebook...   \n",
       "121  Doing Data Science: Straight Talk from the Fro...   \n",
       "400  Impractical Python Projects: Playful Programmi...   \n",
       "382  Python 3: The Comprehensive Guide to Hands-On ...   \n",
       "\n",
       "                                author  price  pages          language  \\\n",
       "753                    Nasir Ali Mirza  29.95  242.0           English   \n",
       "148   Marc Wintjen and Andrew Vlahutin  34.99  322.0           English   \n",
       "121    \"Cathy ONeil\" and Rachel Schutt  26.44  408.0           English   \n",
       "400                        Lee Vaughan  18.99  424.0           English   \n",
       "382  Johannes Ernesti and Peter Kaiser  55.48    NaN  standard library   \n",
       "\n",
       "                                             publisher         ISBN_13  \\\n",
       "753                BPB Publications (January 17, 2022)  978-9391392871   \n",
       "148                   Packt Publishing (June 19, 2020)  978-1838826031   \n",
       "121    O'Reilly Media; 1st edition (November 19, 2013)          #NAME?   \n",
       "400  No Starch Press; Illustrated edition (November...                   \n",
       "382  Rheinwerk Computing; First edition (September ...  978-1493223022   \n",
       "\n",
       "                                         complete_link comments  \n",
       "753  https://www.amazon.com/gp/slredirect/picassoRe...      NaN  \n",
       "148  https://www.amazon.com/Practical-Analysis-Usin...      NaN  \n",
       "121  https://www.amazon.com/Doing-Data-Science-Stra...      NaN  \n",
       "400  https://www.amazon.com/Impractical-Python-Proj...      NaN  \n",
       "382  https://www.amazon.com/gp/slredirect/picassoRe...    1,000  "
      ]
     },
     "execution_count": 38,
     "metadata": {},
     "output_type": "execute_result"
    }
   ],
   "source": [
    "df2.sample(5)"
   ]
  },
  {
   "cell_type": "markdown",
   "id": "b33959be-5e88-43aa-8c6e-2a0c162c5eb9",
   "metadata": {},
   "source": [
    "Next column to clean will be `language'."
   ]
  },
  {
   "cell_type": "code",
   "execution_count": 40,
   "id": "8a942aa8-29e7-468a-8dd9-4b1ee4bf4bd5",
   "metadata": {
    "tags": []
   },
   "outputs": [
    {
     "data": {
      "text/plain": [
       "array(['English', nan, 'Spanish',\n",
       "       'Unqualified, Japanese (Dolby Digital 2.0 Mono), English (Dolby Digital 5.1), English (Dolby Digital 2.0 Mono)',\n",
       "       'you will discover all you need ',\n",
       "       '• How to make better business decisions using ',\n",
       "       'Concepts are presented in a \"to-the-point\" style to cater to the busy individual. With this book, you can learn Python in just one day and start coding immediately. ',\n",
       "       'standard library',\n",
       "       'This Python programming guide assumes certain level of programming knowledge. It is not a beginner textbook.',\n",
       "       'Scroll to the top of the page and click the ',\n",
       "       'English (Dolby Digital 2.0 Mono)',\n",
       "       'English (DTS-HD Master Audio 5.1), French (DTS-HD 2.0)',\n",
       "       '\"Brilliant.\"'], dtype=object)"
      ]
     },
     "execution_count": 40,
     "metadata": {},
     "output_type": "execute_result"
    }
   ],
   "source": [
    "df.language.unique()"
   ]
  },
  {
   "cell_type": "markdown",
   "id": "e7a33e4f-6967-4d9a-b451-9a1b1e8b2e91",
   "metadata": {},
   "source": [
    "Some values have `English` or `Spanish` as language values. Some others have languages with other comments. Other values are just comments. This needs a more deep cleaning than previous columns."
   ]
  },
  {
   "cell_type": "markdown",
   "id": "ea031c7c-4bd3-4fbe-a0aa-1d6d959350ae",
   "metadata": {},
   "source": [
    "`language` values that don't have English, Spanish, Japanese or French, will be considered as comments."
   ]
  },
  {
   "cell_type": "code",
   "execution_count": 58,
   "id": "e5f69f94-e72a-4c4d-938d-e720e465985c",
   "metadata": {},
   "outputs": [
    {
     "ename": "IndexingError",
     "evalue": "Unalignable boolean Series provided as indexer (index of the boolean Series and of the indexed object do not match).",
     "output_type": "error",
     "traceback": [
      "\u001b[0;31m---------------------------------------------------------------------------\u001b[0m",
      "\u001b[0;31mIndexingError\u001b[0m                             Traceback (most recent call last)",
      "Cell \u001b[0;32mIn[58], line 1\u001b[0m\n\u001b[0;32m----> 1\u001b[0m \u001b[43mdf2\u001b[49m\u001b[38;5;241;43m.\u001b[39;49m\u001b[43mlanguage\u001b[49m\u001b[43m[\u001b[49m\u001b[38;5;241;43m~\u001b[39;49m\u001b[43mdf2\u001b[49m\u001b[38;5;241;43m.\u001b[39;49m\u001b[43mlanguage\u001b[49m\u001b[38;5;241;43m.\u001b[39;49m\u001b[43mdropna\u001b[49m\u001b[43m(\u001b[49m\u001b[43m)\u001b[49m\u001b[38;5;241;43m.\u001b[39;49m\u001b[43mstr\u001b[49m\u001b[38;5;241;43m.\u001b[39;49m\u001b[43mcontains\u001b[49m\u001b[43m(\u001b[49m\u001b[38;5;124;43m'\u001b[39;49m\u001b[38;5;124;43mEnglish\u001b[39;49m\u001b[38;5;124;43m'\u001b[39;49m\u001b[43m)\u001b[49m\u001b[43m]\u001b[49m\n",
      "File \u001b[0;32m~/miniconda3/envs/data/lib/python3.10/site-packages/pandas/core/series.py:1003\u001b[0m, in \u001b[0;36mSeries.__getitem__\u001b[0;34m(self, key)\u001b[0m\n\u001b[1;32m   1000\u001b[0m     key \u001b[38;5;241m=\u001b[39m \u001b[38;5;28mlist\u001b[39m(key)\n\u001b[1;32m   1002\u001b[0m \u001b[38;5;28;01mif\u001b[39;00m com\u001b[38;5;241m.\u001b[39mis_bool_indexer(key):\n\u001b[0;32m-> 1003\u001b[0m     key \u001b[38;5;241m=\u001b[39m \u001b[43mcheck_bool_indexer\u001b[49m\u001b[43m(\u001b[49m\u001b[38;5;28;43mself\u001b[39;49m\u001b[38;5;241;43m.\u001b[39;49m\u001b[43mindex\u001b[49m\u001b[43m,\u001b[49m\u001b[43m \u001b[49m\u001b[43mkey\u001b[49m\u001b[43m)\u001b[49m\n\u001b[1;32m   1004\u001b[0m     key \u001b[38;5;241m=\u001b[39m np\u001b[38;5;241m.\u001b[39masarray(key, dtype\u001b[38;5;241m=\u001b[39m\u001b[38;5;28mbool\u001b[39m)\n\u001b[1;32m   1005\u001b[0m     \u001b[38;5;28;01mreturn\u001b[39;00m \u001b[38;5;28mself\u001b[39m\u001b[38;5;241m.\u001b[39m_get_values(key)\n",
      "File \u001b[0;32m~/miniconda3/envs/data/lib/python3.10/site-packages/pandas/core/indexing.py:2552\u001b[0m, in \u001b[0;36mcheck_bool_indexer\u001b[0;34m(index, key)\u001b[0m\n\u001b[1;32m   2550\u001b[0m indexer \u001b[38;5;241m=\u001b[39m result\u001b[38;5;241m.\u001b[39mindex\u001b[38;5;241m.\u001b[39mget_indexer_for(index)\n\u001b[1;32m   2551\u001b[0m \u001b[38;5;28;01mif\u001b[39;00m \u001b[38;5;241m-\u001b[39m\u001b[38;5;241m1\u001b[39m \u001b[38;5;129;01min\u001b[39;00m indexer:\n\u001b[0;32m-> 2552\u001b[0m     \u001b[38;5;28;01mraise\u001b[39;00m IndexingError(\n\u001b[1;32m   2553\u001b[0m         \u001b[38;5;124m\"\u001b[39m\u001b[38;5;124mUnalignable boolean Series provided as \u001b[39m\u001b[38;5;124m\"\u001b[39m\n\u001b[1;32m   2554\u001b[0m         \u001b[38;5;124m\"\u001b[39m\u001b[38;5;124mindexer (index of the boolean Series and of \u001b[39m\u001b[38;5;124m\"\u001b[39m\n\u001b[1;32m   2555\u001b[0m         \u001b[38;5;124m\"\u001b[39m\u001b[38;5;124mthe indexed object do not match).\u001b[39m\u001b[38;5;124m\"\u001b[39m\n\u001b[1;32m   2556\u001b[0m     )\n\u001b[1;32m   2558\u001b[0m result \u001b[38;5;241m=\u001b[39m result\u001b[38;5;241m.\u001b[39mtake(indexer)\n\u001b[1;32m   2560\u001b[0m \u001b[38;5;66;03m# fall through for boolean\u001b[39;00m\n",
      "\u001b[0;31mIndexingError\u001b[0m: Unalignable boolean Series provided as indexer (index of the boolean Series and of the indexed object do not match)."
     ]
    }
   ],
   "source": [
    "df2.language[~df2.language.dropna().str.contains('English')]"
   ]
  },
  {
   "cell_type": "code",
   "execution_count": null,
   "id": "cfd98389-67bd-4260-b85a-cb3a884ad903",
   "metadata": {},
   "outputs": [],
   "source": []
  }
 ],
 "metadata": {
  "kernelspec": {
   "display_name": "Python 3 (ipykernel)",
   "language": "python",
   "name": "python3"
  },
  "language_info": {
   "codemirror_mode": {
    "name": "ipython",
    "version": 3
   },
   "file_extension": ".py",
   "mimetype": "text/x-python",
   "name": "python",
   "nbconvert_exporter": "python",
   "pygments_lexer": "ipython3",
   "version": "3.10.9"
  }
 },
 "nbformat": 4,
 "nbformat_minor": 5
}
