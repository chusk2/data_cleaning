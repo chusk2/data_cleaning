{
 "cells": [
  {
   "cell_type": "code",
   "execution_count": 1,
   "id": "c297ef99-c3db-482d-89f0-45bc7ce4219f",
   "metadata": {
    "tags": []
   },
   "outputs": [],
   "source": [
    "import pandas as pd\n",
    "import numpy as np"
   ]
  },
  {
   "cell_type": "code",
   "execution_count": 2,
   "id": "60712390-4e5c-4dd8-8176-9c3be7d047e8",
   "metadata": {
    "tags": []
   },
   "outputs": [],
   "source": [
    "data = pd.read_csv('data_science_books.csv')"
   ]
  },
  {
   "cell_type": "code",
   "execution_count": 3,
   "id": "49961fb1-e995-4a9c-a089-10c7d96a8de8",
   "metadata": {
    "tags": []
   },
   "outputs": [
    {
     "data": {
      "text/html": [
       "<div>\n",
       "<style scoped>\n",
       "    .dataframe tbody tr th:only-of-type {\n",
       "        vertical-align: middle;\n",
       "    }\n",
       "\n",
       "    .dataframe tbody tr th {\n",
       "        vertical-align: top;\n",
       "    }\n",
       "\n",
       "    .dataframe thead th {\n",
       "        text-align: right;\n",
       "    }\n",
       "</style>\n",
       "<table border=\"1\" class=\"dataframe\">\n",
       "  <thead>\n",
       "    <tr style=\"text-align: right;\">\n",
       "      <th></th>\n",
       "      <th>title</th>\n",
       "      <th>author</th>\n",
       "      <th>price</th>\n",
       "      <th>price (including used books)</th>\n",
       "      <th>pages</th>\n",
       "      <th>avg_reviews</th>\n",
       "      <th>n_reviews</th>\n",
       "      <th>star5</th>\n",
       "      <th>star4</th>\n",
       "      <th>star3</th>\n",
       "      <th>star2</th>\n",
       "      <th>star1</th>\n",
       "      <th>dimensions</th>\n",
       "      <th>weight</th>\n",
       "      <th>language</th>\n",
       "      <th>publisher</th>\n",
       "      <th>ISBN_13</th>\n",
       "      <th>link</th>\n",
       "      <th>complete_link</th>\n",
       "    </tr>\n",
       "  </thead>\n",
       "  <tbody>\n",
       "    <tr>\n",
       "      <th>0</th>\n",
       "      <td>Data Analysis Using R (Low Priced Edition): A ...</td>\n",
       "      <td>[ Dr Dhaval Maheta]</td>\n",
       "      <td>6.75</td>\n",
       "      <td>6.75</td>\n",
       "      <td>500</td>\n",
       "      <td>4.4</td>\n",
       "      <td>23</td>\n",
       "      <td>55%</td>\n",
       "      <td>39%</td>\n",
       "      <td>6%</td>\n",
       "      <td>NaN</td>\n",
       "      <td>NaN</td>\n",
       "      <td>8.5 x 1.01 x 11 inches</td>\n",
       "      <td>2.53 pounds</td>\n",
       "      <td>English</td>\n",
       "      <td>Notion Press Media Pvt Ltd (November 22, 2021)</td>\n",
       "      <td>978-1685549596</td>\n",
       "      <td>/Data-Analysis-Using-Low-Priced/dp/1685549594/...</td>\n",
       "      <td>https://www.amazon.com/Data-Analysis-Using-Low...</td>\n",
       "    </tr>\n",
       "    <tr>\n",
       "      <th>1</th>\n",
       "      <td>Head First Data Analysis: A learner's guide to...</td>\n",
       "      <td>NaN</td>\n",
       "      <td>33.72</td>\n",
       "      <td>21.49 - 33.72</td>\n",
       "      <td>484</td>\n",
       "      <td>4.3</td>\n",
       "      <td>124</td>\n",
       "      <td>61%</td>\n",
       "      <td>20%</td>\n",
       "      <td>9%</td>\n",
       "      <td>4%</td>\n",
       "      <td>6%</td>\n",
       "      <td>8 x 0.98 x 9.25 inches</td>\n",
       "      <td>1.96 pounds</td>\n",
       "      <td>English</td>\n",
       "      <td>O'Reilly Media; 1st edition (August 18, 2009)</td>\n",
       "      <td>978-0596153939</td>\n",
       "      <td>/Head-First-Data-Analysis-statistics/dp/059615...</td>\n",
       "      <td>https://www.amazon.com/Head-First-Data-Analysi...</td>\n",
       "    </tr>\n",
       "    <tr>\n",
       "      <th>2</th>\n",
       "      <td>Guerrilla Data Analysis Using Microsoft Excel:...</td>\n",
       "      <td>[ Oz du Soleil,  and , Bill Jelen]</td>\n",
       "      <td>32.07</td>\n",
       "      <td>32.07</td>\n",
       "      <td>274</td>\n",
       "      <td>4.7</td>\n",
       "      <td>10</td>\n",
       "      <td>87%</td>\n",
       "      <td>13%</td>\n",
       "      <td>NaN</td>\n",
       "      <td>NaN</td>\n",
       "      <td>NaN</td>\n",
       "      <td>8.25 x 0.6 x 10.75 inches</td>\n",
       "      <td>1.4 pounds</td>\n",
       "      <td>English</td>\n",
       "      <td>Holy Macro! Books; Third edition (August 1, 2022)</td>\n",
       "      <td>978-1615470747</td>\n",
       "      <td>/Guerrilla-Analysis-Using-Microsoft-Excel/dp/1...</td>\n",
       "      <td>https://www.amazon.com/Guerrilla-Analysis-Usin...</td>\n",
       "    </tr>\n",
       "    <tr>\n",
       "      <th>3</th>\n",
       "      <td>Python for Data Analysis: Data Wrangling with ...</td>\n",
       "      <td>[ William McKinney]</td>\n",
       "      <td>53.99</td>\n",
       "      <td>53.99</td>\n",
       "      <td>547</td>\n",
       "      <td>4.6</td>\n",
       "      <td>1,686</td>\n",
       "      <td>75%</td>\n",
       "      <td>16%</td>\n",
       "      <td>5%</td>\n",
       "      <td>2%</td>\n",
       "      <td>2%</td>\n",
       "      <td>7 x 1.11 x 9.19 inches</td>\n",
       "      <td>1.47 pounds</td>\n",
       "      <td>English</td>\n",
       "      <td>O'Reilly Media; 2nd edition (November 14, 2017)</td>\n",
       "      <td>978-1491957660</td>\n",
       "      <td>/Python-Data-Analysis-Wrangling-IPython/dp/149...</td>\n",
       "      <td>https://www.amazon.com/Python-Data-Analysis-Wr...</td>\n",
       "    </tr>\n",
       "    <tr>\n",
       "      <th>4</th>\n",
       "      <td>Excel Data Analysis For Dummies (For Dummies (...</td>\n",
       "      <td>[ Paul McFedries]</td>\n",
       "      <td>24.49</td>\n",
       "      <td>24.49</td>\n",
       "      <td>368</td>\n",
       "      <td>3.9</td>\n",
       "      <td>12</td>\n",
       "      <td>52%</td>\n",
       "      <td>17%</td>\n",
       "      <td>10%</td>\n",
       "      <td>10%</td>\n",
       "      <td>10%</td>\n",
       "      <td>7.38 x 0.83 x 9.25 inches</td>\n",
       "      <td>1.3 pounds</td>\n",
       "      <td>English</td>\n",
       "      <td>For Dummies; 5th edition (February 3, 2022)</td>\n",
       "      <td>978-1119844426</td>\n",
       "      <td>/Excel-Data-Analysis-Dummies-Computer/dp/11198...</td>\n",
       "      <td>https://www.amazon.com/Excel-Data-Analysis-Dum...</td>\n",
       "    </tr>\n",
       "  </tbody>\n",
       "</table>\n",
       "</div>"
      ],
      "text/plain": [
       "                                               title  \\\n",
       "0  Data Analysis Using R (Low Priced Edition): A ...   \n",
       "1  Head First Data Analysis: A learner's guide to...   \n",
       "2  Guerrilla Data Analysis Using Microsoft Excel:...   \n",
       "3  Python for Data Analysis: Data Wrangling with ...   \n",
       "4  Excel Data Analysis For Dummies (For Dummies (...   \n",
       "\n",
       "                               author  price price (including used books)  \\\n",
       "0                 [ Dr Dhaval Maheta]   6.75                         6.75   \n",
       "1                                 NaN  33.72               21.49 - 33.72    \n",
       "2  [ Oz du Soleil,  and , Bill Jelen]  32.07                        32.07   \n",
       "3                 [ William McKinney]  53.99                        53.99   \n",
       "4                   [ Paul McFedries]  24.49                        24.49   \n",
       "\n",
       "  pages  avg_reviews n_reviews star5 star4 star3 star2 star1  \\\n",
       "0   500          4.4        23   55%   39%    6%   NaN   NaN   \n",
       "1   484          4.3       124   61%   20%    9%    4%    6%   \n",
       "2   274          4.7        10   87%   13%   NaN   NaN   NaN   \n",
       "3   547          4.6     1,686   75%   16%    5%    2%    2%   \n",
       "4   368          3.9        12   52%   17%   10%   10%   10%   \n",
       "\n",
       "                  dimensions       weight language  \\\n",
       "0     8.5 x 1.01 x 11 inches  2.53 pounds  English   \n",
       "1     8 x 0.98 x 9.25 inches  1.96 pounds  English   \n",
       "2  8.25 x 0.6 x 10.75 inches   1.4 pounds  English   \n",
       "3     7 x 1.11 x 9.19 inches  1.47 pounds  English   \n",
       "4  7.38 x 0.83 x 9.25 inches   1.3 pounds  English   \n",
       "\n",
       "                                           publisher         ISBN_13  \\\n",
       "0     Notion Press Media Pvt Ltd (November 22, 2021)  978-1685549596   \n",
       "1      O'Reilly Media; 1st edition (August 18, 2009)  978-0596153939   \n",
       "2  Holy Macro! Books; Third edition (August 1, 2022)  978-1615470747   \n",
       "3    O'Reilly Media; 2nd edition (November 14, 2017)  978-1491957660   \n",
       "4        For Dummies; 5th edition (February 3, 2022)  978-1119844426   \n",
       "\n",
       "                                                link  \\\n",
       "0  /Data-Analysis-Using-Low-Priced/dp/1685549594/...   \n",
       "1  /Head-First-Data-Analysis-statistics/dp/059615...   \n",
       "2  /Guerrilla-Analysis-Using-Microsoft-Excel/dp/1...   \n",
       "3  /Python-Data-Analysis-Wrangling-IPython/dp/149...   \n",
       "4  /Excel-Data-Analysis-Dummies-Computer/dp/11198...   \n",
       "\n",
       "                                       complete_link  \n",
       "0  https://www.amazon.com/Data-Analysis-Using-Low...  \n",
       "1  https://www.amazon.com/Head-First-Data-Analysi...  \n",
       "2  https://www.amazon.com/Guerrilla-Analysis-Usin...  \n",
       "3  https://www.amazon.com/Python-Data-Analysis-Wr...  \n",
       "4  https://www.amazon.com/Excel-Data-Analysis-Dum...  "
      ]
     },
     "execution_count": 3,
     "metadata": {},
     "output_type": "execute_result"
    }
   ],
   "source": [
    "data.head()"
   ]
  },
  {
   "cell_type": "code",
   "execution_count": 4,
   "id": "3f218e29-ba1c-4433-8e41-778281cf445f",
   "metadata": {
    "tags": []
   },
   "outputs": [
    {
     "data": {
      "text/plain": [
       "Index(['title', 'author', 'price', 'price (including used books)', 'pages',\n",
       "       'avg_reviews', 'n_reviews', 'star5', 'star4', 'star3', 'star2', 'star1',\n",
       "       'dimensions', 'weight', 'language', 'publisher', 'ISBN_13', 'link',\n",
       "       'complete_link'],\n",
       "      dtype='object')"
      ]
     },
     "execution_count": 4,
     "metadata": {},
     "output_type": "execute_result"
    }
   ],
   "source": [
    "data.columns"
   ]
  },
  {
   "cell_type": "code",
   "execution_count": 5,
   "id": "234e9764-c457-44eb-adeb-56acf16e437f",
   "metadata": {
    "tags": []
   },
   "outputs": [],
   "source": [
    "df = data['title, author, price, pages, language, publisher, ISBN_13, complete_link'.split(', ')]"
   ]
  },
  {
   "cell_type": "code",
   "execution_count": 6,
   "id": "2b211737-7151-4681-be8d-489a9bf572d9",
   "metadata": {
    "tags": []
   },
   "outputs": [
    {
     "data": {
      "text/plain": [
       "Index(['title', 'author', 'price', 'pages', 'language', 'publisher', 'ISBN_13',\n",
       "       'complete_link'],\n",
       "      dtype='object')"
      ]
     },
     "execution_count": 6,
     "metadata": {},
     "output_type": "execute_result"
    }
   ],
   "source": [
    "df.columns"
   ]
  },
  {
   "cell_type": "code",
   "execution_count": 7,
   "id": "cc7ede8c-b2c8-4768-82b3-ab87dbb1df28",
   "metadata": {},
   "outputs": [
    {
     "data": {
      "text/plain": [
       "830"
      ]
     },
     "execution_count": 7,
     "metadata": {},
     "output_type": "execute_result"
    }
   ],
   "source": [
    "df.author.isna().count()"
   ]
  },
  {
   "cell_type": "code",
   "execution_count": 8,
   "id": "60ed451c-b9c4-4ba0-bde5-9af68b7f4191",
   "metadata": {
    "tags": []
   },
   "outputs": [],
   "source": [
    "def clean_author(value):\n",
    "\tif value == value:\n",
    "\t\treturn value.lstrip('[ ').rstrip(']').replace(',  and ,', ' and')\n",
    "\telse:\n",
    "\t\treturn value"
   ]
  },
  {
   "cell_type": "code",
   "execution_count": 9,
   "id": "7bb1c636-d201-4aeb-9309-08708dfe8b51",
   "metadata": {
    "tags": []
   },
   "outputs": [
    {
     "name": "stderr",
     "output_type": "stream",
     "text": [
      "/tmp/ipykernel_3554/4174911401.py:1: SettingWithCopyWarning: \n",
      "A value is trying to be set on a copy of a slice from a DataFrame.\n",
      "Try using .loc[row_indexer,col_indexer] = value instead\n",
      "\n",
      "See the caveats in the documentation: https://pandas.pydata.org/pandas-docs/stable/user_guide/indexing.html#returning-a-view-versus-a-copy\n",
      "  df.author = df.author.apply(clean_author)\n"
     ]
    }
   ],
   "source": [
    "df.author = df.author.apply(clean_author)"
   ]
  },
  {
   "cell_type": "code",
   "execution_count": 10,
   "id": "2cf1e3ce-cce7-4cba-ad88-1933416239d9",
   "metadata": {
    "tags": []
   },
   "outputs": [
    {
     "data": {
      "text/html": [
       "<div>\n",
       "<style scoped>\n",
       "    .dataframe tbody tr th:only-of-type {\n",
       "        vertical-align: middle;\n",
       "    }\n",
       "\n",
       "    .dataframe tbody tr th {\n",
       "        vertical-align: top;\n",
       "    }\n",
       "\n",
       "    .dataframe thead th {\n",
       "        text-align: right;\n",
       "    }\n",
       "</style>\n",
       "<table border=\"1\" class=\"dataframe\">\n",
       "  <thead>\n",
       "    <tr style=\"text-align: right;\">\n",
       "      <th></th>\n",
       "      <th>title</th>\n",
       "      <th>author</th>\n",
       "      <th>price</th>\n",
       "      <th>pages</th>\n",
       "      <th>language</th>\n",
       "      <th>publisher</th>\n",
       "      <th>ISBN_13</th>\n",
       "      <th>complete_link</th>\n",
       "    </tr>\n",
       "  </thead>\n",
       "  <tbody>\n",
       "    <tr>\n",
       "      <th>384</th>\n",
       "      <td>Invent Your Own Computer Games with Python, 4t...</td>\n",
       "      <td>Al Sweigart</td>\n",
       "      <td>20.49</td>\n",
       "      <td>376</td>\n",
       "      <td>English</td>\n",
       "      <td>No Starch Press; 4th edition (December 16, 2016)</td>\n",
       "      <td></td>\n",
       "      <td>https://www.amazon.com/Invent-Your-Computer-Ga...</td>\n",
       "    </tr>\n",
       "    <tr>\n",
       "      <th>707</th>\n",
       "      <td>Data Quality Fundamentals: A Practitioner's Gu...</td>\n",
       "      <td>Barr Moses, Lior Gavish, et al.</td>\n",
       "      <td>46.99</td>\n",
       "      <td>308</td>\n",
       "      <td>English</td>\n",
       "      <td>O'Reilly Media; 1st edition (October 11, 2022)</td>\n",
       "      <td>-22%</td>\n",
       "      <td>https://www.amazon.com/Data-Quality-Fundamenta...</td>\n",
       "    </tr>\n",
       "    <tr>\n",
       "      <th>723</th>\n",
       "      <td>Introducing Data Science: Big Data, Machine Le...</td>\n",
       "      <td>Davy Cielen, Arno Meysman, et al.</td>\n",
       "      <td>42.74</td>\n",
       "      <td>320</td>\n",
       "      <td>English</td>\n",
       "      <td>Manning; 1st edition (May 23, 2016)</td>\n",
       "      <td>978-1633430037</td>\n",
       "      <td>https://www.amazon.com/Introducing-Data-Scienc...</td>\n",
       "    </tr>\n",
       "    <tr>\n",
       "      <th>251</th>\n",
       "      <td>Humanities Data Analysis: Case Studies with Py...</td>\n",
       "      <td>Folgert Karsdorp, Mike Kestemont, et al.</td>\n",
       "      <td>19.31</td>\n",
       "      <td>360</td>\n",
       "      <td>English</td>\n",
       "      <td>Princeton University Press (January 12, 2021)</td>\n",
       "      <td>978-0691172361</td>\n",
       "      <td>https://www.amazon.com/Humanities-Data-Analysi...</td>\n",
       "    </tr>\n",
       "    <tr>\n",
       "      <th>12</th>\n",
       "      <td>Python for Beginners: 2 Books in 1: The Perfec...</td>\n",
       "      <td>Programming Languages Academy, Matthew Kinsey,...</td>\n",
       "      <td>NaN</td>\n",
       "      <td>NaN</td>\n",
       "      <td>NaN</td>\n",
       "      <td>NaN</td>\n",
       "      <td>NaN</td>\n",
       "      <td>https://www.amazon.com/Python-Beginners-Perfec...</td>\n",
       "    </tr>\n",
       "    <tr>\n",
       "      <th>487</th>\n",
       "      <td>Problem Solving with Algorithms and Data Struc...</td>\n",
       "      <td>Bradley N. Miller and David L. Ranum</td>\n",
       "      <td>42.75</td>\n",
       "      <td>438</td>\n",
       "      <td>English</td>\n",
       "      <td>Franklin, Beedle &amp; Associates; 2nd edition (Au...</td>\n",
       "      <td></td>\n",
       "      <td>https://www.amazon.com/Problem-Solving-Algorit...</td>\n",
       "    </tr>\n",
       "    <tr>\n",
       "      <th>740</th>\n",
       "      <td>Targeted Learning in Data Science: Causal Infe...</td>\n",
       "      <td>NaN</td>\n",
       "      <td>85.04</td>\n",
       "      <td>682</td>\n",
       "      <td>English</td>\n",
       "      <td>Springer; 1st ed. 2018 edition (April 10, 2018)</td>\n",
       "      <td></td>\n",
       "      <td>https://www.amazon.com/Targeted-Learning-Data-...</td>\n",
       "    </tr>\n",
       "    <tr>\n",
       "      <th>409</th>\n",
       "      <td>Python One-Liners: Write Concise, Eloquent Pyt...</td>\n",
       "      <td>Christian Mayer</td>\n",
       "      <td>39.55</td>\n",
       "      <td>216</td>\n",
       "      <td>English</td>\n",
       "      <td>No Starch Press; Illustrated edition (June 2, ...</td>\n",
       "      <td>978-1718500501</td>\n",
       "      <td>https://www.amazon.com/Python-One-Liners-Conci...</td>\n",
       "    </tr>\n",
       "    <tr>\n",
       "      <th>675</th>\n",
       "      <td>The Data Science Design Manual (Texts in Compu...</td>\n",
       "      <td>NaN</td>\n",
       "      <td>59.95</td>\n",
       "      <td>462</td>\n",
       "      <td>English</td>\n",
       "      <td>Springer; 1st ed. 2017 edition (August 29, 2017)</td>\n",
       "      <td>978-3319554433</td>\n",
       "      <td>https://www.amazon.com/Science-Design-Manual-T...</td>\n",
       "    </tr>\n",
       "    <tr>\n",
       "      <th>74</th>\n",
       "      <td>Talent Intelligence: Use Business and People D...</td>\n",
       "      <td>Toby Culshaw</td>\n",
       "      <td>41.99</td>\n",
       "      <td>256</td>\n",
       "      <td>English</td>\n",
       "      <td>Kogan Page; 1st edition (October 25, 2022)</td>\n",
       "      <td>978-1398607231</td>\n",
       "      <td>https://www.amazon.com/Talent-Intelligence-Bus...</td>\n",
       "    </tr>\n",
       "  </tbody>\n",
       "</table>\n",
       "</div>"
      ],
      "text/plain": [
       "                                                 title  \\\n",
       "384  Invent Your Own Computer Games with Python, 4t...   \n",
       "707  Data Quality Fundamentals: A Practitioner's Gu...   \n",
       "723  Introducing Data Science: Big Data, Machine Le...   \n",
       "251  Humanities Data Analysis: Case Studies with Py...   \n",
       "12   Python for Beginners: 2 Books in 1: The Perfec...   \n",
       "487  Problem Solving with Algorithms and Data Struc...   \n",
       "740  Targeted Learning in Data Science: Causal Infe...   \n",
       "409  Python One-Liners: Write Concise, Eloquent Pyt...   \n",
       "675  The Data Science Design Manual (Texts in Compu...   \n",
       "74   Talent Intelligence: Use Business and People D...   \n",
       "\n",
       "                                                author  price pages language  \\\n",
       "384                                        Al Sweigart  20.49   376  English   \n",
       "707                    Barr Moses, Lior Gavish, et al.  46.99   308  English   \n",
       "723                  Davy Cielen, Arno Meysman, et al.  42.74   320  English   \n",
       "251           Folgert Karsdorp, Mike Kestemont, et al.  19.31   360  English   \n",
       "12   Programming Languages Academy, Matthew Kinsey,...    NaN   NaN      NaN   \n",
       "487               Bradley N. Miller and David L. Ranum  42.75   438  English   \n",
       "740                                                NaN  85.04   682  English   \n",
       "409                                    Christian Mayer  39.55   216  English   \n",
       "675                                                NaN  59.95   462  English   \n",
       "74                                        Toby Culshaw  41.99   256  English   \n",
       "\n",
       "                                             publisher         ISBN_13  \\\n",
       "384   No Starch Press; 4th edition (December 16, 2016)                   \n",
       "707     O'Reilly Media; 1st edition (October 11, 2022)            -22%   \n",
       "723                Manning; 1st edition (May 23, 2016)  978-1633430037   \n",
       "251      Princeton University Press (January 12, 2021)  978-0691172361   \n",
       "12                                                 NaN             NaN   \n",
       "487  Franklin, Beedle & Associates; 2nd edition (Au...                   \n",
       "740    Springer; 1st ed. 2018 edition (April 10, 2018)                   \n",
       "409  No Starch Press; Illustrated edition (June 2, ...  978-1718500501   \n",
       "675   Springer; 1st ed. 2017 edition (August 29, 2017)  978-3319554433   \n",
       "74          Kogan Page; 1st edition (October 25, 2022)  978-1398607231   \n",
       "\n",
       "                                         complete_link  \n",
       "384  https://www.amazon.com/Invent-Your-Computer-Ga...  \n",
       "707  https://www.amazon.com/Data-Quality-Fundamenta...  \n",
       "723  https://www.amazon.com/Introducing-Data-Scienc...  \n",
       "251  https://www.amazon.com/Humanities-Data-Analysi...  \n",
       "12   https://www.amazon.com/Python-Beginners-Perfec...  \n",
       "487  https://www.amazon.com/Problem-Solving-Algorit...  \n",
       "740  https://www.amazon.com/Targeted-Learning-Data-...  \n",
       "409  https://www.amazon.com/Python-One-Liners-Conci...  \n",
       "675  https://www.amazon.com/Science-Design-Manual-T...  \n",
       "74   https://www.amazon.com/Talent-Intelligence-Bus...  "
      ]
     },
     "execution_count": 10,
     "metadata": {},
     "output_type": "execute_result"
    }
   ],
   "source": [
    "df.sample(10)"
   ]
  },
  {
   "cell_type": "markdown",
   "id": "f675699c-371e-4df1-b235-704be1c22f12",
   "metadata": {},
   "source": [
    "There's an error when trying to convert prices to float:  \n",
    "`ValueError: could not convert string to float: 'Explores all feature...`  \n",
    "Some values content comments, so I need to clean the price columns first."
   ]
  },
  {
   "cell_type": "code",
   "execution_count": 11,
   "id": "29129977-219e-47ed-9662-9acd1caaf7bf",
   "metadata": {
    "tags": []
   },
   "outputs": [],
   "source": [
    "#df.pages.astype(float)"
   ]
  },
  {
   "cell_type": "markdown",
   "id": "3a0fca49-e303-4c51-a5d8-f76d43841799",
   "metadata": {},
   "source": [
    "I will figure out what's the maximum lenght of the figures in pages column. I will try to convert to float those values of a maximum length. If it raises an error, it means there are values that are strings. In that case, I try using a shorter length for figures."
   ]
  },
  {
   "cell_type": "markdown",
   "id": "d6d8a00d-dbdb-4aed-84a7-ffaebc6dfc0f",
   "metadata": {},
   "source": [
    "Length 5 raises an error, but maximum length of pages figure of 4 doesn't."
   ]
  },
  {
   "cell_type": "code",
   "execution_count": 12,
   "id": "f2fe7ea1-ade0-4cbf-b8ee-6854e0a2a2f7",
   "metadata": {},
   "outputs": [],
   "source": [
    "#df.pages[df.pages.str.len() <=5].astype(float)"
   ]
  },
  {
   "cell_type": "code",
   "execution_count": 13,
   "id": "ca5555b8-6f48-4284-97e4-b41dcc6dd0bf",
   "metadata": {},
   "outputs": [
    {
     "data": {
      "text/plain": [
       "0      500.0\n",
       "1      484.0\n",
       "2      274.0\n",
       "3      547.0\n",
       "4      368.0\n",
       "       ...  \n",
       "822    165.0\n",
       "824    280.0\n",
       "825    208.0\n",
       "826    573.0\n",
       "827    288.0\n",
       "Name: pages, Length: 736, dtype: float64"
      ]
     },
     "execution_count": 13,
     "metadata": {},
     "output_type": "execute_result"
    }
   ],
   "source": [
    "df.pages[df.pages.str.len() <=4].astype(float)"
   ]
  },
  {
   "cell_type": "markdown",
   "id": "df6bde07-e442-48ab-88e3-03db35e69f64",
   "metadata": {},
   "source": [
    "Now I know that values longer than 4 are comments. Shorter values correspond to pages number, so there won't be a comment (use NaN). With this information I create a column with comments."
   ]
  },
  {
   "cell_type": "code",
   "execution_count": 14,
   "id": "ad97ced6-74ec-4cd6-a597-aea9359c4879",
   "metadata": {
    "tags": []
   },
   "outputs": [
    {
     "name": "stderr",
     "output_type": "stream",
     "text": [
      "/tmp/ipykernel_3554/3878540880.py:1: SettingWithCopyWarning: \n",
      "A value is trying to be set on a copy of a slice from a DataFrame.\n",
      "Try using .loc[row_indexer,col_indexer] = value instead\n",
      "\n",
      "See the caveats in the documentation: https://pandas.pydata.org/pandas-docs/stable/user_guide/indexing.html#returning-a-view-versus-a-copy\n",
      "  df['comments'] = np.where(df.pages.str.len() >= 5, df.pages, np.nan)\n"
     ]
    }
   ],
   "source": [
    "df['comments'] = np.where(df.pages.str.len() >= 5, df.pages, np.nan)"
   ]
  },
  {
   "cell_type": "markdown",
   "id": "46419c90-e0c1-4af1-b9a8-6c29fb0061fd",
   "metadata": {},
   "source": [
    "Now let's finally clean the pages column."
   ]
  },
  {
   "cell_type": "code",
   "execution_count": 15,
   "id": "6ec72bf5-405e-4fb4-b81e-25a4af6161c5",
   "metadata": {
    "tags": []
   },
   "outputs": [
    {
     "name": "stderr",
     "output_type": "stream",
     "text": [
      "/tmp/ipykernel_3554/108972310.py:1: SettingWithCopyWarning: \n",
      "A value is trying to be set on a copy of a slice from a DataFrame.\n",
      "Try using .loc[row_indexer,col_indexer] = value instead\n",
      "\n",
      "See the caveats in the documentation: https://pandas.pydata.org/pandas-docs/stable/user_guide/indexing.html#returning-a-view-versus-a-copy\n",
      "  df.pages = np.where(df.pages.str.len() <= 4, df.pages, np.nan).astype(float)\n"
     ]
    }
   ],
   "source": [
    "df.pages = np.where(df.pages.str.len() <= 4, df.pages, np.nan).astype(float)"
   ]
  },
  {
   "cell_type": "code",
   "execution_count": 16,
   "id": "9764b855-73d9-4371-8b4f-4f29bd17ed18",
   "metadata": {
    "tags": []
   },
   "outputs": [
    {
     "data": {
      "text/html": [
       "<div>\n",
       "<style scoped>\n",
       "    .dataframe tbody tr th:only-of-type {\n",
       "        vertical-align: middle;\n",
       "    }\n",
       "\n",
       "    .dataframe tbody tr th {\n",
       "        vertical-align: top;\n",
       "    }\n",
       "\n",
       "    .dataframe thead th {\n",
       "        text-align: right;\n",
       "    }\n",
       "</style>\n",
       "<table border=\"1\" class=\"dataframe\">\n",
       "  <thead>\n",
       "    <tr style=\"text-align: right;\">\n",
       "      <th></th>\n",
       "      <th>title</th>\n",
       "      <th>author</th>\n",
       "      <th>price</th>\n",
       "      <th>pages</th>\n",
       "      <th>language</th>\n",
       "      <th>publisher</th>\n",
       "      <th>ISBN_13</th>\n",
       "      <th>complete_link</th>\n",
       "      <th>comments</th>\n",
       "    </tr>\n",
       "  </thead>\n",
       "  <tbody>\n",
       "    <tr>\n",
       "      <th>721</th>\n",
       "      <td>A Hands-On Introduction to Data Science</td>\n",
       "      <td>Chirag Shah</td>\n",
       "      <td>53.98</td>\n",
       "      <td>424.0</td>\n",
       "      <td>English</td>\n",
       "      <td>Cambridge University Press; 1st edition (April...</td>\n",
       "      <td></td>\n",
       "      <td>https://www.amazon.com/Hands-Introduction-Data...</td>\n",
       "      <td>NaN</td>\n",
       "    </tr>\n",
       "    <tr>\n",
       "      <th>75</th>\n",
       "      <td>Time Series: A Data Analysis Approach Using R ...</td>\n",
       "      <td>NaN</td>\n",
       "      <td>57.34</td>\n",
       "      <td>271.0</td>\n",
       "      <td>English</td>\n",
       "      <td>Chapman and Hall/CRC; 1st edition (May 17, 2019)</td>\n",
       "      <td>NaN</td>\n",
       "      <td>https://www.amazon.com/Time-Analysis-Approach-...</td>\n",
       "      <td>NaN</td>\n",
       "    </tr>\n",
       "    <tr>\n",
       "      <th>733</th>\n",
       "      <td>The Tableau Workshop: A practical guide to the...</td>\n",
       "      <td>Sumit Gupta, Sylvester Pinto, et al.</td>\n",
       "      <td>46.99</td>\n",
       "      <td>822.0</td>\n",
       "      <td>English</td>\n",
       "      <td>Packt Publishing (April 28, 2022)</td>\n",
       "      <td>978-1800207653</td>\n",
       "      <td>https://www.amazon.com/gp/slredirect/picassoRe...</td>\n",
       "      <td>NaN</td>\n",
       "    </tr>\n",
       "    <tr>\n",
       "      <th>159</th>\n",
       "      <td>The Algorithm Design Manual (Texts in Computer...</td>\n",
       "      <td>NaN</td>\n",
       "      <td>73.99</td>\n",
       "      <td>810.0</td>\n",
       "      <td>English</td>\n",
       "      <td>Springer; 3rd ed. 2020 edition (October 6, 2020)</td>\n",
       "      <td>978-3030542559</td>\n",
       "      <td>https://www.amazon.com/Algorithm-Design-Manual...</td>\n",
       "      <td>NaN</td>\n",
       "    </tr>\n",
       "    <tr>\n",
       "      <th>17</th>\n",
       "      <td>Python in easy steps</td>\n",
       "      <td>NaN</td>\n",
       "      <td>10.69</td>\n",
       "      <td>192.0</td>\n",
       "      <td>English</td>\n",
       "      <td>In Easy Steps Limited; 2nd edition (August 28,...</td>\n",
       "      <td>978-1840788129</td>\n",
       "      <td>https://www.amazon.com/Python-easy-steps-Cover...</td>\n",
       "      <td>NaN</td>\n",
       "    </tr>\n",
       "  </tbody>\n",
       "</table>\n",
       "</div>"
      ],
      "text/plain": [
       "                                                 title  \\\n",
       "721            A Hands-On Introduction to Data Science   \n",
       "75   Time Series: A Data Analysis Approach Using R ...   \n",
       "733  The Tableau Workshop: A practical guide to the...   \n",
       "159  The Algorithm Design Manual (Texts in Computer...   \n",
       "17                                Python in easy steps   \n",
       "\n",
       "                                   author  price  pages language  \\\n",
       "721                           Chirag Shah  53.98  424.0  English   \n",
       "75                                    NaN  57.34  271.0  English   \n",
       "733  Sumit Gupta, Sylvester Pinto, et al.  46.99  822.0  English   \n",
       "159                                   NaN  73.99  810.0  English   \n",
       "17                                    NaN  10.69  192.0  English   \n",
       "\n",
       "                                             publisher         ISBN_13  \\\n",
       "721  Cambridge University Press; 1st edition (April...                   \n",
       "75    Chapman and Hall/CRC; 1st edition (May 17, 2019)             NaN   \n",
       "733                  Packt Publishing (April 28, 2022)  978-1800207653   \n",
       "159   Springer; 3rd ed. 2020 edition (October 6, 2020)  978-3030542559   \n",
       "17   In Easy Steps Limited; 2nd edition (August 28,...  978-1840788129   \n",
       "\n",
       "                                         complete_link comments  \n",
       "721  https://www.amazon.com/Hands-Introduction-Data...      NaN  \n",
       "75   https://www.amazon.com/Time-Analysis-Approach-...      NaN  \n",
       "733  https://www.amazon.com/gp/slredirect/picassoRe...      NaN  \n",
       "159  https://www.amazon.com/Algorithm-Design-Manual...      NaN  \n",
       "17   https://www.amazon.com/Python-easy-steps-Cover...      NaN  "
      ]
     },
     "execution_count": 16,
     "metadata": {},
     "output_type": "execute_result"
    }
   ],
   "source": [
    "df.sample(5)"
   ]
  },
  {
   "cell_type": "markdown",
   "id": "b33959be-5e88-43aa-8c6e-2a0c162c5eb9",
   "metadata": {},
   "source": [
    "Next column to clean will be `language'."
   ]
  },
  {
   "cell_type": "code",
   "execution_count": 17,
   "id": "8a942aa8-29e7-468a-8dd9-4b1ee4bf4bd5",
   "metadata": {
    "tags": []
   },
   "outputs": [
    {
     "data": {
      "text/plain": [
       "array(['English', nan, 'Spanish',\n",
       "       'Unqualified, Japanese (Dolby Digital 2.0 Mono), English (Dolby Digital 5.1), English (Dolby Digital 2.0 Mono)',\n",
       "       'you will discover all you need ',\n",
       "       '• How to make better business decisions using ',\n",
       "       'Concepts are presented in a \"to-the-point\" style to cater to the busy individual. With this book, you can learn Python in just one day and start coding immediately. ',\n",
       "       'standard library',\n",
       "       'This Python programming guide assumes certain level of programming knowledge. It is not a beginner textbook.',\n",
       "       'Scroll to the top of the page and click the ',\n",
       "       'English (Dolby Digital 2.0 Mono)',\n",
       "       'English (DTS-HD Master Audio 5.1), French (DTS-HD 2.0)',\n",
       "       '\"Brilliant.\"'], dtype=object)"
      ]
     },
     "execution_count": 17,
     "metadata": {},
     "output_type": "execute_result"
    }
   ],
   "source": [
    "df.language.unique()"
   ]
  },
  {
   "cell_type": "markdown",
   "id": "e7a33e4f-6967-4d9a-b451-9a1b1e8b2e91",
   "metadata": {},
   "source": [
    "Some values have `English` or `Spanish` as language values. Some others have languages with other comments. Other values are just comments. This needs a more deep cleaning than previous columns."
   ]
  },
  {
   "cell_type": "markdown",
   "id": "ea031c7c-4bd3-4fbe-a0aa-1d6d959350ae",
   "metadata": {},
   "source": [
    "`language` values that don't have English, Spanish, Japanese or French, will be considered as comments."
   ]
  },
  {
   "cell_type": "markdown",
   "id": "84318391-4a72-4980-831d-a01c0745e025",
   "metadata": {},
   "source": [
    "Multiple conditions to check:"
   ]
  },
  {
   "cell_type": "code",
   "execution_count": 18,
   "id": "c0c9f13f-30f1-4d99-8855-fbae5b0a350e",
   "metadata": {},
   "outputs": [],
   "source": [
    "contains_english = df.language.str.contains('English')\n",
    "contains_spanish = df.language.str.contains('Spanish')\n",
    "contains_japanese = df.language.str.contains('Japanese')\n",
    "contains_french = df.language.str.contains('French')"
   ]
  },
  {
   "cell_type": "markdown",
   "id": "4a1c5fc6-6d15-4809-8baa-940223948ad5",
   "metadata": {},
   "source": [
    "Extract all the values that don't contain information about language."
   ]
  },
  {
   "cell_type": "code",
   "execution_count": 19,
   "id": "e5f69f94-e72a-4c4d-938d-e720e465985c",
   "metadata": {},
   "outputs": [],
   "source": [
    "not_language_info = ~(contains_english | contains_spanish | contains_japanese | contains_french | df.language.isnull() )"
   ]
  },
  {
   "cell_type": "code",
   "execution_count": 20,
   "id": "cfd98389-67bd-4260-b85a-cb3a884ad903",
   "metadata": {},
   "outputs": [
    {
     "data": {
      "text/plain": [
       "54                       you will discover all you need \n",
       "290       • How to make better business decisions using \n",
       "381    Concepts are presented in a \"to-the-point\" sty...\n",
       "382                                     standard library\n",
       "476    This Python programming guide assumes certain ...\n",
       "492         Scroll to the top of the page and click the \n",
       "633                                         \"Brilliant.\"\n",
       "Name: language, dtype: object"
      ]
     },
     "execution_count": 20,
     "metadata": {},
     "output_type": "execute_result"
    }
   ],
   "source": [
    "df.language[not_language_info]"
   ]
  },
  {
   "cell_type": "markdown",
   "id": "3e6d8879-1394-4b13-aa06-328365b7b250",
   "metadata": {},
   "source": [
    "I will store the indexes of these rows, which do not contain some language information."
   ]
  },
  {
   "cell_type": "code",
   "execution_count": 21,
   "id": "5abe7404-5bfb-467a-94b7-c24796486dc4",
   "metadata": {},
   "outputs": [],
   "source": [
    "not_lang_indexes = df.language[not_language_info].index"
   ]
  },
  {
   "cell_type": "code",
   "execution_count": 22,
   "id": "5d141838-4eff-4494-b01e-435ffe8f8d99",
   "metadata": {},
   "outputs": [
    {
     "data": {
      "text/plain": [
       "Int64Index([54, 290, 381, 382, 476, 492, 633], dtype='int64')"
      ]
     },
     "execution_count": 22,
     "metadata": {},
     "output_type": "execute_result"
    }
   ],
   "source": [
    "not_lang_indexes"
   ]
  },
  {
   "cell_type": "markdown",
   "id": "94cfa309-5ae0-40a8-a670-26bdacf2425b",
   "metadata": {},
   "source": [
    "Now I will create a function to add these comments to the comments column"
   ]
  },
  {
   "cell_type": "markdown",
   "id": "029684ae-2342-4a02-b94c-4cc777d1c4ab",
   "metadata": {},
   "source": [
    "Check if these rows have already a comment"
   ]
  },
  {
   "cell_type": "code",
   "execution_count": 23,
   "id": "3106dec5-eb3a-4581-923c-8e6e1a634ef5",
   "metadata": {},
   "outputs": [
    {
     "data": {
      "text/plain": [
       "54       NaN\n",
       "290      NaN\n",
       "381      NaN\n",
       "382    1,000\n",
       "476      NaN\n",
       "492      NaN\n",
       "633      NaN\n",
       "Name: comments, dtype: object"
      ]
     },
     "execution_count": 23,
     "metadata": {},
     "output_type": "execute_result"
    }
   ],
   "source": [
    "df.loc[not_lang_indexes].comments"
   ]
  },
  {
   "cell_type": "markdown",
   "id": "ef852486-71de-463a-95cd-71fbb76136c4",
   "metadata": {},
   "source": [
    "I have just discovered that row 382 had a valid number of pages:  1000 pages. I sent his page number to comments. I will fix this before going further."
   ]
  },
  {
   "cell_type": "code",
   "execution_count": 24,
   "id": "321c7aee-ded2-43f0-b418-69d9a1c4e52d",
   "metadata": {
    "tags": []
   },
   "outputs": [],
   "source": [
    "df.loc[382, ['pages']] = 1000\n",
    "df.loc[382, ['comments']] = np.nan"
   ]
  },
  {
   "cell_type": "code",
   "execution_count": 25,
   "id": "ab9e233d-0a53-4645-9c05-a04be39bcdce",
   "metadata": {},
   "outputs": [
    {
     "data": {
      "text/plain": [
       "title            Python 3: The Comprehensive Guide to Hands-On ...\n",
       "author                           Johannes Ernesti and Peter Kaiser\n",
       "price                                                        55.48\n",
       "pages                                                       1000.0\n",
       "language                                          standard library\n",
       "publisher        Rheinwerk Computing; First edition (September ...\n",
       "ISBN_13                                             978-1493223022\n",
       "complete_link    https://www.amazon.com/gp/slredirect/picassoRe...\n",
       "comments                                                       NaN\n",
       "Name: 382, dtype: object"
      ]
     },
     "execution_count": 25,
     "metadata": {},
     "output_type": "execute_result"
    }
   ],
   "source": [
    "df.iloc[382]"
   ]
  },
  {
   "cell_type": "code",
   "execution_count": 26,
   "id": "f0263039-89cb-405d-8cf6-bbcb484cb67e",
   "metadata": {},
   "outputs": [
    {
     "data": {
      "text/plain": [
       "54     NaN\n",
       "290    NaN\n",
       "381    NaN\n",
       "382    NaN\n",
       "476    NaN\n",
       "492    NaN\n",
       "633    NaN\n",
       "Name: comments, dtype: object"
      ]
     },
     "execution_count": 26,
     "metadata": {},
     "output_type": "execute_result"
    }
   ],
   "source": [
    "df.loc[not_lang_indexes].comments"
   ]
  },
  {
   "cell_type": "markdown",
   "id": "0dbca003-0091-40fa-8945-42582cfa5f1b",
   "metadata": {},
   "source": [
    "Their comments values are NaN, so I will replace the with their values in column `language`"
   ]
  },
  {
   "cell_type": "code",
   "execution_count": 27,
   "id": "3cf9a75b-14d9-43ee-a004-61436b9d1f45",
   "metadata": {},
   "outputs": [],
   "source": [
    "df.loc[not_lang_indexes].comments = df.loc[not_lang_indexes].language"
   ]
  },
  {
   "cell_type": "markdown",
   "id": "e9956517-8146-49e9-9ce8-67be4dde98a1",
   "metadata": {},
   "source": [
    "Remove the comments from the `language` column:"
   ]
  },
  {
   "cell_type": "code",
   "execution_count": 28,
   "id": "29c36e98-222b-4936-ac9d-000e9003ce74",
   "metadata": {},
   "outputs": [],
   "source": [
    "df.loc[not_lang_indexes, ['language']] = np.nan"
   ]
  },
  {
   "cell_type": "markdown",
   "id": "41e72460-0848-4ce5-b841-f6cfe7ab3464",
   "metadata": {},
   "source": [
    "Now let's process the rest of the language values."
   ]
  },
  {
   "cell_type": "code",
   "execution_count": 29,
   "id": "7386b761-8aab-4713-b0d4-0537db711cea",
   "metadata": {},
   "outputs": [
    {
     "data": {
      "text/plain": [
       "array(['English', nan, 'Spanish',\n",
       "       'Unqualified, Japanese (Dolby Digital 2.0 Mono), English (Dolby Digital 5.1), English (Dolby Digital 2.0 Mono)',\n",
       "       'English (Dolby Digital 2.0 Mono)',\n",
       "       'English (DTS-HD Master Audio 5.1), French (DTS-HD 2.0)'],\n",
       "      dtype=object)"
      ]
     },
     "execution_count": 29,
     "metadata": {},
     "output_type": "execute_result"
    }
   ],
   "source": [
    "df.language.unique()"
   ]
  },
  {
   "cell_type": "markdown",
   "id": "d8417ade-3803-4f82-b3a1-4a325386244e",
   "metadata": {},
   "source": [
    "I will select the"
   ]
  },
  {
   "cell_type": "markdown",
   "id": "1c3d78a7-4709-473a-9f7e-25837ecf1c91",
   "metadata": {},
   "source": [
    "There are only three types of language values which need cleaning, so I will create a function to clean them:"
   ]
  },
  {
   "cell_type": "code",
   "execution_count": 33,
   "id": "da56241f-94ac-452f-abda-040c23aa323c",
   "metadata": {},
   "outputs": [],
   "source": [
    "def clean_language(row):\n",
    "\tlang = row.language\n",
    "\tcomment = row.comments\n",
    "\tif lang == 'Unqualified, Japanese (Dolby Digital 2.0 Mono), English (Dolby Digital 5.1), English (Dolby Digital 2.0 Mono)' :\n",
    "\t\trow.language = 'English, Japanese'\n",
    "\t\tif comment != comment:  #check if comment is NaN\n",
    "\t\t\trow.comments = 'Avaliable languages: Japanese (Dolby Digital 2.0 Mono), English (Dolby Digital 5.1), English (Dolby Digital 2.0 Mono)'\n",
    "\t\telse:\n",
    "\t\t\trow.comments += ' Avaliable languages: Japanese (Dolby Digital 2.0 Mono), English (Dolby Digital 5.1), English (Dolby Digital 2.0 Mono)'\n",
    "\t\n",
    "\telif lang == 'English (Dolby Digital 2.0 Mono)' :\n",
    "\t\trow.language = 'English'\n",
    "\t\tif comment != comment:\n",
    "\t\t\trow.comments = 'English (Dolby Digital 2.0 Mono)'\n",
    "\t\telse:\n",
    "\t\t\trow.comments += 'English (Dolby Digital 2.0 Mono)'\n",
    "\t\n",
    "\telif lang == 'English (DTS-HD Master Audio 5.1), French (DTS-HD 2.0)' :\n",
    "\t\trow.language = 'English, French'\n",
    "\t\tif comment != comment :\n",
    "\t\t\trow.comments = 'English (DTS-HD Master Audio 5.1), French (DTS-HD 2.0)'\n",
    "\t\telse:\n",
    "\t\t\trow.comments += ' English (DTS-HD Master Audio 5.1), French (DTS-HD 2.0)'\n",
    "\treturn row"
   ]
  },
  {
   "cell_type": "code",
   "execution_count": 34,
   "id": "e21851ba-36f5-4185-a74f-9d4c9f720c7e",
   "metadata": {},
   "outputs": [],
   "source": [
    "df = df.apply(clean_language, axis=1)"
   ]
  },
  {
   "cell_type": "markdown",
   "id": "dac74903-1dd9-4f85-aab6-e4a8b2f97e74",
   "metadata": {},
   "source": [
    "Now the `language` column is clean:"
   ]
  },
  {
   "cell_type": "code",
   "execution_count": 36,
   "id": "934803cb-5f37-4069-b372-43857ac2071e",
   "metadata": {},
   "outputs": [
    {
     "data": {
      "text/plain": [
       "array(['English', nan, 'Spanish', 'English, Japanese', 'English, French'],\n",
       "      dtype=object)"
      ]
     },
     "execution_count": 36,
     "metadata": {},
     "output_type": "execute_result"
    }
   ],
   "source": [
    "df.language.unique()"
   ]
  },
  {
   "cell_type": "code",
   "execution_count": null,
   "id": "dd72887d-2341-45c6-88e8-b0c68e52faab",
   "metadata": {},
   "outputs": [],
   "source": []
  }
 ],
 "metadata": {
  "kernelspec": {
   "display_name": "Python 3 (ipykernel)",
   "language": "python",
   "name": "python3"
  },
  "language_info": {
   "codemirror_mode": {
    "name": "ipython",
    "version": 3
   },
   "file_extension": ".py",
   "mimetype": "text/x-python",
   "name": "python",
   "nbconvert_exporter": "python",
   "pygments_lexer": "ipython3",
   "version": "3.10.9"
  }
 },
 "nbformat": 4,
 "nbformat_minor": 5
}
