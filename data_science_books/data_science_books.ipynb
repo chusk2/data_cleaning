{
 "cells": [
  {
   "cell_type": "code",
   "execution_count": 1,
   "id": "c297ef99-c3db-482d-89f0-45bc7ce4219f",
   "metadata": {
    "tags": []
   },
   "outputs": [],
   "source": [
    "import pandas as pd\n",
    "import numpy as np"
   ]
  },
  {
   "cell_type": "code",
   "execution_count": 2,
   "id": "60712390-4e5c-4dd8-8176-9c3be7d047e8",
   "metadata": {
    "tags": []
   },
   "outputs": [],
   "source": [
    "data = pd.read_csv('data_science_books.csv')"
   ]
  },
  {
   "cell_type": "code",
   "execution_count": 3,
   "id": "49961fb1-e995-4a9c-a089-10c7d96a8de8",
   "metadata": {
    "tags": []
   },
   "outputs": [
    {
     "data": {
      "text/html": [
       "<div>\n",
       "<style scoped>\n",
       "    .dataframe tbody tr th:only-of-type {\n",
       "        vertical-align: middle;\n",
       "    }\n",
       "\n",
       "    .dataframe tbody tr th {\n",
       "        vertical-align: top;\n",
       "    }\n",
       "\n",
       "    .dataframe thead th {\n",
       "        text-align: right;\n",
       "    }\n",
       "</style>\n",
       "<table border=\"1\" class=\"dataframe\">\n",
       "  <thead>\n",
       "    <tr style=\"text-align: right;\">\n",
       "      <th></th>\n",
       "      <th>title</th>\n",
       "      <th>author</th>\n",
       "      <th>price</th>\n",
       "      <th>price (including used books)</th>\n",
       "      <th>pages</th>\n",
       "      <th>avg_reviews</th>\n",
       "      <th>n_reviews</th>\n",
       "      <th>star5</th>\n",
       "      <th>star4</th>\n",
       "      <th>star3</th>\n",
       "      <th>star2</th>\n",
       "      <th>star1</th>\n",
       "      <th>dimensions</th>\n",
       "      <th>weight</th>\n",
       "      <th>language</th>\n",
       "      <th>publisher</th>\n",
       "      <th>ISBN_13</th>\n",
       "      <th>link</th>\n",
       "      <th>complete_link</th>\n",
       "    </tr>\n",
       "  </thead>\n",
       "  <tbody>\n",
       "    <tr>\n",
       "      <th>0</th>\n",
       "      <td>Data Analysis Using R (Low Priced Edition): A ...</td>\n",
       "      <td>[ Dr Dhaval Maheta]</td>\n",
       "      <td>6.75</td>\n",
       "      <td>6.75</td>\n",
       "      <td>500</td>\n",
       "      <td>4.4</td>\n",
       "      <td>23</td>\n",
       "      <td>55%</td>\n",
       "      <td>39%</td>\n",
       "      <td>6%</td>\n",
       "      <td>NaN</td>\n",
       "      <td>NaN</td>\n",
       "      <td>8.5 x 1.01 x 11 inches</td>\n",
       "      <td>2.53 pounds</td>\n",
       "      <td>English</td>\n",
       "      <td>Notion Press Media Pvt Ltd (November 22, 2021)</td>\n",
       "      <td>978-1685549596</td>\n",
       "      <td>/Data-Analysis-Using-Low-Priced/dp/1685549594/...</td>\n",
       "      <td>https://www.amazon.com/Data-Analysis-Using-Low...</td>\n",
       "    </tr>\n",
       "    <tr>\n",
       "      <th>1</th>\n",
       "      <td>Head First Data Analysis: A learner's guide to...</td>\n",
       "      <td>NaN</td>\n",
       "      <td>33.72</td>\n",
       "      <td>21.49 - 33.72</td>\n",
       "      <td>484</td>\n",
       "      <td>4.3</td>\n",
       "      <td>124</td>\n",
       "      <td>61%</td>\n",
       "      <td>20%</td>\n",
       "      <td>9%</td>\n",
       "      <td>4%</td>\n",
       "      <td>6%</td>\n",
       "      <td>8 x 0.98 x 9.25 inches</td>\n",
       "      <td>1.96 pounds</td>\n",
       "      <td>English</td>\n",
       "      <td>O'Reilly Media; 1st edition (August 18, 2009)</td>\n",
       "      <td>978-0596153939</td>\n",
       "      <td>/Head-First-Data-Analysis-statistics/dp/059615...</td>\n",
       "      <td>https://www.amazon.com/Head-First-Data-Analysi...</td>\n",
       "    </tr>\n",
       "    <tr>\n",
       "      <th>2</th>\n",
       "      <td>Guerrilla Data Analysis Using Microsoft Excel:...</td>\n",
       "      <td>[ Oz du Soleil,  and , Bill Jelen]</td>\n",
       "      <td>32.07</td>\n",
       "      <td>32.07</td>\n",
       "      <td>274</td>\n",
       "      <td>4.7</td>\n",
       "      <td>10</td>\n",
       "      <td>87%</td>\n",
       "      <td>13%</td>\n",
       "      <td>NaN</td>\n",
       "      <td>NaN</td>\n",
       "      <td>NaN</td>\n",
       "      <td>8.25 x 0.6 x 10.75 inches</td>\n",
       "      <td>1.4 pounds</td>\n",
       "      <td>English</td>\n",
       "      <td>Holy Macro! Books; Third edition (August 1, 2022)</td>\n",
       "      <td>978-1615470747</td>\n",
       "      <td>/Guerrilla-Analysis-Using-Microsoft-Excel/dp/1...</td>\n",
       "      <td>https://www.amazon.com/Guerrilla-Analysis-Usin...</td>\n",
       "    </tr>\n",
       "    <tr>\n",
       "      <th>3</th>\n",
       "      <td>Python for Data Analysis: Data Wrangling with ...</td>\n",
       "      <td>[ William McKinney]</td>\n",
       "      <td>53.99</td>\n",
       "      <td>53.99</td>\n",
       "      <td>547</td>\n",
       "      <td>4.6</td>\n",
       "      <td>1,686</td>\n",
       "      <td>75%</td>\n",
       "      <td>16%</td>\n",
       "      <td>5%</td>\n",
       "      <td>2%</td>\n",
       "      <td>2%</td>\n",
       "      <td>7 x 1.11 x 9.19 inches</td>\n",
       "      <td>1.47 pounds</td>\n",
       "      <td>English</td>\n",
       "      <td>O'Reilly Media; 2nd edition (November 14, 2017)</td>\n",
       "      <td>978-1491957660</td>\n",
       "      <td>/Python-Data-Analysis-Wrangling-IPython/dp/149...</td>\n",
       "      <td>https://www.amazon.com/Python-Data-Analysis-Wr...</td>\n",
       "    </tr>\n",
       "    <tr>\n",
       "      <th>4</th>\n",
       "      <td>Excel Data Analysis For Dummies (For Dummies (...</td>\n",
       "      <td>[ Paul McFedries]</td>\n",
       "      <td>24.49</td>\n",
       "      <td>24.49</td>\n",
       "      <td>368</td>\n",
       "      <td>3.9</td>\n",
       "      <td>12</td>\n",
       "      <td>52%</td>\n",
       "      <td>17%</td>\n",
       "      <td>10%</td>\n",
       "      <td>10%</td>\n",
       "      <td>10%</td>\n",
       "      <td>7.38 x 0.83 x 9.25 inches</td>\n",
       "      <td>1.3 pounds</td>\n",
       "      <td>English</td>\n",
       "      <td>For Dummies; 5th edition (February 3, 2022)</td>\n",
       "      <td>978-1119844426</td>\n",
       "      <td>/Excel-Data-Analysis-Dummies-Computer/dp/11198...</td>\n",
       "      <td>https://www.amazon.com/Excel-Data-Analysis-Dum...</td>\n",
       "    </tr>\n",
       "  </tbody>\n",
       "</table>\n",
       "</div>"
      ],
      "text/plain": [
       "                                               title  \\\n",
       "0  Data Analysis Using R (Low Priced Edition): A ...   \n",
       "1  Head First Data Analysis: A learner's guide to...   \n",
       "2  Guerrilla Data Analysis Using Microsoft Excel:...   \n",
       "3  Python for Data Analysis: Data Wrangling with ...   \n",
       "4  Excel Data Analysis For Dummies (For Dummies (...   \n",
       "\n",
       "                               author  price price (including used books)  \\\n",
       "0                 [ Dr Dhaval Maheta]   6.75                         6.75   \n",
       "1                                 NaN  33.72               21.49 - 33.72    \n",
       "2  [ Oz du Soleil,  and , Bill Jelen]  32.07                        32.07   \n",
       "3                 [ William McKinney]  53.99                        53.99   \n",
       "4                   [ Paul McFedries]  24.49                        24.49   \n",
       "\n",
       "  pages  avg_reviews n_reviews star5 star4 star3 star2 star1  \\\n",
       "0   500          4.4        23   55%   39%    6%   NaN   NaN   \n",
       "1   484          4.3       124   61%   20%    9%    4%    6%   \n",
       "2   274          4.7        10   87%   13%   NaN   NaN   NaN   \n",
       "3   547          4.6     1,686   75%   16%    5%    2%    2%   \n",
       "4   368          3.9        12   52%   17%   10%   10%   10%   \n",
       "\n",
       "                  dimensions       weight language  \\\n",
       "0     8.5 x 1.01 x 11 inches  2.53 pounds  English   \n",
       "1     8 x 0.98 x 9.25 inches  1.96 pounds  English   \n",
       "2  8.25 x 0.6 x 10.75 inches   1.4 pounds  English   \n",
       "3     7 x 1.11 x 9.19 inches  1.47 pounds  English   \n",
       "4  7.38 x 0.83 x 9.25 inches   1.3 pounds  English   \n",
       "\n",
       "                                           publisher         ISBN_13  \\\n",
       "0     Notion Press Media Pvt Ltd (November 22, 2021)  978-1685549596   \n",
       "1      O'Reilly Media; 1st edition (August 18, 2009)  978-0596153939   \n",
       "2  Holy Macro! Books; Third edition (August 1, 2022)  978-1615470747   \n",
       "3    O'Reilly Media; 2nd edition (November 14, 2017)  978-1491957660   \n",
       "4        For Dummies; 5th edition (February 3, 2022)  978-1119844426   \n",
       "\n",
       "                                                link  \\\n",
       "0  /Data-Analysis-Using-Low-Priced/dp/1685549594/...   \n",
       "1  /Head-First-Data-Analysis-statistics/dp/059615...   \n",
       "2  /Guerrilla-Analysis-Using-Microsoft-Excel/dp/1...   \n",
       "3  /Python-Data-Analysis-Wrangling-IPython/dp/149...   \n",
       "4  /Excel-Data-Analysis-Dummies-Computer/dp/11198...   \n",
       "\n",
       "                                       complete_link  \n",
       "0  https://www.amazon.com/Data-Analysis-Using-Low...  \n",
       "1  https://www.amazon.com/Head-First-Data-Analysi...  \n",
       "2  https://www.amazon.com/Guerrilla-Analysis-Usin...  \n",
       "3  https://www.amazon.com/Python-Data-Analysis-Wr...  \n",
       "4  https://www.amazon.com/Excel-Data-Analysis-Dum...  "
      ]
     },
     "execution_count": 3,
     "metadata": {},
     "output_type": "execute_result"
    }
   ],
   "source": [
    "data.head()"
   ]
  },
  {
   "cell_type": "code",
   "execution_count": 4,
   "id": "3f218e29-ba1c-4433-8e41-778281cf445f",
   "metadata": {
    "tags": []
   },
   "outputs": [
    {
     "data": {
      "text/plain": [
       "Index(['title', 'author', 'price', 'price (including used books)', 'pages',\n",
       "       'avg_reviews', 'n_reviews', 'star5', 'star4', 'star3', 'star2', 'star1',\n",
       "       'dimensions', 'weight', 'language', 'publisher', 'ISBN_13', 'link',\n",
       "       'complete_link'],\n",
       "      dtype='object')"
      ]
     },
     "execution_count": 4,
     "metadata": {},
     "output_type": "execute_result"
    }
   ],
   "source": [
    "data.columns"
   ]
  },
  {
   "cell_type": "code",
   "execution_count": 5,
   "id": "234e9764-c457-44eb-adeb-56acf16e437f",
   "metadata": {
    "tags": []
   },
   "outputs": [],
   "source": [
    "df = data['title, author, price, pages, language, publisher, ISBN_13, complete_link'.split(', ')]"
   ]
  },
  {
   "cell_type": "code",
   "execution_count": 6,
   "id": "2b211737-7151-4681-be8d-489a9bf572d9",
   "metadata": {
    "tags": []
   },
   "outputs": [
    {
     "data": {
      "text/plain": [
       "Index(['title', 'author', 'price', 'pages', 'language', 'publisher', 'ISBN_13',\n",
       "       'complete_link'],\n",
       "      dtype='object')"
      ]
     },
     "execution_count": 6,
     "metadata": {},
     "output_type": "execute_result"
    }
   ],
   "source": [
    "df.columns"
   ]
  },
  {
   "cell_type": "code",
   "execution_count": 7,
   "id": "cc7ede8c-b2c8-4768-82b3-ab87dbb1df28",
   "metadata": {},
   "outputs": [
    {
     "data": {
      "text/plain": [
       "830"
      ]
     },
     "execution_count": 7,
     "metadata": {},
     "output_type": "execute_result"
    }
   ],
   "source": [
    "df.author.isna().count()"
   ]
  },
  {
   "cell_type": "code",
   "execution_count": 8,
   "id": "60ed451c-b9c4-4ba0-bde5-9af68b7f4191",
   "metadata": {
    "tags": []
   },
   "outputs": [],
   "source": [
    "def clean_author(value):\n",
    "\tif value == value:\n",
    "\t\treturn value.lstrip('[ ').rstrip(']').replace(',  and ,', ' and')\n",
    "\telse:\n",
    "\t\treturn value"
   ]
  },
  {
   "cell_type": "code",
   "execution_count": 9,
   "id": "7bb1c636-d201-4aeb-9309-08708dfe8b51",
   "metadata": {
    "tags": []
   },
   "outputs": [
    {
     "name": "stderr",
     "output_type": "stream",
     "text": [
      "C:\\Users\\code\\AppData\\Local\\Temp\\ipykernel_3152\\4174911401.py:1: SettingWithCopyWarning: \n",
      "A value is trying to be set on a copy of a slice from a DataFrame.\n",
      "Try using .loc[row_indexer,col_indexer] = value instead\n",
      "\n",
      "See the caveats in the documentation: https://pandas.pydata.org/pandas-docs/stable/user_guide/indexing.html#returning-a-view-versus-a-copy\n",
      "  df.author = df.author.apply(clean_author)\n"
     ]
    }
   ],
   "source": [
    "df.author = df.author.apply(clean_author)"
   ]
  },
  {
   "cell_type": "code",
   "execution_count": 10,
   "id": "2cf1e3ce-cce7-4cba-ad88-1933416239d9",
   "metadata": {
    "tags": []
   },
   "outputs": [
    {
     "data": {
      "text/html": [
       "<div>\n",
       "<style scoped>\n",
       "    .dataframe tbody tr th:only-of-type {\n",
       "        vertical-align: middle;\n",
       "    }\n",
       "\n",
       "    .dataframe tbody tr th {\n",
       "        vertical-align: top;\n",
       "    }\n",
       "\n",
       "    .dataframe thead th {\n",
       "        text-align: right;\n",
       "    }\n",
       "</style>\n",
       "<table border=\"1\" class=\"dataframe\">\n",
       "  <thead>\n",
       "    <tr style=\"text-align: right;\">\n",
       "      <th></th>\n",
       "      <th>title</th>\n",
       "      <th>author</th>\n",
       "      <th>price</th>\n",
       "      <th>pages</th>\n",
       "      <th>language</th>\n",
       "      <th>publisher</th>\n",
       "      <th>ISBN_13</th>\n",
       "      <th>complete_link</th>\n",
       "    </tr>\n",
       "  </thead>\n",
       "  <tbody>\n",
       "    <tr>\n",
       "      <th>98</th>\n",
       "      <td>Qualitative and Mixed Methods Data Analysis Us...</td>\n",
       "      <td>Michelle Suzanne Salmona, Eli Lieber, et al.</td>\n",
       "      <td>48.99</td>\n",
       "      <td>280</td>\n",
       "      <td>English</td>\n",
       "      <td>SAGE Publications, Inc; 1st edition (September...</td>\n",
       "      <td>978-1506397818</td>\n",
       "      <td>https://www.amazon.com/Qualitative-Mixed-Metho...</td>\n",
       "    </tr>\n",
       "    <tr>\n",
       "      <th>672</th>\n",
       "      <td>Data Science and Machine Learning: Mathematica...</td>\n",
       "      <td>NaN</td>\n",
       "      <td>80.00</td>\n",
       "      <td>510</td>\n",
       "      <td>English</td>\n",
       "      <td>Chapman and Hall/CRC; 1st edition (November 22...</td>\n",
       "      <td>978-1138492530</td>\n",
       "      <td>https://www.amazon.com/Data-Science-Machine-Le...</td>\n",
       "    </tr>\n",
       "    <tr>\n",
       "      <th>52</th>\n",
       "      <td>Software Architecture: The Hard Parts: Modern ...</td>\n",
       "      <td>Neal Ford, Mark Richards, et al.</td>\n",
       "      <td>30.99</td>\n",
       "      <td>459</td>\n",
       "      <td>English</td>\n",
       "      <td>O'Reilly Media; 1st edition (November 30, 2021)</td>\n",
       "      <td></td>\n",
       "      <td>https://www.amazon.com/Software-Architecture-T...</td>\n",
       "    </tr>\n",
       "    <tr>\n",
       "      <th>27</th>\n",
       "      <td>Python Programming For Beginners: The Ultimate...</td>\n",
       "      <td>Leonard J. Ledger</td>\n",
       "      <td>15.97</td>\n",
       "      <td>88</td>\n",
       "      <td>English</td>\n",
       "      <td>Independently published (September 24, 2022)</td>\n",
       "      <td>979-8354411122</td>\n",
       "      <td>https://www.amazon.com/Python-Programming-Begi...</td>\n",
       "    </tr>\n",
       "    <tr>\n",
       "      <th>592</th>\n",
       "      <td>Python for MBAs</td>\n",
       "      <td>Mattan Griffel and Daniel Guetta</td>\n",
       "      <td>16.99</td>\n",
       "      <td>493</td>\n",
       "      <td>English</td>\n",
       "      <td>Columbia Business School Publishing (May 4, 2021)</td>\n",
       "      <td>NaN</td>\n",
       "      <td>https://www.amazon.com/Python-MBAs-Mattan-Grif...</td>\n",
       "    </tr>\n",
       "    <tr>\n",
       "      <th>544</th>\n",
       "      <td>Internet of Things Using Single Board Computer...</td>\n",
       "      <td>G. R. Kanagachidambaresan</td>\n",
       "      <td>49.99</td>\n",
       "      <td>312</td>\n",
       "      <td>English</td>\n",
       "      <td>Apress; 1st ed. edition (December 12, 2022)</td>\n",
       "      <td>978-1484281079</td>\n",
       "      <td>https://www.amazon.com/Internet-Things-Using-S...</td>\n",
       "    </tr>\n",
       "    <tr>\n",
       "      <th>731</th>\n",
       "      <td>Don't Trust Your Gut: Using Data to Get What Y...</td>\n",
       "      <td>Seth Stephens-Davidowitz</td>\n",
       "      <td>14.99</td>\n",
       "      <td>316</td>\n",
       "      <td>English</td>\n",
       "      <td>Dey Street Books (May 10, 2022)</td>\n",
       "      <td>99</td>\n",
       "      <td>https://www.amazon.com/Dont-Trust-Your-Gut-Rea...</td>\n",
       "    </tr>\n",
       "    <tr>\n",
       "      <th>357</th>\n",
       "      <td>Interactive Dashboards and Data Apps with Plot...</td>\n",
       "      <td>Elias Dabbas</td>\n",
       "      <td>40.71</td>\n",
       "      <td>Expand your app by creating dynamic  that gene...</td>\n",
       "      <td>English</td>\n",
       "      <td>Packt Publishing (May 21, 2021)</td>\n",
       "      <td>978-1800568914</td>\n",
       "      <td>https://www.amazon.com/gp/slredirect/picassoRe...</td>\n",
       "    </tr>\n",
       "    <tr>\n",
       "      <th>638</th>\n",
       "      <td>Database Technologies: Concepts, Methodologies...</td>\n",
       "      <td>John Erickson</td>\n",
       "      <td>743.47</td>\n",
       "      <td>2962</td>\n",
       "      <td>English</td>\n",
       "      <td>Information Science Reference; 1st edition (Fe...</td>\n",
       "      <td>978-1605660585</td>\n",
       "      <td>https://www.amazon.com/Database-Technologies-C...</td>\n",
       "    </tr>\n",
       "    <tr>\n",
       "      <th>299</th>\n",
       "      <td>Data Analysis with IBM SPSS Statistics: Implem...</td>\n",
       "      <td>Kenneth Stehlik-Barry and Anthony J. Babinec</td>\n",
       "      <td>37.49</td>\n",
       "      <td>682</td>\n",
       "      <td>English</td>\n",
       "      <td>Packt Publishing; 1st edition (September 22, 2...</td>\n",
       "      <td>NaN</td>\n",
       "      <td>https://www.amazon.com/Data-Analysis-IBM-SPSS-...</td>\n",
       "    </tr>\n",
       "  </tbody>\n",
       "</table>\n",
       "</div>"
      ],
      "text/plain": [
       "                                                 title  \\\n",
       "98   Qualitative and Mixed Methods Data Analysis Us...   \n",
       "672  Data Science and Machine Learning: Mathematica...   \n",
       "52   Software Architecture: The Hard Parts: Modern ...   \n",
       "27   Python Programming For Beginners: The Ultimate...   \n",
       "592                                    Python for MBAs   \n",
       "544  Internet of Things Using Single Board Computer...   \n",
       "731  Don't Trust Your Gut: Using Data to Get What Y...   \n",
       "357  Interactive Dashboards and Data Apps with Plot...   \n",
       "638  Database Technologies: Concepts, Methodologies...   \n",
       "299  Data Analysis with IBM SPSS Statistics: Implem...   \n",
       "\n",
       "                                           author   price  \\\n",
       "98   Michelle Suzanne Salmona, Eli Lieber, et al.   48.99   \n",
       "672                                           NaN   80.00   \n",
       "52               Neal Ford, Mark Richards, et al.   30.99   \n",
       "27                              Leonard J. Ledger   15.97   \n",
       "592              Mattan Griffel and Daniel Guetta   16.99   \n",
       "544                     G. R. Kanagachidambaresan   49.99   \n",
       "731                      Seth Stephens-Davidowitz   14.99   \n",
       "357                                  Elias Dabbas   40.71   \n",
       "638                                 John Erickson  743.47   \n",
       "299  Kenneth Stehlik-Barry and Anthony J. Babinec   37.49   \n",
       "\n",
       "                                                 pages language  \\\n",
       "98                                                 280  English   \n",
       "672                                                510  English   \n",
       "52                                                 459  English   \n",
       "27                                                  88  English   \n",
       "592                                                493  English   \n",
       "544                                                312  English   \n",
       "731                                                316  English   \n",
       "357  Expand your app by creating dynamic  that gene...  English   \n",
       "638                                               2962  English   \n",
       "299                                                682  English   \n",
       "\n",
       "                                             publisher         ISBN_13  \\\n",
       "98   SAGE Publications, Inc; 1st edition (September...  978-1506397818   \n",
       "672  Chapman and Hall/CRC; 1st edition (November 22...  978-1138492530   \n",
       "52     O'Reilly Media; 1st edition (November 30, 2021)                   \n",
       "27        Independently published (September 24, 2022)  979-8354411122   \n",
       "592  Columbia Business School Publishing (May 4, 2021)             NaN   \n",
       "544        Apress; 1st ed. edition (December 12, 2022)  978-1484281079   \n",
       "731                    Dey Street Books (May 10, 2022)              99   \n",
       "357                    Packt Publishing (May 21, 2021)  978-1800568914   \n",
       "638  Information Science Reference; 1st edition (Fe...  978-1605660585   \n",
       "299  Packt Publishing; 1st edition (September 22, 2...             NaN   \n",
       "\n",
       "                                         complete_link  \n",
       "98   https://www.amazon.com/Qualitative-Mixed-Metho...  \n",
       "672  https://www.amazon.com/Data-Science-Machine-Le...  \n",
       "52   https://www.amazon.com/Software-Architecture-T...  \n",
       "27   https://www.amazon.com/Python-Programming-Begi...  \n",
       "592  https://www.amazon.com/Python-MBAs-Mattan-Grif...  \n",
       "544  https://www.amazon.com/Internet-Things-Using-S...  \n",
       "731  https://www.amazon.com/Dont-Trust-Your-Gut-Rea...  \n",
       "357  https://www.amazon.com/gp/slredirect/picassoRe...  \n",
       "638  https://www.amazon.com/Database-Technologies-C...  \n",
       "299  https://www.amazon.com/Data-Analysis-IBM-SPSS-...  "
      ]
     },
     "execution_count": 10,
     "metadata": {},
     "output_type": "execute_result"
    }
   ],
   "source": [
    "df.sample(10)"
   ]
  },
  {
   "cell_type": "markdown",
   "id": "f675699c-371e-4df1-b235-704be1c22f12",
   "metadata": {},
   "source": [
    "There's an error when trying to convert prices to float:  \n",
    "`ValueError: could not convert string to float: 'Explores all feature...`  \n",
    "Some values content comments, so I need to clean the price columns first."
   ]
  },
  {
   "cell_type": "code",
   "execution_count": 11,
   "id": "29129977-219e-47ed-9662-9acd1caaf7bf",
   "metadata": {
    "tags": []
   },
   "outputs": [],
   "source": [
    "#df.pages.astype(float)"
   ]
  },
  {
   "cell_type": "markdown",
   "id": "3a0fca49-e303-4c51-a5d8-f76d43841799",
   "metadata": {},
   "source": [
    "I will figure out what's the maximum lenght of the figures in pages column. I will try to convert to float those values of a maximum length. If it raises an error, it means there are values that are strings. In that case, I try using a shorter length for figures."
   ]
  },
  {
   "cell_type": "markdown",
   "id": "d6d8a00d-dbdb-4aed-84a7-ffaebc6dfc0f",
   "metadata": {},
   "source": [
    "Length 5 raises an error, but maximum length of pages figure of 4 doesn't."
   ]
  },
  {
   "cell_type": "code",
   "execution_count": 12,
   "id": "f2fe7ea1-ade0-4cbf-b8ee-6854e0a2a2f7",
   "metadata": {},
   "outputs": [],
   "source": [
    "#df.pages[df.pages.str.len() <=5].astype(float)"
   ]
  },
  {
   "cell_type": "code",
   "execution_count": 13,
   "id": "ca5555b8-6f48-4284-97e4-b41dcc6dd0bf",
   "metadata": {},
   "outputs": [
    {
     "data": {
      "text/plain": [
       "0      500.0\n",
       "1      484.0\n",
       "2      274.0\n",
       "3      547.0\n",
       "4      368.0\n",
       "       ...  \n",
       "822    165.0\n",
       "824    280.0\n",
       "825    208.0\n",
       "826    573.0\n",
       "827    288.0\n",
       "Name: pages, Length: 736, dtype: float64"
      ]
     },
     "execution_count": 13,
     "metadata": {},
     "output_type": "execute_result"
    }
   ],
   "source": [
    "df.pages[df.pages.str.len() <=4].astype(float)"
   ]
  },
  {
   "cell_type": "markdown",
   "id": "df6bde07-e442-48ab-88e3-03db35e69f64",
   "metadata": {},
   "source": [
    "Now I know that values longer than 4 are comments. Shorter values correspond to pages number, so there won't be a comment (use NaN). With this information I create a column with comments."
   ]
  },
  {
   "cell_type": "code",
   "execution_count": 14,
   "id": "ad97ced6-74ec-4cd6-a597-aea9359c4879",
   "metadata": {
    "tags": []
   },
   "outputs": [
    {
     "name": "stderr",
     "output_type": "stream",
     "text": [
      "C:\\Users\\code\\AppData\\Local\\Temp\\ipykernel_3152\\3878540880.py:1: SettingWithCopyWarning: \n",
      "A value is trying to be set on a copy of a slice from a DataFrame.\n",
      "Try using .loc[row_indexer,col_indexer] = value instead\n",
      "\n",
      "See the caveats in the documentation: https://pandas.pydata.org/pandas-docs/stable/user_guide/indexing.html#returning-a-view-versus-a-copy\n",
      "  df['comments'] = np.where(df.pages.str.len() >= 5, df.pages, np.nan)\n"
     ]
    }
   ],
   "source": [
    "df['comments'] = np.where(df.pages.str.len() >= 5, df.pages, np.nan)"
   ]
  },
  {
   "cell_type": "markdown",
   "id": "46419c90-e0c1-4af1-b9a8-6c29fb0061fd",
   "metadata": {},
   "source": [
    "Now let's finally clean the pages column."
   ]
  },
  {
   "cell_type": "code",
   "execution_count": 15,
   "id": "6ec72bf5-405e-4fb4-b81e-25a4af6161c5",
   "metadata": {
    "tags": []
   },
   "outputs": [
    {
     "name": "stderr",
     "output_type": "stream",
     "text": [
      "C:\\Users\\code\\AppData\\Local\\Temp\\ipykernel_3152\\108972310.py:1: SettingWithCopyWarning: \n",
      "A value is trying to be set on a copy of a slice from a DataFrame.\n",
      "Try using .loc[row_indexer,col_indexer] = value instead\n",
      "\n",
      "See the caveats in the documentation: https://pandas.pydata.org/pandas-docs/stable/user_guide/indexing.html#returning-a-view-versus-a-copy\n",
      "  df.pages = np.where(df.pages.str.len() <= 4, df.pages, np.nan).astype(float)\n"
     ]
    }
   ],
   "source": [
    "df.pages = np.where(df.pages.str.len() <= 4, df.pages, np.nan).astype(float)"
   ]
  },
  {
   "cell_type": "code",
   "execution_count": 16,
   "id": "9764b855-73d9-4371-8b4f-4f29bd17ed18",
   "metadata": {
    "tags": []
   },
   "outputs": [
    {
     "data": {
      "text/html": [
       "<div>\n",
       "<style scoped>\n",
       "    .dataframe tbody tr th:only-of-type {\n",
       "        vertical-align: middle;\n",
       "    }\n",
       "\n",
       "    .dataframe tbody tr th {\n",
       "        vertical-align: top;\n",
       "    }\n",
       "\n",
       "    .dataframe thead th {\n",
       "        text-align: right;\n",
       "    }\n",
       "</style>\n",
       "<table border=\"1\" class=\"dataframe\">\n",
       "  <thead>\n",
       "    <tr style=\"text-align: right;\">\n",
       "      <th></th>\n",
       "      <th>title</th>\n",
       "      <th>author</th>\n",
       "      <th>price</th>\n",
       "      <th>pages</th>\n",
       "      <th>language</th>\n",
       "      <th>publisher</th>\n",
       "      <th>ISBN_13</th>\n",
       "      <th>complete_link</th>\n",
       "      <th>comments</th>\n",
       "    </tr>\n",
       "  </thead>\n",
       "  <tbody>\n",
       "    <tr>\n",
       "      <th>103</th>\n",
       "      <td>Introduction to Environmental Data Science (Ch...</td>\n",
       "      <td>NaN</td>\n",
       "      <td>99.95</td>\n",
       "      <td>399.0</td>\n",
       "      <td>English</td>\n",
       "      <td>Chapman and Hall/CRC; 1st edition (March 2, 2023)</td>\n",
       "      <td>978-1032322186</td>\n",
       "      <td>https://www.amazon.com/Introduction-Environmen...</td>\n",
       "      <td>NaN</td>\n",
       "    </tr>\n",
       "    <tr>\n",
       "      <th>536</th>\n",
       "      <td>Learning Scientific Programming with Python</td>\n",
       "      <td>Christian Hill</td>\n",
       "      <td>51.63</td>\n",
       "      <td>570.0</td>\n",
       "      <td>English</td>\n",
       "      <td>Cambridge University Press; 2nd edition (Decem...</td>\n",
       "      <td>978-1108745918</td>\n",
       "      <td>https://www.amazon.com/Learning-Scientific-Pro...</td>\n",
       "      <td>NaN</td>\n",
       "    </tr>\n",
       "    <tr>\n",
       "      <th>324</th>\n",
       "      <td>Hypothesis Testing: An Intuitive Guide for Mak...</td>\n",
       "      <td>Jim Frost</td>\n",
       "      <td>23.74</td>\n",
       "      <td>381.0</td>\n",
       "      <td>English</td>\n",
       "      <td>Statistics By Jim Publishing (September 14, 2020)</td>\n",
       "      <td>978-1735431154</td>\n",
       "      <td>https://www.amazon.com/Hypothesis-Testing-Intu...</td>\n",
       "      <td>NaN</td>\n",
       "    </tr>\n",
       "    <tr>\n",
       "      <th>508</th>\n",
       "      <td>The Quick Python Book</td>\n",
       "      <td>Naomi Ceder</td>\n",
       "      <td>29.99</td>\n",
       "      <td>472.0</td>\n",
       "      <td>English</td>\n",
       "      <td>Manning; 3rd edition (June 14, 2018)</td>\n",
       "      <td></td>\n",
       "      <td>https://www.amazon.com/Quick-Python-Book-Naomi...</td>\n",
       "      <td>NaN</td>\n",
       "    </tr>\n",
       "    <tr>\n",
       "      <th>651</th>\n",
       "      <td>Build a Career in Data Science</td>\n",
       "      <td>Emily Robinson, Jacqueline Nolis, et al.</td>\n",
       "      <td>NaN</td>\n",
       "      <td>NaN</td>\n",
       "      <td>NaN</td>\n",
       "      <td>NaN</td>\n",
       "      <td>#372 in</td>\n",
       "      <td>https://www.amazon.com/Build-Career-Data-Scien...</td>\n",
       "      <td>NaN</td>\n",
       "    </tr>\n",
       "  </tbody>\n",
       "</table>\n",
       "</div>"
      ],
      "text/plain": [
       "                                                 title  \\\n",
       "103  Introduction to Environmental Data Science (Ch...   \n",
       "536        Learning Scientific Programming with Python   \n",
       "324  Hypothesis Testing: An Intuitive Guide for Mak...   \n",
       "508                              The Quick Python Book   \n",
       "651                     Build a Career in Data Science   \n",
       "\n",
       "                                       author  price  pages language  \\\n",
       "103                                       NaN  99.95  399.0  English   \n",
       "536                            Christian Hill  51.63  570.0  English   \n",
       "324                                 Jim Frost  23.74  381.0  English   \n",
       "508                               Naomi Ceder  29.99  472.0  English   \n",
       "651  Emily Robinson, Jacqueline Nolis, et al.    NaN    NaN      NaN   \n",
       "\n",
       "                                             publisher         ISBN_13  \\\n",
       "103  Chapman and Hall/CRC; 1st edition (March 2, 2023)  978-1032322186   \n",
       "536  Cambridge University Press; 2nd edition (Decem...  978-1108745918   \n",
       "324  Statistics By Jim Publishing (September 14, 2020)  978-1735431154   \n",
       "508               Manning; 3rd edition (June 14, 2018)                   \n",
       "651                                                NaN        #372 in    \n",
       "\n",
       "                                         complete_link comments  \n",
       "103  https://www.amazon.com/Introduction-Environmen...      NaN  \n",
       "536  https://www.amazon.com/Learning-Scientific-Pro...      NaN  \n",
       "324  https://www.amazon.com/Hypothesis-Testing-Intu...      NaN  \n",
       "508  https://www.amazon.com/Quick-Python-Book-Naomi...      NaN  \n",
       "651  https://www.amazon.com/Build-Career-Data-Scien...      NaN  "
      ]
     },
     "execution_count": 16,
     "metadata": {},
     "output_type": "execute_result"
    }
   ],
   "source": [
    "df.sample(5)"
   ]
  },
  {
   "cell_type": "markdown",
   "id": "b33959be-5e88-43aa-8c6e-2a0c162c5eb9",
   "metadata": {},
   "source": [
    "Next column to clean will be `language'."
   ]
  },
  {
   "cell_type": "code",
   "execution_count": 17,
   "id": "8a942aa8-29e7-468a-8dd9-4b1ee4bf4bd5",
   "metadata": {
    "tags": []
   },
   "outputs": [
    {
     "data": {
      "text/plain": [
       "array(['English', nan, 'Spanish',\n",
       "       'Unqualified, Japanese (Dolby Digital 2.0 Mono), English (Dolby Digital 5.1), English (Dolby Digital 2.0 Mono)',\n",
       "       'you will discover all you need ',\n",
       "       '• How to make better business decisions using ',\n",
       "       'Concepts are presented in a \"to-the-point\" style to cater to the busy individual. With this book, you can learn Python in just one day and start coding immediately. ',\n",
       "       'standard library',\n",
       "       'This Python programming guide assumes certain level of programming knowledge. It is not a beginner textbook.',\n",
       "       'Scroll to the top of the page and click the ',\n",
       "       'English (Dolby Digital 2.0 Mono)',\n",
       "       'English (DTS-HD Master Audio 5.1), French (DTS-HD 2.0)',\n",
       "       '\"Brilliant.\"'], dtype=object)"
      ]
     },
     "execution_count": 17,
     "metadata": {},
     "output_type": "execute_result"
    }
   ],
   "source": [
    "df.language.unique()"
   ]
  },
  {
   "cell_type": "markdown",
   "id": "e7a33e4f-6967-4d9a-b451-9a1b1e8b2e91",
   "metadata": {},
   "source": [
    "Some values have `English` or `Spanish` as language values. Some others have languages with other comments. Other values are just comments. This needs a more deep cleaning than previous columns."
   ]
  },
  {
   "cell_type": "markdown",
   "id": "ea031c7c-4bd3-4fbe-a0aa-1d6d959350ae",
   "metadata": {},
   "source": [
    "`language` values that don't have English, Spanish, Japanese or French, will be considered as comments."
   ]
  },
  {
   "cell_type": "markdown",
   "id": "84318391-4a72-4980-831d-a01c0745e025",
   "metadata": {},
   "source": [
    "Multiple conditions to check:"
   ]
  },
  {
   "cell_type": "code",
   "execution_count": 18,
   "id": "c0c9f13f-30f1-4d99-8855-fbae5b0a350e",
   "metadata": {},
   "outputs": [],
   "source": [
    "contains_english = df.language.str.contains('English')\n",
    "contains_spanish = df.language.str.contains('Spanish')\n",
    "contains_japanese = df.language.str.contains('Japanese')\n",
    "contains_french = df.language.str.contains('French')"
   ]
  },
  {
   "cell_type": "markdown",
   "id": "4a1c5fc6-6d15-4809-8baa-940223948ad5",
   "metadata": {},
   "source": [
    "Extract all the values that don't contain information about language."
   ]
  },
  {
   "cell_type": "code",
   "execution_count": 19,
   "id": "e5f69f94-e72a-4c4d-938d-e720e465985c",
   "metadata": {},
   "outputs": [],
   "source": [
    "not_language_info = ~(contains_english | contains_spanish | contains_japanese | contains_french | df.language.isnull() )"
   ]
  },
  {
   "cell_type": "code",
   "execution_count": 20,
   "id": "cfd98389-67bd-4260-b85a-cb3a884ad903",
   "metadata": {},
   "outputs": [
    {
     "data": {
      "text/plain": [
       "54                       you will discover all you need \n",
       "290       • How to make better business decisions using \n",
       "381    Concepts are presented in a \"to-the-point\" sty...\n",
       "382                                     standard library\n",
       "476    This Python programming guide assumes certain ...\n",
       "492         Scroll to the top of the page and click the \n",
       "633                                         \"Brilliant.\"\n",
       "Name: language, dtype: object"
      ]
     },
     "execution_count": 20,
     "metadata": {},
     "output_type": "execute_result"
    }
   ],
   "source": [
    "df.language[not_language_info]"
   ]
  },
  {
   "cell_type": "markdown",
   "id": "3e6d8879-1394-4b13-aa06-328365b7b250",
   "metadata": {},
   "source": [
    "I will store the indexes of these rows, which do not contain some language information."
   ]
  },
  {
   "cell_type": "code",
   "execution_count": 21,
   "id": "5abe7404-5bfb-467a-94b7-c24796486dc4",
   "metadata": {},
   "outputs": [],
   "source": [
    "not_lang_indexes = df.language[not_language_info].index"
   ]
  },
  {
   "cell_type": "code",
   "execution_count": 22,
   "id": "5d141838-4eff-4494-b01e-435ffe8f8d99",
   "metadata": {},
   "outputs": [
    {
     "data": {
      "text/plain": [
       "Int64Index([54, 290, 381, 382, 476, 492, 633], dtype='int64')"
      ]
     },
     "execution_count": 22,
     "metadata": {},
     "output_type": "execute_result"
    }
   ],
   "source": [
    "not_lang_indexes"
   ]
  },
  {
   "cell_type": "markdown",
   "id": "94cfa309-5ae0-40a8-a670-26bdacf2425b",
   "metadata": {},
   "source": [
    "Now I will create a function to add these comments to the comments column"
   ]
  },
  {
   "cell_type": "markdown",
   "id": "029684ae-2342-4a02-b94c-4cc777d1c4ab",
   "metadata": {},
   "source": [
    "Check if these rows have already a comment"
   ]
  },
  {
   "cell_type": "code",
   "execution_count": 23,
   "id": "3106dec5-eb3a-4581-923c-8e6e1a634ef5",
   "metadata": {},
   "outputs": [
    {
     "data": {
      "text/plain": [
       "54       NaN\n",
       "290      NaN\n",
       "381      NaN\n",
       "382    1,000\n",
       "476      NaN\n",
       "492      NaN\n",
       "633      NaN\n",
       "Name: comments, dtype: object"
      ]
     },
     "execution_count": 23,
     "metadata": {},
     "output_type": "execute_result"
    }
   ],
   "source": [
    "df.loc[not_lang_indexes].comments"
   ]
  },
  {
   "cell_type": "markdown",
   "id": "ef852486-71de-463a-95cd-71fbb76136c4",
   "metadata": {},
   "source": [
    "I have just discovered that row 382 had a valid number of pages:  1000 pages. I sent his page number to comments. I will fix this before going further."
   ]
  },
  {
   "cell_type": "code",
   "execution_count": 24,
   "id": "321c7aee-ded2-43f0-b418-69d9a1c4e52d",
   "metadata": {
    "tags": []
   },
   "outputs": [],
   "source": [
    "df.loc[382, ['pages']] = 1000\n",
    "df.loc[382, ['comments']] = np.nan"
   ]
  },
  {
   "cell_type": "code",
   "execution_count": 25,
   "id": "ab9e233d-0a53-4645-9c05-a04be39bcdce",
   "metadata": {},
   "outputs": [
    {
     "data": {
      "text/plain": [
       "title            Python 3: The Comprehensive Guide to Hands-On ...\n",
       "author                           Johannes Ernesti and Peter Kaiser\n",
       "price                                                        55.48\n",
       "pages                                                       1000.0\n",
       "language                                          standard library\n",
       "publisher        Rheinwerk Computing; First edition (September ...\n",
       "ISBN_13                                             978-1493223022\n",
       "complete_link    https://www.amazon.com/gp/slredirect/picassoRe...\n",
       "comments                                                       NaN\n",
       "Name: 382, dtype: object"
      ]
     },
     "execution_count": 25,
     "metadata": {},
     "output_type": "execute_result"
    }
   ],
   "source": [
    "df.iloc[382]"
   ]
  },
  {
   "cell_type": "code",
   "execution_count": 26,
   "id": "f0263039-89cb-405d-8cf6-bbcb484cb67e",
   "metadata": {},
   "outputs": [
    {
     "data": {
      "text/plain": [
       "54     NaN\n",
       "290    NaN\n",
       "381    NaN\n",
       "382    NaN\n",
       "476    NaN\n",
       "492    NaN\n",
       "633    NaN\n",
       "Name: comments, dtype: object"
      ]
     },
     "execution_count": 26,
     "metadata": {},
     "output_type": "execute_result"
    }
   ],
   "source": [
    "df.loc[not_lang_indexes].comments"
   ]
  },
  {
   "cell_type": "markdown",
   "id": "0dbca003-0091-40fa-8945-42582cfa5f1b",
   "metadata": {},
   "source": [
    "Their comments values are NaN, so I will replace the with their values in column `language`"
   ]
  },
  {
   "cell_type": "code",
   "execution_count": 27,
   "id": "3cf9a75b-14d9-43ee-a004-61436b9d1f45",
   "metadata": {},
   "outputs": [],
   "source": [
    "df.loc[not_lang_indexes].comments = df.loc[not_lang_indexes].language"
   ]
  },
  {
   "cell_type": "markdown",
   "id": "e9956517-8146-49e9-9ce8-67be4dde98a1",
   "metadata": {},
   "source": [
    "Remove the comments from the `language` column:"
   ]
  },
  {
   "cell_type": "code",
   "execution_count": 28,
   "id": "29c36e98-222b-4936-ac9d-000e9003ce74",
   "metadata": {},
   "outputs": [],
   "source": [
    "df.loc[not_lang_indexes, ['language']] = np.nan"
   ]
  },
  {
   "cell_type": "markdown",
   "id": "41e72460-0848-4ce5-b841-f6cfe7ab3464",
   "metadata": {},
   "source": [
    "Now let's process the rest of the language values."
   ]
  },
  {
   "cell_type": "code",
   "execution_count": 29,
   "id": "7386b761-8aab-4713-b0d4-0537db711cea",
   "metadata": {},
   "outputs": [
    {
     "data": {
      "text/plain": [
       "array(['English', nan, 'Spanish',\n",
       "       'Unqualified, Japanese (Dolby Digital 2.0 Mono), English (Dolby Digital 5.1), English (Dolby Digital 2.0 Mono)',\n",
       "       'English (Dolby Digital 2.0 Mono)',\n",
       "       'English (DTS-HD Master Audio 5.1), French (DTS-HD 2.0)'],\n",
       "      dtype=object)"
      ]
     },
     "execution_count": 29,
     "metadata": {},
     "output_type": "execute_result"
    }
   ],
   "source": [
    "df.language.unique()"
   ]
  },
  {
   "cell_type": "markdown",
   "id": "d8417ade-3803-4f82-b3a1-4a325386244e",
   "metadata": {},
   "source": [
    "I will select the"
   ]
  },
  {
   "cell_type": "markdown",
   "id": "1c3d78a7-4709-473a-9f7e-25837ecf1c91",
   "metadata": {},
   "source": [
    "There are only three types of language values which need cleaning, so I will create a function to clean them:"
   ]
  },
  {
   "cell_type": "code",
   "execution_count": 30,
   "id": "da56241f-94ac-452f-abda-040c23aa323c",
   "metadata": {},
   "outputs": [],
   "source": [
    "def clean_language(row):\n",
    "\tlang = row.language\n",
    "\tcomment = row.comments\n",
    "\tif lang == 'Unqualified, Japanese (Dolby Digital 2.0 Mono), English (Dolby Digital 5.1), English (Dolby Digital 2.0 Mono)' :\n",
    "\t\trow.language = 'English, Japanese'\n",
    "\t\tif comment != comment:  #check if comment is NaN\n",
    "\t\t\trow.comments = 'Avaliable languages: Japanese (Dolby Digital 2.0 Mono), English (Dolby Digital 5.1), English (Dolby Digital 2.0 Mono)'\n",
    "\t\telse:\n",
    "\t\t\trow.comments += ' Avaliable languages: Japanese (Dolby Digital 2.0 Mono), English (Dolby Digital 5.1), English (Dolby Digital 2.0 Mono)'\n",
    "\t\n",
    "\telif lang == 'English (Dolby Digital 2.0 Mono)' :\n",
    "\t\trow.language = 'English'\n",
    "\t\tif comment != comment:\n",
    "\t\t\trow.comments = 'English (Dolby Digital 2.0 Mono)'\n",
    "\t\telse:\n",
    "\t\t\trow.comments += 'English (Dolby Digital 2.0 Mono)'\n",
    "\t\n",
    "\telif lang == 'English (DTS-HD Master Audio 5.1), French (DTS-HD 2.0)' :\n",
    "\t\trow.language = 'English, French'\n",
    "\t\tif comment != comment :\n",
    "\t\t\trow.comments = 'English (DTS-HD Master Audio 5.1), French (DTS-HD 2.0)'\n",
    "\t\telse:\n",
    "\t\t\trow.comments += ' English (DTS-HD Master Audio 5.1), French (DTS-HD 2.0)'\n",
    "\treturn row"
   ]
  },
  {
   "cell_type": "code",
   "execution_count": 31,
   "id": "e21851ba-36f5-4185-a74f-9d4c9f720c7e",
   "metadata": {},
   "outputs": [],
   "source": [
    "df = df.apply(clean_language, axis=1)"
   ]
  },
  {
   "cell_type": "markdown",
   "id": "dac74903-1dd9-4f85-aab6-e4a8b2f97e74",
   "metadata": {},
   "source": [
    "Now the `language` column is clean:"
   ]
  },
  {
   "cell_type": "code",
   "execution_count": 32,
   "id": "934803cb-5f37-4069-b372-43857ac2071e",
   "metadata": {},
   "outputs": [
    {
     "data": {
      "text/plain": [
       "array(['English', nan, 'Spanish', 'English, Japanese', 'English, French'],\n",
       "      dtype=object)"
      ]
     },
     "execution_count": 32,
     "metadata": {},
     "output_type": "execute_result"
    }
   ],
   "source": [
    "df.language.unique()"
   ]
  },
  {
   "cell_type": "markdown",
   "id": "7a813d0f-d334-413a-8ce0-f4af8fa38af9",
   "metadata": {},
   "source": [
    "Next step is clean `publisher` column. I want to extract the date of publishing and create a new `publishing_date` column."
   ]
  },
  {
   "cell_type": "code",
   "execution_count": 33,
   "id": "5001d571-fe66-4693-920a-30f9bcdc583e",
   "metadata": {},
   "outputs": [
    {
     "data": {
      "text/plain": [
       "0         Notion Press Media Pvt Ltd (November 22, 2021)\n",
       "1          O'Reilly Media; 1st edition (August 18, 2009)\n",
       "2      Holy Macro! Books; Third edition (August 1, 2022)\n",
       "3        O'Reilly Media; 2nd edition (November 14, 2017)\n",
       "4            For Dummies; 5th edition (February 3, 2022)\n",
       "                             ...                        \n",
       "825            Corwin; First edition (December 15, 2017)\n",
       "826        Springer; 1st ed. 2020 edition (July 2, 2020)\n",
       "827                      Packt Publishing (July 8, 2022)\n",
       "828                                                  NaN\n",
       "829                                                  NaN\n",
       "Name: publisher, Length: 830, dtype: object"
      ]
     },
     "execution_count": 33,
     "metadata": {},
     "output_type": "execute_result"
    }
   ],
   "source": [
    "df.publisher"
   ]
  },
  {
   "cell_type": "markdown",
   "id": "0d425941-82db-4246-bcd8-2894618c08d3",
   "metadata": {},
   "source": [
    "Create a function to extract the publishing date from the values"
   ]
  },
  {
   "cell_type": "code",
   "execution_count": 34,
   "id": "2b95c79a-6aff-4512-ac93-a53347aeb157",
   "metadata": {},
   "outputs": [],
   "source": [
    "def extract_date(value):\n",
    "\tif value == value: \n",
    "\t\tsplited_value = value.split(' (')\n",
    "\t\t# date is the 2nd value of the list. \n",
    "\t\t# Furthermore, drop the closing parenthesis using [:-1]\n",
    "\t\tif len(splited_value) == 2:\n",
    "\t\t\tpublisher = splited_value[0]\n",
    "\t\t\tdate = splited_value[1][:-1]\n",
    "\t\t\treturn [publisher, date]\n",
    "\t\telse:\n",
    "\t\t\treturn 'invalid data'\n",
    "\telse:\n",
    "\t\treturn np.nan"
   ]
  },
  {
   "cell_type": "code",
   "execution_count": 35,
   "id": "246ed611-f9bb-44d3-82b8-682387df53a2",
   "metadata": {},
   "outputs": [],
   "source": [
    "publish_info = df.publisher.apply(extract_date)"
   ]
  },
  {
   "cell_type": "code",
   "execution_count": 36,
   "id": "3930f97e-d715-4145-87db-a13fc79dabc9",
   "metadata": {},
   "outputs": [
    {
     "data": {
      "text/plain": [
       "596    [Packt Publishing - ebooks Account, January 10...\n",
       "447    [Packt Publishing; 3rd ed. edition, October 29...\n",
       "74           [Kogan Page; 1st edition, October 25, 2022]\n",
       "286    [Technics Publications; First edition, October...\n",
       "174                                         invalid data\n",
       "Name: publisher, dtype: object"
      ]
     },
     "execution_count": 36,
     "metadata": {},
     "output_type": "execute_result"
    }
   ],
   "source": [
    "publish_info.sample(5)"
   ]
  },
  {
   "cell_type": "markdown",
   "id": "8ba56eb2-e356-4588-a9e7-4deecf0e978f",
   "metadata": {},
   "source": [
    "I will check if there are any invalid values, in order to investigate them later."
   ]
  },
  {
   "cell_type": "code",
   "execution_count": 37,
   "id": "033a06e8-9469-4984-be39-bd6058c8b946",
   "metadata": {},
   "outputs": [
    {
     "data": {
      "text/plain": [
       "174    invalid data\n",
       "374    invalid data\n",
       "586    invalid data\n",
       "Name: publisher, dtype: object"
      ]
     },
     "execution_count": 37,
     "metadata": {},
     "output_type": "execute_result"
    }
   ],
   "source": [
    "publish_info [publish_info == 'invalid data']"
   ]
  },
  {
   "cell_type": "markdown",
   "id": "d28b7d6d-863f-40f8-9bf4-6156b8e578ce",
   "metadata": {},
   "source": [
    "They are just three values, so there's no need to create a function. I will extract the date manually."
   ]
  },
  {
   "cell_type": "code",
   "execution_count": 38,
   "id": "dfee438d-a5fc-40d9-96b0-e1c03aa8324b",
   "metadata": {},
   "outputs": [
    {
     "data": {
      "text/plain": [
       "'Real Python (realpython.com); 4th edition (August 30, 2022)'"
      ]
     },
     "execution_count": 38,
     "metadata": {},
     "output_type": "execute_result"
    }
   ],
   "source": [
    "df.loc[374].publisher"
   ]
  },
  {
   "cell_type": "code",
   "execution_count": 39,
   "id": "aff4a92b-f634-44f7-af1f-807be59f2de7",
   "metadata": {},
   "outputs": [],
   "source": [
    "df.loc[374, ['publisher']] = 'Real Python - realpython.com - 4th edition (August 30, 2022)'"
   ]
  },
  {
   "cell_type": "markdown",
   "id": "14f6e801-c2e3-42c1-b680-29a7638d1312",
   "metadata": {},
   "source": [
    "<hr style='color: green'/>"
   ]
  },
  {
   "cell_type": "code",
   "execution_count": 40,
   "id": "9d1f60f8-7562-46c8-a46b-23c21776756a",
   "metadata": {},
   "outputs": [
    {
     "data": {
      "text/plain": [
       "'Real Python (realpython.com) (May 5, 2021)'"
      ]
     },
     "execution_count": 40,
     "metadata": {},
     "output_type": "execute_result"
    }
   ],
   "source": [
    "df.loc[586].publisher"
   ]
  },
  {
   "cell_type": "code",
   "execution_count": 41,
   "id": "54234a66-030a-41ce-adb8-2097bc29effb",
   "metadata": {},
   "outputs": [],
   "source": [
    "df.loc[586, ['publisher']] = 'Real Python realpython.com (May 5, 2021)'"
   ]
  },
  {
   "cell_type": "markdown",
   "id": "ce718994-3484-4c2f-8921-e74c9bf98068",
   "metadata": {},
   "source": [
    "<hr style='color: green'/>"
   ]
  },
  {
   "cell_type": "code",
   "execution_count": 42,
   "id": "d2d0d4f8-506c-4684-9304-ef45d2875eba",
   "metadata": {},
   "outputs": [
    {
     "data": {
      "text/plain": [
       "publisher    ;\n",
       "Name: 174, dtype: object"
      ]
     },
     "execution_count": 42,
     "metadata": {},
     "output_type": "execute_result"
    }
   ],
   "source": [
    "df.loc[174, ['publisher']]"
   ]
  },
  {
   "cell_type": "code",
   "execution_count": 43,
   "id": "d3f146c7-6c71-4263-a7a3-7b61e2d0b9da",
   "metadata": {},
   "outputs": [],
   "source": [
    "df.loc[174, ['publisher']] = np.nan"
   ]
  },
  {
   "cell_type": "markdown",
   "id": "c4d04739-205b-4749-8fb7-ea021a30c9c2",
   "metadata": {},
   "source": [
    "Once the three anormal data have been processed, I will apply the `extract_date` function again."
   ]
  },
  {
   "cell_type": "code",
   "execution_count": 44,
   "id": "52034d10-f6dd-4375-8e49-b676cbc8dae3",
   "metadata": {},
   "outputs": [],
   "source": [
    "publish_info = df.publisher.apply(extract_date)"
   ]
  },
  {
   "cell_type": "markdown",
   "id": "9e44908c-7515-480f-bd11-e203f94039ec",
   "metadata": {},
   "source": [
    "I create a new column: `publishing_date` :"
   ]
  },
  {
   "cell_type": "code",
   "execution_count": 45,
   "id": "610ef393-c8ff-4c5d-bbc6-5875907cbec6",
   "metadata": {},
   "outputs": [],
   "source": [
    "df['publishing_date'] = [i[1] if (i==i) else i for i in publish_info  ]"
   ]
  },
  {
   "cell_type": "code",
   "execution_count": 46,
   "id": "333e0285-fcfd-4ec6-8480-ce0f1c6eda29",
   "metadata": {},
   "outputs": [],
   "source": [
    "df.publishing_date = pd.to_datetime(df.publishing_date)"
   ]
  },
  {
   "cell_type": "markdown",
   "id": "a5c8798c-81ff-4f5c-a618-bbb50c8f36af",
   "metadata": {},
   "source": [
    "Now I replace the `publisher` values with the processed publisher information:"
   ]
  },
  {
   "cell_type": "code",
   "execution_count": 47,
   "id": "2ba612bd-d4bf-4326-a255-9aa0b867accd",
   "metadata": {},
   "outputs": [],
   "source": [
    "df['publisher'] = [i[0] if (i==i) else i for i in publish_info  ]"
   ]
  },
  {
   "cell_type": "code",
   "execution_count": 48,
   "id": "208ff443-9971-40a1-a4d0-61cab6188934",
   "metadata": {},
   "outputs": [
    {
     "data": {
      "text/plain": [
       "0            Notion Press Media Pvt Ltd\n",
       "1           O'Reilly Media; 1st edition\n",
       "2      Holy Macro! Books; Third edition\n",
       "3           O'Reilly Media; 2nd edition\n",
       "4              For Dummies; 5th edition\n",
       "                     ...               \n",
       "825               Corwin; First edition\n",
       "826      Springer; 1st ed. 2020 edition\n",
       "827                    Packt Publishing\n",
       "828                                 NaN\n",
       "829                                 NaN\n",
       "Name: publisher, Length: 830, dtype: object"
      ]
     },
     "execution_count": 48,
     "metadata": {},
     "output_type": "execute_result"
    }
   ],
   "source": [
    "df.publisher"
   ]
  },
  {
   "cell_type": "code",
   "execution_count": 49,
   "id": "8d906290-96d5-4717-90fe-d891e1c1bd73",
   "metadata": {},
   "outputs": [],
   "source": [
    "df.publisher = df.publisher.str.replace(';', ',')"
   ]
  },
  {
   "cell_type": "code",
   "execution_count": 50,
   "id": "06bc0246-1a66-404b-9f44-1cbc5abf59a9",
   "metadata": {},
   "outputs": [
    {
     "data": {
      "text/plain": [
       "76     Springer, 2nd ed. 2021 edition\n",
       "398                               NaN\n",
       "583                          Pantheon\n",
       "88            Independently published\n",
       "343       O'Reilly Media, 1st edition\n",
       "701    Scatterplot Press, 2nd edition\n",
       "419                  Packt Publishing\n",
       "303       O'Reilly Media, 1st edition\n",
       "294                Wiley, 1st edition\n",
       "241           Independently published\n",
       "Name: publisher, dtype: object"
      ]
     },
     "execution_count": 50,
     "metadata": {},
     "output_type": "execute_result"
    }
   ],
   "source": [
    "df.publisher.sample(10)"
   ]
  },
  {
   "cell_type": "code",
   "execution_count": 51,
   "id": "1858f46b-219f-45ac-89d6-8e79374a9d9c",
   "metadata": {},
   "outputs": [
    {
     "data": {
      "text/html": [
       "<div>\n",
       "<style scoped>\n",
       "    .dataframe tbody tr th:only-of-type {\n",
       "        vertical-align: middle;\n",
       "    }\n",
       "\n",
       "    .dataframe tbody tr th {\n",
       "        vertical-align: top;\n",
       "    }\n",
       "\n",
       "    .dataframe thead th {\n",
       "        text-align: right;\n",
       "    }\n",
       "</style>\n",
       "<table border=\"1\" class=\"dataframe\">\n",
       "  <thead>\n",
       "    <tr style=\"text-align: right;\">\n",
       "      <th></th>\n",
       "      <th>title</th>\n",
       "      <th>author</th>\n",
       "      <th>price</th>\n",
       "      <th>pages</th>\n",
       "      <th>language</th>\n",
       "      <th>publisher</th>\n",
       "      <th>ISBN_13</th>\n",
       "      <th>complete_link</th>\n",
       "      <th>comments</th>\n",
       "      <th>publishing_date</th>\n",
       "    </tr>\n",
       "  </thead>\n",
       "  <tbody>\n",
       "    <tr>\n",
       "      <th>169</th>\n",
       "      <td>Spatial Analysis with R</td>\n",
       "      <td>Tonny J. Oyana</td>\n",
       "      <td>101.01</td>\n",
       "      <td>354.0</td>\n",
       "      <td>English</td>\n",
       "      <td>CRC Press, 2nd edition</td>\n",
       "      <td></td>\n",
       "      <td>https://www.amazon.com/Spatial-Analysis-Statis...</td>\n",
       "      <td>NaN</td>\n",
       "      <td>2020-09-01</td>\n",
       "    </tr>\n",
       "    <tr>\n",
       "      <th>184</th>\n",
       "      <td>Building Big Data Pipelines with Apache Beam: ...</td>\n",
       "      <td>Jan Lukavsky</td>\n",
       "      <td>46.99</td>\n",
       "      <td>342.0</td>\n",
       "      <td>English</td>\n",
       "      <td>Packt Publishing</td>\n",
       "      <td></td>\n",
       "      <td>https://www.amazon.com/gp/slredirect/picassoRe...</td>\n",
       "      <td>NaN</td>\n",
       "      <td>2022-01-21</td>\n",
       "    </tr>\n",
       "    <tr>\n",
       "      <th>171</th>\n",
       "      <td>A History of Data Visualization and Graphic Co...</td>\n",
       "      <td>Michael Friendly and Howard Wainer</td>\n",
       "      <td>48.94</td>\n",
       "      <td>320.0</td>\n",
       "      <td>English</td>\n",
       "      <td>Harvard University Press, Illustrated edition</td>\n",
       "      <td></td>\n",
       "      <td>https://www.amazon.com/History-Data-Visualizat...</td>\n",
       "      <td>NaN</td>\n",
       "      <td>2021-06-08</td>\n",
       "    </tr>\n",
       "    <tr>\n",
       "      <th>674</th>\n",
       "      <td>The DATA Set Collection #2 (Boxed Set): A Case...</td>\n",
       "      <td>NaN</td>\n",
       "      <td>16.89</td>\n",
       "      <td>512.0</td>\n",
       "      <td>English</td>\n",
       "      <td>Little Simon, Boxed Set edition</td>\n",
       "      <td>978-1534465350</td>\n",
       "      <td>https://www.amazon.com/DATA-Set-Collection-Inv...</td>\n",
       "      <td>NaN</td>\n",
       "      <td>2020-09-15</td>\n",
       "    </tr>\n",
       "    <tr>\n",
       "      <th>678</th>\n",
       "      <td>Mathematics for Machine Learning</td>\n",
       "      <td>NaN</td>\n",
       "      <td>48.99</td>\n",
       "      <td>398.0</td>\n",
       "      <td>English</td>\n",
       "      <td>Cambridge University Press, 1st edition</td>\n",
       "      <td>978-1108455145</td>\n",
       "      <td>https://www.amazon.com/Mathematics-Machine-Lea...</td>\n",
       "      <td>NaN</td>\n",
       "      <td>2020-04-23</td>\n",
       "    </tr>\n",
       "  </tbody>\n",
       "</table>\n",
       "</div>"
      ],
      "text/plain": [
       "                                                 title  \\\n",
       "169                            Spatial Analysis with R   \n",
       "184  Building Big Data Pipelines with Apache Beam: ...   \n",
       "171  A History of Data Visualization and Graphic Co...   \n",
       "674  The DATA Set Collection #2 (Boxed Set): A Case...   \n",
       "678                   Mathematics for Machine Learning   \n",
       "\n",
       "                                 author   price  pages language  \\\n",
       "169                      Tonny J. Oyana  101.01  354.0  English   \n",
       "184                        Jan Lukavsky   46.99  342.0  English   \n",
       "171  Michael Friendly and Howard Wainer   48.94  320.0  English   \n",
       "674                                 NaN   16.89  512.0  English   \n",
       "678                                 NaN   48.99  398.0  English   \n",
       "\n",
       "                                         publisher         ISBN_13  \\\n",
       "169                         CRC Press, 2nd edition                   \n",
       "184                               Packt Publishing                   \n",
       "171  Harvard University Press, Illustrated edition                   \n",
       "674                Little Simon, Boxed Set edition  978-1534465350   \n",
       "678        Cambridge University Press, 1st edition  978-1108455145   \n",
       "\n",
       "                                         complete_link comments  \\\n",
       "169  https://www.amazon.com/Spatial-Analysis-Statis...      NaN   \n",
       "184  https://www.amazon.com/gp/slredirect/picassoRe...      NaN   \n",
       "171  https://www.amazon.com/History-Data-Visualizat...      NaN   \n",
       "674  https://www.amazon.com/DATA-Set-Collection-Inv...      NaN   \n",
       "678  https://www.amazon.com/Mathematics-Machine-Lea...      NaN   \n",
       "\n",
       "    publishing_date  \n",
       "169      2020-09-01  \n",
       "184      2022-01-21  \n",
       "171      2021-06-08  \n",
       "674      2020-09-15  \n",
       "678      2020-04-23  "
      ]
     },
     "execution_count": 51,
     "metadata": {},
     "output_type": "execute_result"
    }
   ],
   "source": [
    "df.sample(5)"
   ]
  },
  {
   "cell_type": "markdown",
   "id": "818629f7-0c22-4098-a441-7aa29a5980c9",
   "metadata": {},
   "source": [
    "Reorder the columns:"
   ]
  },
  {
   "cell_type": "markdown",
   "id": "e9627432-25c7-4a83-b43a-b2909dbbd2f1",
   "metadata": {},
   "source": [
    "## ISBN_13 cleaning"
   ]
  },
  {
   "cell_type": "markdown",
   "id": "daf7e703-4ca0-4913-9a2f-864044b6c01a",
   "metadata": {},
   "source": [
    "It seems like some `ISBN_13` values are empty but not set as NaN. Aslo, lenght of ISBN_13 code must be 14 (13 + hyphen)."
   ]
  },
  {
   "cell_type": "code",
   "execution_count": 52,
   "id": "217746ee-d086-4225-bfa3-16a90465fa73",
   "metadata": {},
   "outputs": [
    {
     "data": {
      "text/plain": [
       "5                              NaN\n",
       "7      Research in Drama Education\n",
       "12                             NaN\n",
       "13                                \n",
       "14                                \n",
       "                  ...             \n",
       "824                             99\n",
       "825                             59\n",
       "826                               \n",
       "828                            NaN\n",
       "829                               \n",
       "Name: ISBN_13, Length: 369, dtype: object"
      ]
     },
     "execution_count": 52,
     "metadata": {},
     "output_type": "execute_result"
    }
   ],
   "source": [
    "df.ISBN_13 [ df.ISBN_13.str.len() != 14]"
   ]
  },
  {
   "cell_type": "code",
   "execution_count": 53,
   "id": "a97730db-abf6-4831-b9bc-5647b3056693",
   "metadata": {},
   "outputs": [
    {
     "data": {
      "text/plain": [
       "array([nan, 'Research in Drama Education', ' ', '$13.99 ', '-34%',\n",
       "       '     ', 'Usually ships within 2 to 3 days.', '#NAME?', '#250 in ',\n",
       "       '#1 in ', '  Second Edition, Second edition ', '$113.19 ', '-22%',\n",
       "       'The Data Revolution',\n",
       "       'Regulating Alcohol around the World: Policy Cocktails', '-19%',\n",
       "       '#35 in ', 'x', '-27%', '79', '99', '-21%', '75', '49', '69', '29',\n",
       "       '66', '-30%', '  Kindle Edition ', '$139.99 ', '$13.79 ', 'Python',\n",
       "       '#372 in ', 'PennyLane', 'JOSH TYSON', '—', '-39%', '59', '39',\n",
       "       '-25%', '30', '56', '25'], dtype=object)"
      ]
     },
     "execution_count": 53,
     "metadata": {},
     "output_type": "execute_result"
    }
   ],
   "source": [
    "df.ISBN_13 [ df.ISBN_13.str.len() != 14].unique()"
   ]
  },
  {
   "cell_type": "markdown",
   "id": "ff0c184c-72f0-41ba-811e-4813c230324b",
   "metadata": {},
   "source": [
    "First set empty values to NaN"
   ]
  },
  {
   "cell_type": "code",
   "execution_count": 54,
   "id": "33299b23-55cb-4b07-bbb0-225febaea861",
   "metadata": {},
   "outputs": [],
   "source": [
    "df.ISBN_13 = np.where((df.ISBN_13 == '') | (df.ISBN_13 == ' '), np.nan, df.ISBN_13)"
   ]
  },
  {
   "cell_type": "markdown",
   "id": "81c2de67-4d88-495d-a2b5-c56e713d02b3",
   "metadata": {},
   "source": [
    "Check if row with invalid ISBN_13 values have already comments:"
   ]
  },
  {
   "cell_type": "code",
   "execution_count": 55,
   "id": "aacd91d4-7ed1-42ec-a03b-99437daa79b4",
   "metadata": {},
   "outputs": [],
   "source": [
    "invalid_isbn_values = df.ISBN_13 [ df.ISBN_13.str.len() != 14].unique()"
   ]
  },
  {
   "cell_type": "markdown",
   "id": "133733f5-cf8a-4557-8939-f7adfcb6fa8f",
   "metadata": {},
   "source": [
    "Let's check if the rows with prices in the `ISBN_13` column have the price set."
   ]
  },
  {
   "cell_type": "code",
   "execution_count": 56,
   "id": "74de1557-78f8-4cea-8ffa-2f3773cce6aa",
   "metadata": {
    "tags": []
   },
   "outputs": [
    {
     "data": {
      "text/html": [
       "<div>\n",
       "<style scoped>\n",
       "    .dataframe tbody tr th:only-of-type {\n",
       "        vertical-align: middle;\n",
       "    }\n",
       "\n",
       "    .dataframe tbody tr th {\n",
       "        vertical-align: top;\n",
       "    }\n",
       "\n",
       "    .dataframe thead th {\n",
       "        text-align: right;\n",
       "    }\n",
       "</style>\n",
       "<table border=\"1\" class=\"dataframe\">\n",
       "  <thead>\n",
       "    <tr style=\"text-align: right;\">\n",
       "      <th></th>\n",
       "      <th>price</th>\n",
       "      <th>ISBN_13</th>\n",
       "    </tr>\n",
       "  </thead>\n",
       "  <tbody>\n",
       "    <tr>\n",
       "      <th>7</th>\n",
       "      <td>90.00</td>\n",
       "      <td>Research in Drama Education</td>\n",
       "    </tr>\n",
       "    <tr>\n",
       "      <th>31</th>\n",
       "      <td>13.99</td>\n",
       "      <td>$13.99</td>\n",
       "    </tr>\n",
       "    <tr>\n",
       "      <th>61</th>\n",
       "      <td>26.49</td>\n",
       "      <td>-34%</td>\n",
       "    </tr>\n",
       "    <tr>\n",
       "      <th>80</th>\n",
       "      <td>121.99</td>\n",
       "      <td></td>\n",
       "    </tr>\n",
       "    <tr>\n",
       "      <th>91</th>\n",
       "      <td>31.30</td>\n",
       "      <td>Usually ships within 2 to 3 days.</td>\n",
       "    </tr>\n",
       "    <tr>\n",
       "      <th>121</th>\n",
       "      <td>26.44</td>\n",
       "      <td>#NAME?</td>\n",
       "    </tr>\n",
       "    <tr>\n",
       "      <th>161</th>\n",
       "      <td>24.95</td>\n",
       "      <td>Second Edition, Second edition</td>\n",
       "    </tr>\n",
       "    <tr>\n",
       "      <th>195</th>\n",
       "      <td>113.19</td>\n",
       "      <td>$113.19</td>\n",
       "    </tr>\n",
       "    <tr>\n",
       "      <th>217</th>\n",
       "      <td>46.53</td>\n",
       "      <td>-22%</td>\n",
       "    </tr>\n",
       "    <tr>\n",
       "      <th>233</th>\n",
       "      <td>42.00</td>\n",
       "      <td>The Data Revolution</td>\n",
       "    </tr>\n",
       "    <tr>\n",
       "      <th>292</th>\n",
       "      <td>48.25</td>\n",
       "      <td>Regulating Alcohol around the World: Policy Co...</td>\n",
       "    </tr>\n",
       "    <tr>\n",
       "      <th>293</th>\n",
       "      <td>56.87</td>\n",
       "      <td>-19%</td>\n",
       "    </tr>\n",
       "    <tr>\n",
       "      <th>348</th>\n",
       "      <td>20.13</td>\n",
       "      <td>x</td>\n",
       "    </tr>\n",
       "    <tr>\n",
       "      <th>371</th>\n",
       "      <td>36.46</td>\n",
       "      <td>-27%</td>\n",
       "    </tr>\n",
       "    <tr>\n",
       "      <th>376</th>\n",
       "      <td>24.49</td>\n",
       "      <td>79</td>\n",
       "    </tr>\n",
       "    <tr>\n",
       "      <th>377</th>\n",
       "      <td>40.49</td>\n",
       "      <td>99</td>\n",
       "    </tr>\n",
       "    <tr>\n",
       "      <th>413</th>\n",
       "      <td>51.48</td>\n",
       "      <td>-21%</td>\n",
       "    </tr>\n",
       "    <tr>\n",
       "      <th>421</th>\n",
       "      <td>13.75</td>\n",
       "      <td>75</td>\n",
       "    </tr>\n",
       "    <tr>\n",
       "      <th>440</th>\n",
       "      <td>16.99</td>\n",
       "      <td>49</td>\n",
       "    </tr>\n",
       "    <tr>\n",
       "      <th>474</th>\n",
       "      <td>19.99</td>\n",
       "      <td>69</td>\n",
       "    </tr>\n",
       "    <tr>\n",
       "      <th>479</th>\n",
       "      <td>19.89</td>\n",
       "      <td>29</td>\n",
       "    </tr>\n",
       "    <tr>\n",
       "      <th>496</th>\n",
       "      <td>18.80</td>\n",
       "      <td>99</td>\n",
       "    </tr>\n",
       "    <tr>\n",
       "      <th>532</th>\n",
       "      <td>13.66</td>\n",
       "      <td>66</td>\n",
       "    </tr>\n",
       "    <tr>\n",
       "      <th>535</th>\n",
       "      <td>31.50</td>\n",
       "      <td>-30%</td>\n",
       "    </tr>\n",
       "    <tr>\n",
       "      <th>555</th>\n",
       "      <td>9.59</td>\n",
       "      <td>99</td>\n",
       "    </tr>\n",
       "    <tr>\n",
       "      <th>556</th>\n",
       "      <td>139.99</td>\n",
       "      <td>$139.99</td>\n",
       "    </tr>\n",
       "    <tr>\n",
       "      <th>568</th>\n",
       "      <td>13.99</td>\n",
       "      <td>99</td>\n",
       "    </tr>\n",
       "    <tr>\n",
       "      <th>607</th>\n",
       "      <td>39.99</td>\n",
       "      <td>79</td>\n",
       "    </tr>\n",
       "    <tr>\n",
       "      <th>611</th>\n",
       "      <td>12.73</td>\n",
       "      <td>99</td>\n",
       "    </tr>\n",
       "    <tr>\n",
       "      <th>612</th>\n",
       "      <td>13.79</td>\n",
       "      <td>$13.79</td>\n",
       "    </tr>\n",
       "    <tr>\n",
       "      <th>629</th>\n",
       "      <td>46.99</td>\n",
       "      <td>Python</td>\n",
       "    </tr>\n",
       "    <tr>\n",
       "      <th>631</th>\n",
       "      <td>7.95</td>\n",
       "      <td>79</td>\n",
       "    </tr>\n",
       "    <tr>\n",
       "      <th>661</th>\n",
       "      <td>101.24</td>\n",
       "      <td>PennyLane</td>\n",
       "    </tr>\n",
       "    <tr>\n",
       "      <th>666</th>\n",
       "      <td>10.99</td>\n",
       "      <td>99</td>\n",
       "    </tr>\n",
       "    <tr>\n",
       "      <th>673</th>\n",
       "      <td>24.33</td>\n",
       "      <td>JOSH TYSON</td>\n",
       "    </tr>\n",
       "    <tr>\n",
       "      <th>684</th>\n",
       "      <td>11.99</td>\n",
       "      <td>—</td>\n",
       "    </tr>\n",
       "    <tr>\n",
       "      <th>688</th>\n",
       "      <td>21.49</td>\n",
       "      <td>-39%</td>\n",
       "    </tr>\n",
       "    <tr>\n",
       "      <th>698</th>\n",
       "      <td>19.89</td>\n",
       "      <td>59</td>\n",
       "    </tr>\n",
       "    <tr>\n",
       "      <th>707</th>\n",
       "      <td>46.99</td>\n",
       "      <td>-22%</td>\n",
       "    </tr>\n",
       "    <tr>\n",
       "      <th>725</th>\n",
       "      <td>14.19</td>\n",
       "      <td>39</td>\n",
       "    </tr>\n",
       "    <tr>\n",
       "      <th>730</th>\n",
       "      <td>41.16</td>\n",
       "      <td>-25%</td>\n",
       "    </tr>\n",
       "    <tr>\n",
       "      <th>731</th>\n",
       "      <td>14.99</td>\n",
       "      <td>99</td>\n",
       "    </tr>\n",
       "    <tr>\n",
       "      <th>732</th>\n",
       "      <td>15.30</td>\n",
       "      <td>30</td>\n",
       "    </tr>\n",
       "    <tr>\n",
       "      <th>763</th>\n",
       "      <td>139.56</td>\n",
       "      <td>56</td>\n",
       "    </tr>\n",
       "    <tr>\n",
       "      <th>787</th>\n",
       "      <td>11.89</td>\n",
       "      <td>69</td>\n",
       "    </tr>\n",
       "    <tr>\n",
       "      <th>796</th>\n",
       "      <td>46.50</td>\n",
       "      <td>-22%</td>\n",
       "    </tr>\n",
       "    <tr>\n",
       "      <th>819</th>\n",
       "      <td>24.95</td>\n",
       "      <td>25</td>\n",
       "    </tr>\n",
       "    <tr>\n",
       "      <th>824</th>\n",
       "      <td>9.69</td>\n",
       "      <td>99</td>\n",
       "    </tr>\n",
       "    <tr>\n",
       "      <th>825</th>\n",
       "      <td>5.33</td>\n",
       "      <td>59</td>\n",
       "    </tr>\n",
       "  </tbody>\n",
       "</table>\n",
       "</div>"
      ],
      "text/plain": [
       "      price                                            ISBN_13\n",
       "7     90.00                        Research in Drama Education\n",
       "31    13.99                                            $13.99 \n",
       "61    26.49                                               -34%\n",
       "80   121.99                                                   \n",
       "91    31.30                  Usually ships within 2 to 3 days.\n",
       "121   26.44                                             #NAME?\n",
       "161   24.95                    Second Edition, Second edition \n",
       "195  113.19                                           $113.19 \n",
       "217   46.53                                               -22%\n",
       "233   42.00                                The Data Revolution\n",
       "292   48.25  Regulating Alcohol around the World: Policy Co...\n",
       "293   56.87                                               -19%\n",
       "348   20.13                                                  x\n",
       "371   36.46                                               -27%\n",
       "376   24.49                                                 79\n",
       "377   40.49                                                 99\n",
       "413   51.48                                               -21%\n",
       "421   13.75                                                 75\n",
       "440   16.99                                                 49\n",
       "474   19.99                                                 69\n",
       "479   19.89                                                 29\n",
       "496   18.80                                                 99\n",
       "532   13.66                                                 66\n",
       "535   31.50                                               -30%\n",
       "555    9.59                                                 99\n",
       "556  139.99                                           $139.99 \n",
       "568   13.99                                                 99\n",
       "607   39.99                                                 79\n",
       "611   12.73                                                 99\n",
       "612   13.79                                            $13.79 \n",
       "629   46.99                                             Python\n",
       "631    7.95                                                 79\n",
       "661  101.24                                          PennyLane\n",
       "666   10.99                                                 99\n",
       "673   24.33                                         JOSH TYSON\n",
       "684   11.99                                                  —\n",
       "688   21.49                                               -39%\n",
       "698   19.89                                                 59\n",
       "707   46.99                                               -22%\n",
       "725   14.19                                                 39\n",
       "730   41.16                                               -25%\n",
       "731   14.99                                                 99\n",
       "732   15.30                                                 30\n",
       "763  139.56                                                 56\n",
       "787   11.89                                                 69\n",
       "796   46.50                                               -22%\n",
       "819   24.95                                                 25\n",
       "824    9.69                                                 99\n",
       "825    5.33                                                 59"
      ]
     },
     "execution_count": 56,
     "metadata": {},
     "output_type": "execute_result"
    }
   ],
   "source": [
    "df[['price', 'ISBN_13']][df.ISBN_13.isin(invalid_isbn_values)].dropna()"
   ]
  },
  {
   "cell_type": "markdown",
   "id": "faba0a97-01f0-4b73-983c-37efbc0ea072",
   "metadata": {},
   "source": [
    "At the sight of the results, besides a couple of rows,the rest of the ISBN invalid values are not worth processing. I will just set them as NaN.  \n",
    "I will process the rows number: 7, 161, 233 and 292"
   ]
  },
  {
   "cell_type": "code",
   "execution_count": 57,
   "id": "0e5c5027-5457-4b74-8772-f857b9b274d9",
   "metadata": {
    "tags": []
   },
   "outputs": [
    {
     "data": {
      "text/html": [
       "<div>\n",
       "<style scoped>\n",
       "    .dataframe tbody tr th:only-of-type {\n",
       "        vertical-align: middle;\n",
       "    }\n",
       "\n",
       "    .dataframe tbody tr th {\n",
       "        vertical-align: top;\n",
       "    }\n",
       "\n",
       "    .dataframe thead th {\n",
       "        text-align: right;\n",
       "    }\n",
       "</style>\n",
       "<table border=\"1\" class=\"dataframe\">\n",
       "  <thead>\n",
       "    <tr style=\"text-align: right;\">\n",
       "      <th></th>\n",
       "      <th>title</th>\n",
       "      <th>ISBN_13</th>\n",
       "      <th>comments</th>\n",
       "    </tr>\n",
       "  </thead>\n",
       "  <tbody>\n",
       "    <tr>\n",
       "      <th>7</th>\n",
       "      <td>Qualitative Data Analysis: A Methods Sourcebook</td>\n",
       "      <td>Research in Drama Education</td>\n",
       "      <td>NaN</td>\n",
       "    </tr>\n",
       "    <tr>\n",
       "      <th>161</th>\n",
       "      <td>Guerrilla Data Analysis Using Microsoft Excel:...</td>\n",
       "      <td>Second Edition, Second edition</td>\n",
       "      <td>NaN</td>\n",
       "    </tr>\n",
       "    <tr>\n",
       "      <th>233</th>\n",
       "      <td>The Data Revolution: A Critical Analysis of Bi...</td>\n",
       "      <td>The Data Revolution</td>\n",
       "      <td>NaN</td>\n",
       "    </tr>\n",
       "    <tr>\n",
       "      <th>292</th>\n",
       "      <td>An Introduction to Data Analysis: Quantitative...</td>\n",
       "      <td>Regulating Alcohol around the World: Policy Co...</td>\n",
       "      <td>NaN</td>\n",
       "    </tr>\n",
       "  </tbody>\n",
       "</table>\n",
       "</div>"
      ],
      "text/plain": [
       "                                                 title  \\\n",
       "7      Qualitative Data Analysis: A Methods Sourcebook   \n",
       "161  Guerrilla Data Analysis Using Microsoft Excel:...   \n",
       "233  The Data Revolution: A Critical Analysis of Bi...   \n",
       "292  An Introduction to Data Analysis: Quantitative...   \n",
       "\n",
       "                                               ISBN_13 comments  \n",
       "7                          Research in Drama Education      NaN  \n",
       "161                    Second Edition, Second edition       NaN  \n",
       "233                                The Data Revolution      NaN  \n",
       "292  Regulating Alcohol around the World: Policy Co...      NaN  "
      ]
     },
     "execution_count": 57,
     "metadata": {},
     "output_type": "execute_result"
    }
   ],
   "source": [
    "df.loc[[7,161,233,292], ['title', 'ISBN_13', 'comments'] ]"
   ]
  },
  {
   "cell_type": "code",
   "execution_count": 58,
   "id": "f93e77c1-745a-4d24-8cf6-e71eec4e44c2",
   "metadata": {
    "tags": []
   },
   "outputs": [],
   "source": [
    "rows_to_change = [7,161,292]\n",
    "df.loc[rows_to_change, ['comments'] ] = df.loc[rows_to_change, ['ISBN_13']].values\n",
    "df.loc[rows_to_change, ['ISBN_13'] ] = np.nan"
   ]
  },
  {
   "cell_type": "code",
   "execution_count": 59,
   "id": "b0e03e02-ba75-4c8a-a701-7d009fc54fb1",
   "metadata": {
    "tags": []
   },
   "outputs": [
    {
     "data": {
      "text/html": [
       "<div>\n",
       "<style scoped>\n",
       "    .dataframe tbody tr th:only-of-type {\n",
       "        vertical-align: middle;\n",
       "    }\n",
       "\n",
       "    .dataframe tbody tr th {\n",
       "        vertical-align: top;\n",
       "    }\n",
       "\n",
       "    .dataframe thead th {\n",
       "        text-align: right;\n",
       "    }\n",
       "</style>\n",
       "<table border=\"1\" class=\"dataframe\">\n",
       "  <thead>\n",
       "    <tr style=\"text-align: right;\">\n",
       "      <th></th>\n",
       "      <th>title</th>\n",
       "      <th>ISBN_13</th>\n",
       "      <th>comments</th>\n",
       "    </tr>\n",
       "  </thead>\n",
       "  <tbody>\n",
       "    <tr>\n",
       "      <th>7</th>\n",
       "      <td>Qualitative Data Analysis: A Methods Sourcebook</td>\n",
       "      <td>NaN</td>\n",
       "      <td>Research in Drama Education</td>\n",
       "    </tr>\n",
       "    <tr>\n",
       "      <th>161</th>\n",
       "      <td>Guerrilla Data Analysis Using Microsoft Excel:...</td>\n",
       "      <td>NaN</td>\n",
       "      <td>Second Edition, Second edition</td>\n",
       "    </tr>\n",
       "    <tr>\n",
       "      <th>233</th>\n",
       "      <td>The Data Revolution: A Critical Analysis of Bi...</td>\n",
       "      <td>The Data Revolution</td>\n",
       "      <td>NaN</td>\n",
       "    </tr>\n",
       "    <tr>\n",
       "      <th>292</th>\n",
       "      <td>An Introduction to Data Analysis: Quantitative...</td>\n",
       "      <td>NaN</td>\n",
       "      <td>Regulating Alcohol around the World: Policy Co...</td>\n",
       "    </tr>\n",
       "  </tbody>\n",
       "</table>\n",
       "</div>"
      ],
      "text/plain": [
       "                                                 title              ISBN_13  \\\n",
       "7      Qualitative Data Analysis: A Methods Sourcebook                  NaN   \n",
       "161  Guerrilla Data Analysis Using Microsoft Excel:...                  NaN   \n",
       "233  The Data Revolution: A Critical Analysis of Bi...  The Data Revolution   \n",
       "292  An Introduction to Data Analysis: Quantitative...                  NaN   \n",
       "\n",
       "                                              comments  \n",
       "7                          Research in Drama Education  \n",
       "161                    Second Edition, Second edition   \n",
       "233                                                NaN  \n",
       "292  Regulating Alcohol around the World: Policy Co...  "
      ]
     },
     "execution_count": 59,
     "metadata": {},
     "output_type": "execute_result"
    }
   ],
   "source": [
    "df.loc[[7,161,233,292], ['title', 'ISBN_13', 'comments'] ]"
   ]
  },
  {
   "cell_type": "code",
   "execution_count": 60,
   "id": "00b74661-d8df-41c4-baba-781df2e186b4",
   "metadata": {
    "tags": []
   },
   "outputs": [],
   "source": [
    "df.loc[233,'ISBN_13'] = np.nan"
   ]
  },
  {
   "cell_type": "markdown",
   "id": "cde9d59f-ed65-454d-b3a7-d063bcdf8bf6",
   "metadata": {},
   "source": [
    "I check again..."
   ]
  },
  {
   "cell_type": "code",
   "execution_count": 61,
   "id": "56e75cfc-615e-47dd-91bd-89771251efef",
   "metadata": {
    "tags": []
   },
   "outputs": [
    {
     "data": {
      "text/html": [
       "<div>\n",
       "<style scoped>\n",
       "    .dataframe tbody tr th:only-of-type {\n",
       "        vertical-align: middle;\n",
       "    }\n",
       "\n",
       "    .dataframe tbody tr th {\n",
       "        vertical-align: top;\n",
       "    }\n",
       "\n",
       "    .dataframe thead th {\n",
       "        text-align: right;\n",
       "    }\n",
       "</style>\n",
       "<table border=\"1\" class=\"dataframe\">\n",
       "  <thead>\n",
       "    <tr style=\"text-align: right;\">\n",
       "      <th></th>\n",
       "      <th>price</th>\n",
       "      <th>ISBN_13</th>\n",
       "    </tr>\n",
       "  </thead>\n",
       "  <tbody>\n",
       "    <tr>\n",
       "      <th>31</th>\n",
       "      <td>13.99</td>\n",
       "      <td>$13.99</td>\n",
       "    </tr>\n",
       "    <tr>\n",
       "      <th>61</th>\n",
       "      <td>26.49</td>\n",
       "      <td>-34%</td>\n",
       "    </tr>\n",
       "    <tr>\n",
       "      <th>80</th>\n",
       "      <td>121.99</td>\n",
       "      <td></td>\n",
       "    </tr>\n",
       "    <tr>\n",
       "      <th>91</th>\n",
       "      <td>31.30</td>\n",
       "      <td>Usually ships within 2 to 3 days.</td>\n",
       "    </tr>\n",
       "    <tr>\n",
       "      <th>121</th>\n",
       "      <td>26.44</td>\n",
       "      <td>#NAME?</td>\n",
       "    </tr>\n",
       "    <tr>\n",
       "      <th>195</th>\n",
       "      <td>113.19</td>\n",
       "      <td>$113.19</td>\n",
       "    </tr>\n",
       "    <tr>\n",
       "      <th>217</th>\n",
       "      <td>46.53</td>\n",
       "      <td>-22%</td>\n",
       "    </tr>\n",
       "    <tr>\n",
       "      <th>293</th>\n",
       "      <td>56.87</td>\n",
       "      <td>-19%</td>\n",
       "    </tr>\n",
       "    <tr>\n",
       "      <th>348</th>\n",
       "      <td>20.13</td>\n",
       "      <td>x</td>\n",
       "    </tr>\n",
       "    <tr>\n",
       "      <th>371</th>\n",
       "      <td>36.46</td>\n",
       "      <td>-27%</td>\n",
       "    </tr>\n",
       "    <tr>\n",
       "      <th>376</th>\n",
       "      <td>24.49</td>\n",
       "      <td>79</td>\n",
       "    </tr>\n",
       "    <tr>\n",
       "      <th>377</th>\n",
       "      <td>40.49</td>\n",
       "      <td>99</td>\n",
       "    </tr>\n",
       "    <tr>\n",
       "      <th>413</th>\n",
       "      <td>51.48</td>\n",
       "      <td>-21%</td>\n",
       "    </tr>\n",
       "    <tr>\n",
       "      <th>421</th>\n",
       "      <td>13.75</td>\n",
       "      <td>75</td>\n",
       "    </tr>\n",
       "    <tr>\n",
       "      <th>440</th>\n",
       "      <td>16.99</td>\n",
       "      <td>49</td>\n",
       "    </tr>\n",
       "    <tr>\n",
       "      <th>474</th>\n",
       "      <td>19.99</td>\n",
       "      <td>69</td>\n",
       "    </tr>\n",
       "    <tr>\n",
       "      <th>479</th>\n",
       "      <td>19.89</td>\n",
       "      <td>29</td>\n",
       "    </tr>\n",
       "    <tr>\n",
       "      <th>496</th>\n",
       "      <td>18.80</td>\n",
       "      <td>99</td>\n",
       "    </tr>\n",
       "    <tr>\n",
       "      <th>532</th>\n",
       "      <td>13.66</td>\n",
       "      <td>66</td>\n",
       "    </tr>\n",
       "    <tr>\n",
       "      <th>535</th>\n",
       "      <td>31.50</td>\n",
       "      <td>-30%</td>\n",
       "    </tr>\n",
       "    <tr>\n",
       "      <th>555</th>\n",
       "      <td>9.59</td>\n",
       "      <td>99</td>\n",
       "    </tr>\n",
       "    <tr>\n",
       "      <th>556</th>\n",
       "      <td>139.99</td>\n",
       "      <td>$139.99</td>\n",
       "    </tr>\n",
       "    <tr>\n",
       "      <th>568</th>\n",
       "      <td>13.99</td>\n",
       "      <td>99</td>\n",
       "    </tr>\n",
       "    <tr>\n",
       "      <th>607</th>\n",
       "      <td>39.99</td>\n",
       "      <td>79</td>\n",
       "    </tr>\n",
       "    <tr>\n",
       "      <th>611</th>\n",
       "      <td>12.73</td>\n",
       "      <td>99</td>\n",
       "    </tr>\n",
       "    <tr>\n",
       "      <th>612</th>\n",
       "      <td>13.79</td>\n",
       "      <td>$13.79</td>\n",
       "    </tr>\n",
       "    <tr>\n",
       "      <th>629</th>\n",
       "      <td>46.99</td>\n",
       "      <td>Python</td>\n",
       "    </tr>\n",
       "    <tr>\n",
       "      <th>631</th>\n",
       "      <td>7.95</td>\n",
       "      <td>79</td>\n",
       "    </tr>\n",
       "    <tr>\n",
       "      <th>661</th>\n",
       "      <td>101.24</td>\n",
       "      <td>PennyLane</td>\n",
       "    </tr>\n",
       "    <tr>\n",
       "      <th>666</th>\n",
       "      <td>10.99</td>\n",
       "      <td>99</td>\n",
       "    </tr>\n",
       "    <tr>\n",
       "      <th>673</th>\n",
       "      <td>24.33</td>\n",
       "      <td>JOSH TYSON</td>\n",
       "    </tr>\n",
       "    <tr>\n",
       "      <th>684</th>\n",
       "      <td>11.99</td>\n",
       "      <td>—</td>\n",
       "    </tr>\n",
       "    <tr>\n",
       "      <th>688</th>\n",
       "      <td>21.49</td>\n",
       "      <td>-39%</td>\n",
       "    </tr>\n",
       "    <tr>\n",
       "      <th>698</th>\n",
       "      <td>19.89</td>\n",
       "      <td>59</td>\n",
       "    </tr>\n",
       "    <tr>\n",
       "      <th>707</th>\n",
       "      <td>46.99</td>\n",
       "      <td>-22%</td>\n",
       "    </tr>\n",
       "    <tr>\n",
       "      <th>725</th>\n",
       "      <td>14.19</td>\n",
       "      <td>39</td>\n",
       "    </tr>\n",
       "    <tr>\n",
       "      <th>730</th>\n",
       "      <td>41.16</td>\n",
       "      <td>-25%</td>\n",
       "    </tr>\n",
       "    <tr>\n",
       "      <th>731</th>\n",
       "      <td>14.99</td>\n",
       "      <td>99</td>\n",
       "    </tr>\n",
       "    <tr>\n",
       "      <th>732</th>\n",
       "      <td>15.30</td>\n",
       "      <td>30</td>\n",
       "    </tr>\n",
       "    <tr>\n",
       "      <th>763</th>\n",
       "      <td>139.56</td>\n",
       "      <td>56</td>\n",
       "    </tr>\n",
       "    <tr>\n",
       "      <th>787</th>\n",
       "      <td>11.89</td>\n",
       "      <td>69</td>\n",
       "    </tr>\n",
       "    <tr>\n",
       "      <th>796</th>\n",
       "      <td>46.50</td>\n",
       "      <td>-22%</td>\n",
       "    </tr>\n",
       "    <tr>\n",
       "      <th>819</th>\n",
       "      <td>24.95</td>\n",
       "      <td>25</td>\n",
       "    </tr>\n",
       "    <tr>\n",
       "      <th>824</th>\n",
       "      <td>9.69</td>\n",
       "      <td>99</td>\n",
       "    </tr>\n",
       "    <tr>\n",
       "      <th>825</th>\n",
       "      <td>5.33</td>\n",
       "      <td>59</td>\n",
       "    </tr>\n",
       "  </tbody>\n",
       "</table>\n",
       "</div>"
      ],
      "text/plain": [
       "      price                            ISBN_13\n",
       "31    13.99                            $13.99 \n",
       "61    26.49                               -34%\n",
       "80   121.99                                   \n",
       "91    31.30  Usually ships within 2 to 3 days.\n",
       "121   26.44                             #NAME?\n",
       "195  113.19                           $113.19 \n",
       "217   46.53                               -22%\n",
       "293   56.87                               -19%\n",
       "348   20.13                                  x\n",
       "371   36.46                               -27%\n",
       "376   24.49                                 79\n",
       "377   40.49                                 99\n",
       "413   51.48                               -21%\n",
       "421   13.75                                 75\n",
       "440   16.99                                 49\n",
       "474   19.99                                 69\n",
       "479   19.89                                 29\n",
       "496   18.80                                 99\n",
       "532   13.66                                 66\n",
       "535   31.50                               -30%\n",
       "555    9.59                                 99\n",
       "556  139.99                           $139.99 \n",
       "568   13.99                                 99\n",
       "607   39.99                                 79\n",
       "611   12.73                                 99\n",
       "612   13.79                            $13.79 \n",
       "629   46.99                             Python\n",
       "631    7.95                                 79\n",
       "661  101.24                          PennyLane\n",
       "666   10.99                                 99\n",
       "673   24.33                         JOSH TYSON\n",
       "684   11.99                                  —\n",
       "688   21.49                               -39%\n",
       "698   19.89                                 59\n",
       "707   46.99                               -22%\n",
       "725   14.19                                 39\n",
       "730   41.16                               -25%\n",
       "731   14.99                                 99\n",
       "732   15.30                                 30\n",
       "763  139.56                                 56\n",
       "787   11.89                                 69\n",
       "796   46.50                               -22%\n",
       "819   24.95                                 25\n",
       "824    9.69                                 99\n",
       "825    5.33                                 59"
      ]
     },
     "execution_count": 61,
     "metadata": {},
     "output_type": "execute_result"
    }
   ],
   "source": [
    "df[['price', 'ISBN_13']][df.ISBN_13.isin(invalid_isbn_values)].dropna()"
   ]
  },
  {
   "cell_type": "markdown",
   "id": "55a7352a-2f48-4ba5-baf6-f2a777635f1d",
   "metadata": {},
   "source": [
    "I will drop the ISBN values and set them to NaN"
   ]
  },
  {
   "cell_type": "code",
   "execution_count": 69,
   "id": "e114d46a-f1fa-4764-879e-8d1971a41800",
   "metadata": {
    "tags": []
   },
   "outputs": [
    {
     "data": {
      "text/plain": [
       "7      NaN\n",
       "161    NaN\n",
       "292    NaN\n",
       "Name: ISBN_13, dtype: object"
      ]
     },
     "execution_count": 69,
     "metadata": {},
     "output_type": "execute_result"
    }
   ],
   "source": [
    "df.loc[invalid_isbn_rows, 'ISBN_13']"
   ]
  },
  {
   "cell_type": "code",
   "execution_count": 63,
   "id": "84452f3c-0e48-4b1c-8ca8-0b1461dd7078",
   "metadata": {
    "tags": []
   },
   "outputs": [
    {
     "data": {
      "text/html": [
       "<div>\n",
       "<style scoped>\n",
       "    .dataframe tbody tr th:only-of-type {\n",
       "        vertical-align: middle;\n",
       "    }\n",
       "\n",
       "    .dataframe tbody tr th {\n",
       "        vertical-align: top;\n",
       "    }\n",
       "\n",
       "    .dataframe thead th {\n",
       "        text-align: right;\n",
       "    }\n",
       "</style>\n",
       "<table border=\"1\" class=\"dataframe\">\n",
       "  <thead>\n",
       "    <tr style=\"text-align: right;\">\n",
       "      <th></th>\n",
       "      <th>price</th>\n",
       "      <th>ISBN_13</th>\n",
       "    </tr>\n",
       "  </thead>\n",
       "  <tbody>\n",
       "    <tr>\n",
       "      <th>31</th>\n",
       "      <td>13.99</td>\n",
       "      <td>$13.99</td>\n",
       "    </tr>\n",
       "    <tr>\n",
       "      <th>61</th>\n",
       "      <td>26.49</td>\n",
       "      <td>-34%</td>\n",
       "    </tr>\n",
       "    <tr>\n",
       "      <th>80</th>\n",
       "      <td>121.99</td>\n",
       "      <td></td>\n",
       "    </tr>\n",
       "    <tr>\n",
       "      <th>91</th>\n",
       "      <td>31.30</td>\n",
       "      <td>Usually ships within 2 to 3 days.</td>\n",
       "    </tr>\n",
       "    <tr>\n",
       "      <th>121</th>\n",
       "      <td>26.44</td>\n",
       "      <td>#NAME?</td>\n",
       "    </tr>\n",
       "    <tr>\n",
       "      <th>195</th>\n",
       "      <td>113.19</td>\n",
       "      <td>$113.19</td>\n",
       "    </tr>\n",
       "    <tr>\n",
       "      <th>217</th>\n",
       "      <td>46.53</td>\n",
       "      <td>-22%</td>\n",
       "    </tr>\n",
       "    <tr>\n",
       "      <th>293</th>\n",
       "      <td>56.87</td>\n",
       "      <td>-19%</td>\n",
       "    </tr>\n",
       "    <tr>\n",
       "      <th>348</th>\n",
       "      <td>20.13</td>\n",
       "      <td>x</td>\n",
       "    </tr>\n",
       "    <tr>\n",
       "      <th>371</th>\n",
       "      <td>36.46</td>\n",
       "      <td>-27%</td>\n",
       "    </tr>\n",
       "    <tr>\n",
       "      <th>376</th>\n",
       "      <td>24.49</td>\n",
       "      <td>79</td>\n",
       "    </tr>\n",
       "    <tr>\n",
       "      <th>377</th>\n",
       "      <td>40.49</td>\n",
       "      <td>99</td>\n",
       "    </tr>\n",
       "    <tr>\n",
       "      <th>413</th>\n",
       "      <td>51.48</td>\n",
       "      <td>-21%</td>\n",
       "    </tr>\n",
       "    <tr>\n",
       "      <th>421</th>\n",
       "      <td>13.75</td>\n",
       "      <td>75</td>\n",
       "    </tr>\n",
       "    <tr>\n",
       "      <th>440</th>\n",
       "      <td>16.99</td>\n",
       "      <td>49</td>\n",
       "    </tr>\n",
       "    <tr>\n",
       "      <th>474</th>\n",
       "      <td>19.99</td>\n",
       "      <td>69</td>\n",
       "    </tr>\n",
       "    <tr>\n",
       "      <th>479</th>\n",
       "      <td>19.89</td>\n",
       "      <td>29</td>\n",
       "    </tr>\n",
       "    <tr>\n",
       "      <th>496</th>\n",
       "      <td>18.80</td>\n",
       "      <td>99</td>\n",
       "    </tr>\n",
       "    <tr>\n",
       "      <th>532</th>\n",
       "      <td>13.66</td>\n",
       "      <td>66</td>\n",
       "    </tr>\n",
       "    <tr>\n",
       "      <th>535</th>\n",
       "      <td>31.50</td>\n",
       "      <td>-30%</td>\n",
       "    </tr>\n",
       "    <tr>\n",
       "      <th>555</th>\n",
       "      <td>9.59</td>\n",
       "      <td>99</td>\n",
       "    </tr>\n",
       "    <tr>\n",
       "      <th>556</th>\n",
       "      <td>139.99</td>\n",
       "      <td>$139.99</td>\n",
       "    </tr>\n",
       "    <tr>\n",
       "      <th>568</th>\n",
       "      <td>13.99</td>\n",
       "      <td>99</td>\n",
       "    </tr>\n",
       "    <tr>\n",
       "      <th>607</th>\n",
       "      <td>39.99</td>\n",
       "      <td>79</td>\n",
       "    </tr>\n",
       "    <tr>\n",
       "      <th>611</th>\n",
       "      <td>12.73</td>\n",
       "      <td>99</td>\n",
       "    </tr>\n",
       "    <tr>\n",
       "      <th>612</th>\n",
       "      <td>13.79</td>\n",
       "      <td>$13.79</td>\n",
       "    </tr>\n",
       "    <tr>\n",
       "      <th>629</th>\n",
       "      <td>46.99</td>\n",
       "      <td>Python</td>\n",
       "    </tr>\n",
       "    <tr>\n",
       "      <th>631</th>\n",
       "      <td>7.95</td>\n",
       "      <td>79</td>\n",
       "    </tr>\n",
       "    <tr>\n",
       "      <th>661</th>\n",
       "      <td>101.24</td>\n",
       "      <td>PennyLane</td>\n",
       "    </tr>\n",
       "    <tr>\n",
       "      <th>666</th>\n",
       "      <td>10.99</td>\n",
       "      <td>99</td>\n",
       "    </tr>\n",
       "    <tr>\n",
       "      <th>673</th>\n",
       "      <td>24.33</td>\n",
       "      <td>JOSH TYSON</td>\n",
       "    </tr>\n",
       "    <tr>\n",
       "      <th>684</th>\n",
       "      <td>11.99</td>\n",
       "      <td>—</td>\n",
       "    </tr>\n",
       "    <tr>\n",
       "      <th>688</th>\n",
       "      <td>21.49</td>\n",
       "      <td>-39%</td>\n",
       "    </tr>\n",
       "    <tr>\n",
       "      <th>698</th>\n",
       "      <td>19.89</td>\n",
       "      <td>59</td>\n",
       "    </tr>\n",
       "    <tr>\n",
       "      <th>707</th>\n",
       "      <td>46.99</td>\n",
       "      <td>-22%</td>\n",
       "    </tr>\n",
       "    <tr>\n",
       "      <th>725</th>\n",
       "      <td>14.19</td>\n",
       "      <td>39</td>\n",
       "    </tr>\n",
       "    <tr>\n",
       "      <th>730</th>\n",
       "      <td>41.16</td>\n",
       "      <td>-25%</td>\n",
       "    </tr>\n",
       "    <tr>\n",
       "      <th>731</th>\n",
       "      <td>14.99</td>\n",
       "      <td>99</td>\n",
       "    </tr>\n",
       "    <tr>\n",
       "      <th>732</th>\n",
       "      <td>15.30</td>\n",
       "      <td>30</td>\n",
       "    </tr>\n",
       "    <tr>\n",
       "      <th>763</th>\n",
       "      <td>139.56</td>\n",
       "      <td>56</td>\n",
       "    </tr>\n",
       "    <tr>\n",
       "      <th>787</th>\n",
       "      <td>11.89</td>\n",
       "      <td>69</td>\n",
       "    </tr>\n",
       "    <tr>\n",
       "      <th>796</th>\n",
       "      <td>46.50</td>\n",
       "      <td>-22%</td>\n",
       "    </tr>\n",
       "    <tr>\n",
       "      <th>819</th>\n",
       "      <td>24.95</td>\n",
       "      <td>25</td>\n",
       "    </tr>\n",
       "    <tr>\n",
       "      <th>824</th>\n",
       "      <td>9.69</td>\n",
       "      <td>99</td>\n",
       "    </tr>\n",
       "    <tr>\n",
       "      <th>825</th>\n",
       "      <td>5.33</td>\n",
       "      <td>59</td>\n",
       "    </tr>\n",
       "  </tbody>\n",
       "</table>\n",
       "</div>"
      ],
      "text/plain": [
       "      price                            ISBN_13\n",
       "31    13.99                            $13.99 \n",
       "61    26.49                               -34%\n",
       "80   121.99                                   \n",
       "91    31.30  Usually ships within 2 to 3 days.\n",
       "121   26.44                             #NAME?\n",
       "195  113.19                           $113.19 \n",
       "217   46.53                               -22%\n",
       "293   56.87                               -19%\n",
       "348   20.13                                  x\n",
       "371   36.46                               -27%\n",
       "376   24.49                                 79\n",
       "377   40.49                                 99\n",
       "413   51.48                               -21%\n",
       "421   13.75                                 75\n",
       "440   16.99                                 49\n",
       "474   19.99                                 69\n",
       "479   19.89                                 29\n",
       "496   18.80                                 99\n",
       "532   13.66                                 66\n",
       "535   31.50                               -30%\n",
       "555    9.59                                 99\n",
       "556  139.99                           $139.99 \n",
       "568   13.99                                 99\n",
       "607   39.99                                 79\n",
       "611   12.73                                 99\n",
       "612   13.79                            $13.79 \n",
       "629   46.99                             Python\n",
       "631    7.95                                 79\n",
       "661  101.24                          PennyLane\n",
       "666   10.99                                 99\n",
       "673   24.33                         JOSH TYSON\n",
       "684   11.99                                  —\n",
       "688   21.49                               -39%\n",
       "698   19.89                                 59\n",
       "707   46.99                               -22%\n",
       "725   14.19                                 39\n",
       "730   41.16                               -25%\n",
       "731   14.99                                 99\n",
       "732   15.30                                 30\n",
       "763  139.56                                 56\n",
       "787   11.89                                 69\n",
       "796   46.50                               -22%\n",
       "819   24.95                                 25\n",
       "824    9.69                                 99\n",
       "825    5.33                                 59"
      ]
     },
     "execution_count": 63,
     "metadata": {},
     "output_type": "execute_result"
    }
   ],
   "source": [
    "df[['price', 'ISBN_13']][df.ISBN_13.isin(invalid_isbn_values)].dropna()"
   ]
  },
  {
   "cell_type": "code",
   "execution_count": null,
   "id": "8700726e-a1a4-49a1-b523-ceb9b9dd78ce",
   "metadata": {},
   "outputs": [],
   "source": []
  },
  {
   "cell_type": "code",
   "execution_count": null,
   "id": "750564b9-13c4-4c5a-86a9-99041bdf7a2b",
   "metadata": {},
   "outputs": [],
   "source": []
  },
  {
   "cell_type": "code",
   "execution_count": 64,
   "id": "b0be84dc-42b2-4c30-be66-eec682ebf368",
   "metadata": {},
   "outputs": [],
   "source": [
    "new_order = ['title', 'author', 'publisher', 'publishing_date', 'pages', 'price', 'language', 'ISBN_13', 'complete_link', 'comments']"
   ]
  },
  {
   "cell_type": "code",
   "execution_count": 65,
   "id": "c7b9934b-471f-4b12-a8ca-cac291f0ddbb",
   "metadata": {},
   "outputs": [],
   "source": [
    "df = df.reindex(new_order, axis=1)"
   ]
  },
  {
   "cell_type": "markdown",
   "id": "00e1ddd1-aad5-4472-8504-8ac7e6ce8ee2",
   "metadata": {},
   "source": [
    "Finally, get a sample to have an overview of the clean dataset."
   ]
  },
  {
   "cell_type": "code",
   "execution_count": 66,
   "id": "ad6ccc7a-689d-466b-974b-0feb058e457b",
   "metadata": {},
   "outputs": [
    {
     "data": {
      "text/html": [
       "<div>\n",
       "<style scoped>\n",
       "    .dataframe tbody tr th:only-of-type {\n",
       "        vertical-align: middle;\n",
       "    }\n",
       "\n",
       "    .dataframe tbody tr th {\n",
       "        vertical-align: top;\n",
       "    }\n",
       "\n",
       "    .dataframe thead th {\n",
       "        text-align: right;\n",
       "    }\n",
       "</style>\n",
       "<table border=\"1\" class=\"dataframe\">\n",
       "  <thead>\n",
       "    <tr style=\"text-align: right;\">\n",
       "      <th></th>\n",
       "      <th>title</th>\n",
       "      <th>author</th>\n",
       "      <th>publisher</th>\n",
       "      <th>publishing_date</th>\n",
       "      <th>pages</th>\n",
       "      <th>price</th>\n",
       "      <th>language</th>\n",
       "      <th>ISBN_13</th>\n",
       "      <th>complete_link</th>\n",
       "      <th>comments</th>\n",
       "    </tr>\n",
       "  </thead>\n",
       "  <tbody>\n",
       "    <tr>\n",
       "      <th>788</th>\n",
       "      <td>Data Structures &amp; Algorithms Interview Questio...</td>\n",
       "      <td>NaN</td>\n",
       "      <td>NaN</td>\n",
       "      <td>NaT</td>\n",
       "      <td>NaN</td>\n",
       "      <td>NaN</td>\n",
       "      <td>NaN</td>\n",
       "      <td>NaN</td>\n",
       "      <td>https://www.amazon.com/gp/slredirect/picassoRe...</td>\n",
       "      <td>NaN</td>\n",
       "    </tr>\n",
       "    <tr>\n",
       "      <th>460</th>\n",
       "      <td>Colt's Python, King of the Seven Serpents</td>\n",
       "      <td>Gurney Brown</td>\n",
       "      <td>Blue Book Publications</td>\n",
       "      <td>2018-01-01</td>\n",
       "      <td>304.0</td>\n",
       "      <td>NaN</td>\n",
       "      <td>English</td>\n",
       "      <td>978-1936120994</td>\n",
       "      <td>https://www.amazon.com/Colts-Python-King-Seven...</td>\n",
       "      <td>NaN</td>\n",
       "    </tr>\n",
       "    <tr>\n",
       "      <th>621</th>\n",
       "      <td>Scaling Python with Ray: Adventures in Cloud a...</td>\n",
       "      <td>Holden Karau and Boris Lublinsky</td>\n",
       "      <td>O'Reilly Media, 1st edition</td>\n",
       "      <td>2023-01-03</td>\n",
       "      <td>266.0</td>\n",
       "      <td>59.29</td>\n",
       "      <td>English</td>\n",
       "      <td>978-1098118808</td>\n",
       "      <td>https://www.amazon.com/Scaling-Python-Ray-Adve...</td>\n",
       "      <td>NaN</td>\n",
       "    </tr>\n",
       "    <tr>\n",
       "      <th>545</th>\n",
       "      <td>Python Programming for the Absolute Beginner, ...</td>\n",
       "      <td>Michael Dawson</td>\n",
       "      <td>Course Technology, 3rd edition</td>\n",
       "      <td>2010-01-01</td>\n",
       "      <td>455.0</td>\n",
       "      <td>40.49</td>\n",
       "      <td>English</td>\n",
       "      <td>NaN</td>\n",
       "      <td>https://www.amazon.com/Python-Programming-Abso...</td>\n",
       "      <td>NaN</td>\n",
       "    </tr>\n",
       "    <tr>\n",
       "      <th>461</th>\n",
       "      <td>Mega Python vs. Gatoroid</td>\n",
       "      <td>NaN</td>\n",
       "      <td>NaN</td>\n",
       "      <td>NaT</td>\n",
       "      <td>NaN</td>\n",
       "      <td>9.23</td>\n",
       "      <td>NaN</td>\n",
       "      <td>NaN</td>\n",
       "      <td>https://www.amazon.com/Mega-Python-Gatoroid-De...</td>\n",
       "      <td>NaN</td>\n",
       "    </tr>\n",
       "    <tr>\n",
       "      <th>571</th>\n",
       "      <td>53 Must Do Python Projects For All</td>\n",
       "      <td>Edcorner Learning</td>\n",
       "      <td>NaN</td>\n",
       "      <td>NaT</td>\n",
       "      <td>231.0</td>\n",
       "      <td>NaN</td>\n",
       "      <td>English</td>\n",
       "      <td>NaN</td>\n",
       "      <td>https://www.amazon.com/53-Must-Python-Projects...</td>\n",
       "      <td>NaN</td>\n",
       "    </tr>\n",
       "    <tr>\n",
       "      <th>209</th>\n",
       "      <td>Pandas for Everyone: Python Data Analysis (Add...</td>\n",
       "      <td>NaN</td>\n",
       "      <td>Addison-Wesley Professional, 1st edition</td>\n",
       "      <td>2017-12-15</td>\n",
       "      <td>406.0</td>\n",
       "      <td>17.27</td>\n",
       "      <td>English</td>\n",
       "      <td>NaN</td>\n",
       "      <td>https://www.amazon.com/Pandas-Everyone-Analysi...</td>\n",
       "      <td>NaN</td>\n",
       "    </tr>\n",
       "    <tr>\n",
       "      <th>2</th>\n",
       "      <td>Guerrilla Data Analysis Using Microsoft Excel:...</td>\n",
       "      <td>Oz du Soleil and Bill Jelen</td>\n",
       "      <td>Holy Macro! Books, Third edition</td>\n",
       "      <td>2022-08-01</td>\n",
       "      <td>274.0</td>\n",
       "      <td>32.07</td>\n",
       "      <td>English</td>\n",
       "      <td>978-1615470747</td>\n",
       "      <td>https://www.amazon.com/Guerrilla-Analysis-Usin...</td>\n",
       "      <td>NaN</td>\n",
       "    </tr>\n",
       "    <tr>\n",
       "      <th>490</th>\n",
       "      <td>Boas and Pythons of the World</td>\n",
       "      <td>\"Mark OShea\"</td>\n",
       "      <td>Princeton University Press</td>\n",
       "      <td>2011-04-24</td>\n",
       "      <td>160.0</td>\n",
       "      <td>16.22</td>\n",
       "      <td>English</td>\n",
       "      <td>978-0691150154</td>\n",
       "      <td>https://www.amazon.com/Boas-Pythons-World-Mark...</td>\n",
       "      <td>NaN</td>\n",
       "    </tr>\n",
       "    <tr>\n",
       "      <th>723</th>\n",
       "      <td>Introducing Data Science: Big Data, Machine Le...</td>\n",
       "      <td>Davy Cielen, Arno Meysman, et al.</td>\n",
       "      <td>Manning, 1st edition</td>\n",
       "      <td>2016-05-23</td>\n",
       "      <td>320.0</td>\n",
       "      <td>42.74</td>\n",
       "      <td>English</td>\n",
       "      <td>978-1633430037</td>\n",
       "      <td>https://www.amazon.com/Introducing-Data-Scienc...</td>\n",
       "      <td>NaN</td>\n",
       "    </tr>\n",
       "  </tbody>\n",
       "</table>\n",
       "</div>"
      ],
      "text/plain": [
       "                                                 title  \\\n",
       "788  Data Structures & Algorithms Interview Questio...   \n",
       "460          Colt's Python, King of the Seven Serpents   \n",
       "621  Scaling Python with Ray: Adventures in Cloud a...   \n",
       "545  Python Programming for the Absolute Beginner, ...   \n",
       "461                           Mega Python vs. Gatoroid   \n",
       "571                 53 Must Do Python Projects For All   \n",
       "209  Pandas for Everyone: Python Data Analysis (Add...   \n",
       "2    Guerrilla Data Analysis Using Microsoft Excel:...   \n",
       "490                      Boas and Pythons of the World   \n",
       "723  Introducing Data Science: Big Data, Machine Le...   \n",
       "\n",
       "                                author  \\\n",
       "788                                NaN   \n",
       "460                       Gurney Brown   \n",
       "621   Holden Karau and Boris Lublinsky   \n",
       "545                     Michael Dawson   \n",
       "461                                NaN   \n",
       "571                  Edcorner Learning   \n",
       "209                                NaN   \n",
       "2          Oz du Soleil and Bill Jelen   \n",
       "490                       \"Mark OShea\"   \n",
       "723  Davy Cielen, Arno Meysman, et al.   \n",
       "\n",
       "                                    publisher publishing_date  pages  price  \\\n",
       "788                                       NaN             NaT    NaN    NaN   \n",
       "460                    Blue Book Publications      2018-01-01  304.0    NaN   \n",
       "621               O'Reilly Media, 1st edition      2023-01-03  266.0  59.29   \n",
       "545            Course Technology, 3rd edition      2010-01-01  455.0  40.49   \n",
       "461                                       NaN             NaT    NaN   9.23   \n",
       "571                                       NaN             NaT  231.0    NaN   \n",
       "209  Addison-Wesley Professional, 1st edition      2017-12-15  406.0  17.27   \n",
       "2            Holy Macro! Books, Third edition      2022-08-01  274.0  32.07   \n",
       "490                Princeton University Press      2011-04-24  160.0  16.22   \n",
       "723                      Manning, 1st edition      2016-05-23  320.0  42.74   \n",
       "\n",
       "    language         ISBN_13  \\\n",
       "788      NaN             NaN   \n",
       "460  English  978-1936120994   \n",
       "621  English  978-1098118808   \n",
       "545  English             NaN   \n",
       "461      NaN             NaN   \n",
       "571  English             NaN   \n",
       "209  English             NaN   \n",
       "2    English  978-1615470747   \n",
       "490  English  978-0691150154   \n",
       "723  English  978-1633430037   \n",
       "\n",
       "                                         complete_link comments  \n",
       "788  https://www.amazon.com/gp/slredirect/picassoRe...      NaN  \n",
       "460  https://www.amazon.com/Colts-Python-King-Seven...      NaN  \n",
       "621  https://www.amazon.com/Scaling-Python-Ray-Adve...      NaN  \n",
       "545  https://www.amazon.com/Python-Programming-Abso...      NaN  \n",
       "461  https://www.amazon.com/Mega-Python-Gatoroid-De...      NaN  \n",
       "571  https://www.amazon.com/53-Must-Python-Projects...      NaN  \n",
       "209  https://www.amazon.com/Pandas-Everyone-Analysi...      NaN  \n",
       "2    https://www.amazon.com/Guerrilla-Analysis-Usin...      NaN  \n",
       "490  https://www.amazon.com/Boas-Pythons-World-Mark...      NaN  \n",
       "723  https://www.amazon.com/Introducing-Data-Scienc...      NaN  "
      ]
     },
     "execution_count": 66,
     "metadata": {},
     "output_type": "execute_result"
    }
   ],
   "source": [
    "df.sample(10)"
   ]
  },
  {
   "cell_type": "code",
   "execution_count": null,
   "id": "673c412c-2241-40ee-8e03-5fa3768fedbb",
   "metadata": {},
   "outputs": [],
   "source": []
  }
 ],
 "metadata": {
  "kernelspec": {
   "display_name": "Python 3 (ipykernel)",
   "language": "python",
   "name": "python3"
  },
  "language_info": {
   "codemirror_mode": {
    "name": "ipython",
    "version": 3
   },
   "file_extension": ".py",
   "mimetype": "text/x-python",
   "name": "python",
   "nbconvert_exporter": "python",
   "pygments_lexer": "ipython3",
   "version": "3.11.2"
  }
 },
 "nbformat": 4,
 "nbformat_minor": 5
}
