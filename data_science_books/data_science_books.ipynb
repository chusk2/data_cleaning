{
 "cells": [
  {
   "cell_type": "code",
   "execution_count": 1,
   "id": "c297ef99-c3db-482d-89f0-45bc7ce4219f",
   "metadata": {
    "tags": []
   },
   "outputs": [],
   "source": [
    "import pandas as pd\n",
    "import numpy as np"
   ]
  },
  {
   "cell_type": "code",
   "execution_count": 2,
   "id": "60712390-4e5c-4dd8-8176-9c3be7d047e8",
   "metadata": {
    "tags": []
   },
   "outputs": [],
   "source": [
    "data = pd.read_csv('data_science_books.csv')"
   ]
  },
  {
   "cell_type": "code",
   "execution_count": 3,
   "id": "49961fb1-e995-4a9c-a089-10c7d96a8de8",
   "metadata": {
    "tags": []
   },
   "outputs": [
    {
     "data": {
      "text/html": [
       "<div>\n",
       "<style scoped>\n",
       "    .dataframe tbody tr th:only-of-type {\n",
       "        vertical-align: middle;\n",
       "    }\n",
       "\n",
       "    .dataframe tbody tr th {\n",
       "        vertical-align: top;\n",
       "    }\n",
       "\n",
       "    .dataframe thead th {\n",
       "        text-align: right;\n",
       "    }\n",
       "</style>\n",
       "<table border=\"1\" class=\"dataframe\">\n",
       "  <thead>\n",
       "    <tr style=\"text-align: right;\">\n",
       "      <th></th>\n",
       "      <th>title</th>\n",
       "      <th>author</th>\n",
       "      <th>price</th>\n",
       "      <th>price (including used books)</th>\n",
       "      <th>pages</th>\n",
       "      <th>avg_reviews</th>\n",
       "      <th>n_reviews</th>\n",
       "      <th>star5</th>\n",
       "      <th>star4</th>\n",
       "      <th>star3</th>\n",
       "      <th>star2</th>\n",
       "      <th>star1</th>\n",
       "      <th>dimensions</th>\n",
       "      <th>weight</th>\n",
       "      <th>language</th>\n",
       "      <th>publisher</th>\n",
       "      <th>ISBN_13</th>\n",
       "      <th>link</th>\n",
       "      <th>complete_link</th>\n",
       "    </tr>\n",
       "  </thead>\n",
       "  <tbody>\n",
       "    <tr>\n",
       "      <th>0</th>\n",
       "      <td>Data Analysis Using R (Low Priced Edition): A ...</td>\n",
       "      <td>[ Dr Dhaval Maheta]</td>\n",
       "      <td>6.75</td>\n",
       "      <td>6.75</td>\n",
       "      <td>500</td>\n",
       "      <td>4.4</td>\n",
       "      <td>23</td>\n",
       "      <td>55%</td>\n",
       "      <td>39%</td>\n",
       "      <td>6%</td>\n",
       "      <td>NaN</td>\n",
       "      <td>NaN</td>\n",
       "      <td>8.5 x 1.01 x 11 inches</td>\n",
       "      <td>2.53 pounds</td>\n",
       "      <td>English</td>\n",
       "      <td>Notion Press Media Pvt Ltd (November 22, 2021)</td>\n",
       "      <td>978-1685549596</td>\n",
       "      <td>/Data-Analysis-Using-Low-Priced/dp/1685549594/...</td>\n",
       "      <td>https://www.amazon.com/Data-Analysis-Using-Low...</td>\n",
       "    </tr>\n",
       "    <tr>\n",
       "      <th>1</th>\n",
       "      <td>Head First Data Analysis: A learner's guide to...</td>\n",
       "      <td>NaN</td>\n",
       "      <td>33.72</td>\n",
       "      <td>21.49 - 33.72</td>\n",
       "      <td>484</td>\n",
       "      <td>4.3</td>\n",
       "      <td>124</td>\n",
       "      <td>61%</td>\n",
       "      <td>20%</td>\n",
       "      <td>9%</td>\n",
       "      <td>4%</td>\n",
       "      <td>6%</td>\n",
       "      <td>8 x 0.98 x 9.25 inches</td>\n",
       "      <td>1.96 pounds</td>\n",
       "      <td>English</td>\n",
       "      <td>O'Reilly Media; 1st edition (August 18, 2009)</td>\n",
       "      <td>978-0596153939</td>\n",
       "      <td>/Head-First-Data-Analysis-statistics/dp/059615...</td>\n",
       "      <td>https://www.amazon.com/Head-First-Data-Analysi...</td>\n",
       "    </tr>\n",
       "    <tr>\n",
       "      <th>2</th>\n",
       "      <td>Guerrilla Data Analysis Using Microsoft Excel:...</td>\n",
       "      <td>[ Oz du Soleil,  and , Bill Jelen]</td>\n",
       "      <td>32.07</td>\n",
       "      <td>32.07</td>\n",
       "      <td>274</td>\n",
       "      <td>4.7</td>\n",
       "      <td>10</td>\n",
       "      <td>87%</td>\n",
       "      <td>13%</td>\n",
       "      <td>NaN</td>\n",
       "      <td>NaN</td>\n",
       "      <td>NaN</td>\n",
       "      <td>8.25 x 0.6 x 10.75 inches</td>\n",
       "      <td>1.4 pounds</td>\n",
       "      <td>English</td>\n",
       "      <td>Holy Macro! Books; Third edition (August 1, 2022)</td>\n",
       "      <td>978-1615470747</td>\n",
       "      <td>/Guerrilla-Analysis-Using-Microsoft-Excel/dp/1...</td>\n",
       "      <td>https://www.amazon.com/Guerrilla-Analysis-Usin...</td>\n",
       "    </tr>\n",
       "    <tr>\n",
       "      <th>3</th>\n",
       "      <td>Python for Data Analysis: Data Wrangling with ...</td>\n",
       "      <td>[ William McKinney]</td>\n",
       "      <td>53.99</td>\n",
       "      <td>53.99</td>\n",
       "      <td>547</td>\n",
       "      <td>4.6</td>\n",
       "      <td>1,686</td>\n",
       "      <td>75%</td>\n",
       "      <td>16%</td>\n",
       "      <td>5%</td>\n",
       "      <td>2%</td>\n",
       "      <td>2%</td>\n",
       "      <td>7 x 1.11 x 9.19 inches</td>\n",
       "      <td>1.47 pounds</td>\n",
       "      <td>English</td>\n",
       "      <td>O'Reilly Media; 2nd edition (November 14, 2017)</td>\n",
       "      <td>978-1491957660</td>\n",
       "      <td>/Python-Data-Analysis-Wrangling-IPython/dp/149...</td>\n",
       "      <td>https://www.amazon.com/Python-Data-Analysis-Wr...</td>\n",
       "    </tr>\n",
       "    <tr>\n",
       "      <th>4</th>\n",
       "      <td>Excel Data Analysis For Dummies (For Dummies (...</td>\n",
       "      <td>[ Paul McFedries]</td>\n",
       "      <td>24.49</td>\n",
       "      <td>24.49</td>\n",
       "      <td>368</td>\n",
       "      <td>3.9</td>\n",
       "      <td>12</td>\n",
       "      <td>52%</td>\n",
       "      <td>17%</td>\n",
       "      <td>10%</td>\n",
       "      <td>10%</td>\n",
       "      <td>10%</td>\n",
       "      <td>7.38 x 0.83 x 9.25 inches</td>\n",
       "      <td>1.3 pounds</td>\n",
       "      <td>English</td>\n",
       "      <td>For Dummies; 5th edition (February 3, 2022)</td>\n",
       "      <td>978-1119844426</td>\n",
       "      <td>/Excel-Data-Analysis-Dummies-Computer/dp/11198...</td>\n",
       "      <td>https://www.amazon.com/Excel-Data-Analysis-Dum...</td>\n",
       "    </tr>\n",
       "  </tbody>\n",
       "</table>\n",
       "</div>"
      ],
      "text/plain": [
       "                                               title  \\\n",
       "0  Data Analysis Using R (Low Priced Edition): A ...   \n",
       "1  Head First Data Analysis: A learner's guide to...   \n",
       "2  Guerrilla Data Analysis Using Microsoft Excel:...   \n",
       "3  Python for Data Analysis: Data Wrangling with ...   \n",
       "4  Excel Data Analysis For Dummies (For Dummies (...   \n",
       "\n",
       "                               author  price price (including used books)  \\\n",
       "0                 [ Dr Dhaval Maheta]   6.75                         6.75   \n",
       "1                                 NaN  33.72               21.49 - 33.72    \n",
       "2  [ Oz du Soleil,  and , Bill Jelen]  32.07                        32.07   \n",
       "3                 [ William McKinney]  53.99                        53.99   \n",
       "4                   [ Paul McFedries]  24.49                        24.49   \n",
       "\n",
       "  pages  avg_reviews n_reviews star5 star4 star3 star2 star1  \\\n",
       "0   500          4.4        23   55%   39%    6%   NaN   NaN   \n",
       "1   484          4.3       124   61%   20%    9%    4%    6%   \n",
       "2   274          4.7        10   87%   13%   NaN   NaN   NaN   \n",
       "3   547          4.6     1,686   75%   16%    5%    2%    2%   \n",
       "4   368          3.9        12   52%   17%   10%   10%   10%   \n",
       "\n",
       "                  dimensions       weight language  \\\n",
       "0     8.5 x 1.01 x 11 inches  2.53 pounds  English   \n",
       "1     8 x 0.98 x 9.25 inches  1.96 pounds  English   \n",
       "2  8.25 x 0.6 x 10.75 inches   1.4 pounds  English   \n",
       "3     7 x 1.11 x 9.19 inches  1.47 pounds  English   \n",
       "4  7.38 x 0.83 x 9.25 inches   1.3 pounds  English   \n",
       "\n",
       "                                           publisher         ISBN_13  \\\n",
       "0     Notion Press Media Pvt Ltd (November 22, 2021)  978-1685549596   \n",
       "1      O'Reilly Media; 1st edition (August 18, 2009)  978-0596153939   \n",
       "2  Holy Macro! Books; Third edition (August 1, 2022)  978-1615470747   \n",
       "3    O'Reilly Media; 2nd edition (November 14, 2017)  978-1491957660   \n",
       "4        For Dummies; 5th edition (February 3, 2022)  978-1119844426   \n",
       "\n",
       "                                                link  \\\n",
       "0  /Data-Analysis-Using-Low-Priced/dp/1685549594/...   \n",
       "1  /Head-First-Data-Analysis-statistics/dp/059615...   \n",
       "2  /Guerrilla-Analysis-Using-Microsoft-Excel/dp/1...   \n",
       "3  /Python-Data-Analysis-Wrangling-IPython/dp/149...   \n",
       "4  /Excel-Data-Analysis-Dummies-Computer/dp/11198...   \n",
       "\n",
       "                                       complete_link  \n",
       "0  https://www.amazon.com/Data-Analysis-Using-Low...  \n",
       "1  https://www.amazon.com/Head-First-Data-Analysi...  \n",
       "2  https://www.amazon.com/Guerrilla-Analysis-Usin...  \n",
       "3  https://www.amazon.com/Python-Data-Analysis-Wr...  \n",
       "4  https://www.amazon.com/Excel-Data-Analysis-Dum...  "
      ]
     },
     "execution_count": 3,
     "metadata": {},
     "output_type": "execute_result"
    }
   ],
   "source": [
    "data.head()"
   ]
  },
  {
   "cell_type": "code",
   "execution_count": 4,
   "id": "3f218e29-ba1c-4433-8e41-778281cf445f",
   "metadata": {
    "tags": []
   },
   "outputs": [
    {
     "data": {
      "text/plain": [
       "Index(['title', 'author', 'price', 'price (including used books)', 'pages',\n",
       "       'avg_reviews', 'n_reviews', 'star5', 'star4', 'star3', 'star2', 'star1',\n",
       "       'dimensions', 'weight', 'language', 'publisher', 'ISBN_13', 'link',\n",
       "       'complete_link'],\n",
       "      dtype='object')"
      ]
     },
     "execution_count": 4,
     "metadata": {},
     "output_type": "execute_result"
    }
   ],
   "source": [
    "data.columns"
   ]
  },
  {
   "cell_type": "code",
   "execution_count": 5,
   "id": "234e9764-c457-44eb-adeb-56acf16e437f",
   "metadata": {
    "tags": []
   },
   "outputs": [],
   "source": [
    "df = data['title, author, price, pages, language, publisher, ISBN_13, complete_link'.split(', ')]"
   ]
  },
  {
   "cell_type": "code",
   "execution_count": 6,
   "id": "2b211737-7151-4681-be8d-489a9bf572d9",
   "metadata": {
    "tags": []
   },
   "outputs": [
    {
     "data": {
      "text/plain": [
       "Index(['title', 'author', 'price', 'pages', 'language', 'publisher', 'ISBN_13',\n",
       "       'complete_link'],\n",
       "      dtype='object')"
      ]
     },
     "execution_count": 6,
     "metadata": {},
     "output_type": "execute_result"
    }
   ],
   "source": [
    "df.columns"
   ]
  },
  {
   "cell_type": "code",
   "execution_count": 7,
   "id": "cc7ede8c-b2c8-4768-82b3-ab87dbb1df28",
   "metadata": {},
   "outputs": [
    {
     "data": {
      "text/plain": [
       "830"
      ]
     },
     "execution_count": 7,
     "metadata": {},
     "output_type": "execute_result"
    }
   ],
   "source": [
    "df.author.isna().count()"
   ]
  },
  {
   "cell_type": "code",
   "execution_count": 8,
   "id": "60ed451c-b9c4-4ba0-bde5-9af68b7f4191",
   "metadata": {
    "tags": []
   },
   "outputs": [],
   "source": [
    "def clean_author(value):\n",
    "\tif value == value:\n",
    "\t\treturn value.lstrip('[ ').rstrip(']').replace(',  and ,', ' and')\n",
    "\telse:\n",
    "\t\treturn value"
   ]
  },
  {
   "cell_type": "code",
   "execution_count": 9,
   "id": "7bb1c636-d201-4aeb-9309-08708dfe8b51",
   "metadata": {
    "tags": []
   },
   "outputs": [
    {
     "name": "stderr",
     "output_type": "stream",
     "text": [
      "/tmp/ipykernel_4329/4174911401.py:1: SettingWithCopyWarning: \n",
      "A value is trying to be set on a copy of a slice from a DataFrame.\n",
      "Try using .loc[row_indexer,col_indexer] = value instead\n",
      "\n",
      "See the caveats in the documentation: https://pandas.pydata.org/pandas-docs/stable/user_guide/indexing.html#returning-a-view-versus-a-copy\n",
      "  df.author = df.author.apply(clean_author)\n"
     ]
    }
   ],
   "source": [
    "df.author = df.author.apply(clean_author)"
   ]
  },
  {
   "cell_type": "code",
   "execution_count": 10,
   "id": "2cf1e3ce-cce7-4cba-ad88-1933416239d9",
   "metadata": {
    "tags": []
   },
   "outputs": [
    {
     "data": {
      "text/html": [
       "<div>\n",
       "<style scoped>\n",
       "    .dataframe tbody tr th:only-of-type {\n",
       "        vertical-align: middle;\n",
       "    }\n",
       "\n",
       "    .dataframe tbody tr th {\n",
       "        vertical-align: top;\n",
       "    }\n",
       "\n",
       "    .dataframe thead th {\n",
       "        text-align: right;\n",
       "    }\n",
       "</style>\n",
       "<table border=\"1\" class=\"dataframe\">\n",
       "  <thead>\n",
       "    <tr style=\"text-align: right;\">\n",
       "      <th></th>\n",
       "      <th>title</th>\n",
       "      <th>author</th>\n",
       "      <th>price</th>\n",
       "      <th>pages</th>\n",
       "      <th>language</th>\n",
       "      <th>publisher</th>\n",
       "      <th>ISBN_13</th>\n",
       "      <th>complete_link</th>\n",
       "    </tr>\n",
       "  </thead>\n",
       "  <tbody>\n",
       "    <tr>\n",
       "      <th>326</th>\n",
       "      <td>Practical Time Series Analysis: Prediction wit...</td>\n",
       "      <td>Aileen Nielsen</td>\n",
       "      <td>51.99</td>\n",
       "      <td>504</td>\n",
       "      <td>English</td>\n",
       "      <td>O'Reilly Media; 1st edition (November 5, 2019)</td>\n",
       "      <td></td>\n",
       "      <td>https://www.amazon.com/Practical-Time-Analysis...</td>\n",
       "    </tr>\n",
       "    <tr>\n",
       "      <th>789</th>\n",
       "      <td>Google BigQuery: The Definitive Guide: Data Wa...</td>\n",
       "      <td>Valliappa Lakshmanan and Jordan Tigani</td>\n",
       "      <td>29.99</td>\n",
       "      <td>522</td>\n",
       "      <td>English</td>\n",
       "      <td>O'Reilly Media; 1st edition (November 19, 2019)</td>\n",
       "      <td></td>\n",
       "      <td>https://www.amazon.com/Google-BigQuery-Definit...</td>\n",
       "    </tr>\n",
       "    <tr>\n",
       "      <th>218</th>\n",
       "      <td>The Esri Guide to GIS Analysis, Volume 1: Geog...</td>\n",
       "      <td>NaN</td>\n",
       "      <td>31.99</td>\n",
       "      <td>312</td>\n",
       "      <td>English</td>\n",
       "      <td>Esri Press; Second edition (May 26, 2020)</td>\n",
       "      <td></td>\n",
       "      <td>https://www.amazon.com/Esri-Guide-GIS-Analysis...</td>\n",
       "    </tr>\n",
       "    <tr>\n",
       "      <th>141</th>\n",
       "      <td>Learn Selenium: Build data-driven test framewo...</td>\n",
       "      <td>Unmesh Gundecha and Carl Cocchiaro</td>\n",
       "      <td>49.99</td>\n",
       "      <td>536</td>\n",
       "      <td>English</td>\n",
       "      <td>Packt Publishing (July 18, 2019)</td>\n",
       "      <td>978-1838983048</td>\n",
       "      <td>https://www.amazon.com/Learn-Selenium-data-dri...</td>\n",
       "    </tr>\n",
       "    <tr>\n",
       "      <th>279</th>\n",
       "      <td>The Art of Statistical Thinking: Detect Misinf...</td>\n",
       "      <td>NaN</td>\n",
       "      <td>4.99</td>\n",
       "      <td>178</td>\n",
       "      <td>English</td>\n",
       "      <td>ARB Publications; 1st edition (October 13, 2022)</td>\n",
       "      <td>NaN</td>\n",
       "      <td>https://www.amazon.com/Art-Statistical-Thinkin...</td>\n",
       "    </tr>\n",
       "    <tr>\n",
       "      <th>758</th>\n",
       "      <td>MongoDB Fundamentals: A hands-on guide to usin...</td>\n",
       "      <td>Amit Phaltankar, Juned Ahsan, et al.</td>\n",
       "      <td>41.99</td>\n",
       "      <td>748</td>\n",
       "      <td>English</td>\n",
       "      <td>Packt Publishing (December 22, 2020)</td>\n",
       "      <td>978-1839210648</td>\n",
       "      <td>https://www.amazon.com/gp/slredirect/picassoRe...</td>\n",
       "    </tr>\n",
       "    <tr>\n",
       "      <th>325</th>\n",
       "      <td>R for Data Science: Import, Tidy, Transform, V...</td>\n",
       "      <td>Garrett Grolemund and Hadley Wickham</td>\n",
       "      <td>42.49</td>\n",
       "      <td>518</td>\n",
       "      <td>English</td>\n",
       "      <td>O'Reilly Media; 1st edition (January 31, 2017)</td>\n",
       "      <td></td>\n",
       "      <td>https://www.amazon.com/Data-Science-Transform-...</td>\n",
       "    </tr>\n",
       "    <tr>\n",
       "      <th>143</th>\n",
       "      <td>Recovering Black Storytelling in Qualitative R...</td>\n",
       "      <td>NaN</td>\n",
       "      <td>37.80</td>\n",
       "      <td>192</td>\n",
       "      <td>English</td>\n",
       "      <td>Routledge; 1st edition (November 19, 2021)</td>\n",
       "      <td>978-0367747336</td>\n",
       "      <td>https://www.amazon.com/Recovering-Storytelling...</td>\n",
       "    </tr>\n",
       "    <tr>\n",
       "      <th>464</th>\n",
       "      <td>Practical Python Programming for IoT: Build ad...</td>\n",
       "      <td>Gary Smart</td>\n",
       "      <td>39.99</td>\n",
       "      <td>516</td>\n",
       "      <td>English</td>\n",
       "      <td>Packt Publishing (November 12, 2020)</td>\n",
       "      <td></td>\n",
       "      <td>https://www.amazon.com/gp/slredirect/picassoRe...</td>\n",
       "    </tr>\n",
       "    <tr>\n",
       "      <th>724</th>\n",
       "      <td>Data Science from Scratch: From Data Visualiza...</td>\n",
       "      <td>William Gray, Damon Knox, et al.</td>\n",
       "      <td>NaN</td>\n",
       "      <td>NaN</td>\n",
       "      <td>NaN</td>\n",
       "      <td>NaN</td>\n",
       "      <td>NaN</td>\n",
       "      <td>https://www.amazon.com/Data-Science-Scratch-Vi...</td>\n",
       "    </tr>\n",
       "  </tbody>\n",
       "</table>\n",
       "</div>"
      ],
      "text/plain": [
       "                                                 title  \\\n",
       "326  Practical Time Series Analysis: Prediction wit...   \n",
       "789  Google BigQuery: The Definitive Guide: Data Wa...   \n",
       "218  The Esri Guide to GIS Analysis, Volume 1: Geog...   \n",
       "141  Learn Selenium: Build data-driven test framewo...   \n",
       "279  The Art of Statistical Thinking: Detect Misinf...   \n",
       "758  MongoDB Fundamentals: A hands-on guide to usin...   \n",
       "325  R for Data Science: Import, Tidy, Transform, V...   \n",
       "143  Recovering Black Storytelling in Qualitative R...   \n",
       "464  Practical Python Programming for IoT: Build ad...   \n",
       "724  Data Science from Scratch: From Data Visualiza...   \n",
       "\n",
       "                                     author  price pages language  \\\n",
       "326                          Aileen Nielsen  51.99   504  English   \n",
       "789  Valliappa Lakshmanan and Jordan Tigani  29.99   522  English   \n",
       "218                                     NaN  31.99   312  English   \n",
       "141      Unmesh Gundecha and Carl Cocchiaro  49.99   536  English   \n",
       "279                                     NaN   4.99   178  English   \n",
       "758    Amit Phaltankar, Juned Ahsan, et al.  41.99   748  English   \n",
       "325    Garrett Grolemund and Hadley Wickham  42.49   518  English   \n",
       "143                                     NaN  37.80   192  English   \n",
       "464                              Gary Smart  39.99   516  English   \n",
       "724        William Gray, Damon Knox, et al.    NaN   NaN      NaN   \n",
       "\n",
       "                                            publisher         ISBN_13  \\\n",
       "326    O'Reilly Media; 1st edition (November 5, 2019)                   \n",
       "789   O'Reilly Media; 1st edition (November 19, 2019)                   \n",
       "218         Esri Press; Second edition (May 26, 2020)                   \n",
       "141                  Packt Publishing (July 18, 2019)  978-1838983048   \n",
       "279  ARB Publications; 1st edition (October 13, 2022)             NaN   \n",
       "758              Packt Publishing (December 22, 2020)  978-1839210648   \n",
       "325    O'Reilly Media; 1st edition (January 31, 2017)                   \n",
       "143        Routledge; 1st edition (November 19, 2021)  978-0367747336   \n",
       "464              Packt Publishing (November 12, 2020)                   \n",
       "724                                               NaN             NaN   \n",
       "\n",
       "                                         complete_link  \n",
       "326  https://www.amazon.com/Practical-Time-Analysis...  \n",
       "789  https://www.amazon.com/Google-BigQuery-Definit...  \n",
       "218  https://www.amazon.com/Esri-Guide-GIS-Analysis...  \n",
       "141  https://www.amazon.com/Learn-Selenium-data-dri...  \n",
       "279  https://www.amazon.com/Art-Statistical-Thinkin...  \n",
       "758  https://www.amazon.com/gp/slredirect/picassoRe...  \n",
       "325  https://www.amazon.com/Data-Science-Transform-...  \n",
       "143  https://www.amazon.com/Recovering-Storytelling...  \n",
       "464  https://www.amazon.com/gp/slredirect/picassoRe...  \n",
       "724  https://www.amazon.com/Data-Science-Scratch-Vi...  "
      ]
     },
     "execution_count": 10,
     "metadata": {},
     "output_type": "execute_result"
    }
   ],
   "source": [
    "df.sample(10)"
   ]
  },
  {
   "cell_type": "markdown",
   "id": "f675699c-371e-4df1-b235-704be1c22f12",
   "metadata": {},
   "source": [
    "There's an error when trying to convert prices to float:  \n",
    "`ValueError: could not convert string to float: 'Explores all feature...`  \n",
    "Some values content comments, so I need to clean the price columns first."
   ]
  },
  {
   "cell_type": "code",
   "execution_count": 11,
   "id": "29129977-219e-47ed-9662-9acd1caaf7bf",
   "metadata": {
    "tags": []
   },
   "outputs": [],
   "source": [
    "#df.pages.astype(float)"
   ]
  },
  {
   "cell_type": "markdown",
   "id": "3a0fca49-e303-4c51-a5d8-f76d43841799",
   "metadata": {},
   "source": [
    "I will figure out what's the maximum lenght of the figures in pages column. I will try to convert to float those values of a maximum length. If it raises an error, it means there are values that are strings. In that case, I try using a shorter length for figures."
   ]
  },
  {
   "cell_type": "markdown",
   "id": "d6d8a00d-dbdb-4aed-84a7-ffaebc6dfc0f",
   "metadata": {},
   "source": [
    "Length 5 raises an error, but maximum length of pages figure of 4 doesn't."
   ]
  },
  {
   "cell_type": "code",
   "execution_count": 12,
   "id": "f2fe7ea1-ade0-4cbf-b8ee-6854e0a2a2f7",
   "metadata": {},
   "outputs": [],
   "source": [
    "#df.pages[df.pages.str.len() <=5].astype(float)"
   ]
  },
  {
   "cell_type": "code",
   "execution_count": 13,
   "id": "ca5555b8-6f48-4284-97e4-b41dcc6dd0bf",
   "metadata": {},
   "outputs": [
    {
     "data": {
      "text/plain": [
       "0      500.0\n",
       "1      484.0\n",
       "2      274.0\n",
       "3      547.0\n",
       "4      368.0\n",
       "       ...  \n",
       "822    165.0\n",
       "824    280.0\n",
       "825    208.0\n",
       "826    573.0\n",
       "827    288.0\n",
       "Name: pages, Length: 736, dtype: float64"
      ]
     },
     "execution_count": 13,
     "metadata": {},
     "output_type": "execute_result"
    }
   ],
   "source": [
    "df.pages[df.pages.str.len() <=4].astype(float)"
   ]
  },
  {
   "cell_type": "markdown",
   "id": "df6bde07-e442-48ab-88e3-03db35e69f64",
   "metadata": {},
   "source": [
    "Now I know that values longer than 4 are comments. Shorter values correspond to pages number, so there won't be a comment (use NaN). With this information I create a column with comments."
   ]
  },
  {
   "cell_type": "code",
   "execution_count": 14,
   "id": "ad97ced6-74ec-4cd6-a597-aea9359c4879",
   "metadata": {
    "tags": []
   },
   "outputs": [
    {
     "name": "stderr",
     "output_type": "stream",
     "text": [
      "/tmp/ipykernel_4329/3878540880.py:1: SettingWithCopyWarning: \n",
      "A value is trying to be set on a copy of a slice from a DataFrame.\n",
      "Try using .loc[row_indexer,col_indexer] = value instead\n",
      "\n",
      "See the caveats in the documentation: https://pandas.pydata.org/pandas-docs/stable/user_guide/indexing.html#returning-a-view-versus-a-copy\n",
      "  df['comments'] = np.where(df.pages.str.len() >= 5, df.pages, np.nan)\n"
     ]
    }
   ],
   "source": [
    "df['comments'] = np.where(df.pages.str.len() >= 5, df.pages, np.nan)"
   ]
  },
  {
   "cell_type": "markdown",
   "id": "46419c90-e0c1-4af1-b9a8-6c29fb0061fd",
   "metadata": {},
   "source": [
    "Now let's finally clean the pages column."
   ]
  },
  {
   "cell_type": "code",
   "execution_count": 15,
   "id": "6ec72bf5-405e-4fb4-b81e-25a4af6161c5",
   "metadata": {
    "tags": []
   },
   "outputs": [
    {
     "name": "stderr",
     "output_type": "stream",
     "text": [
      "/tmp/ipykernel_4329/108972310.py:1: SettingWithCopyWarning: \n",
      "A value is trying to be set on a copy of a slice from a DataFrame.\n",
      "Try using .loc[row_indexer,col_indexer] = value instead\n",
      "\n",
      "See the caveats in the documentation: https://pandas.pydata.org/pandas-docs/stable/user_guide/indexing.html#returning-a-view-versus-a-copy\n",
      "  df.pages = np.where(df.pages.str.len() <= 4, df.pages, np.nan).astype(float)\n"
     ]
    }
   ],
   "source": [
    "df.pages = np.where(df.pages.str.len() <= 4, df.pages, np.nan).astype(float)"
   ]
  },
  {
   "cell_type": "code",
   "execution_count": 16,
   "id": "9764b855-73d9-4371-8b4f-4f29bd17ed18",
   "metadata": {
    "tags": []
   },
   "outputs": [
    {
     "data": {
      "text/html": [
       "<div>\n",
       "<style scoped>\n",
       "    .dataframe tbody tr th:only-of-type {\n",
       "        vertical-align: middle;\n",
       "    }\n",
       "\n",
       "    .dataframe tbody tr th {\n",
       "        vertical-align: top;\n",
       "    }\n",
       "\n",
       "    .dataframe thead th {\n",
       "        text-align: right;\n",
       "    }\n",
       "</style>\n",
       "<table border=\"1\" class=\"dataframe\">\n",
       "  <thead>\n",
       "    <tr style=\"text-align: right;\">\n",
       "      <th></th>\n",
       "      <th>title</th>\n",
       "      <th>author</th>\n",
       "      <th>price</th>\n",
       "      <th>pages</th>\n",
       "      <th>language</th>\n",
       "      <th>publisher</th>\n",
       "      <th>ISBN_13</th>\n",
       "      <th>complete_link</th>\n",
       "      <th>comments</th>\n",
       "    </tr>\n",
       "  </thead>\n",
       "  <tbody>\n",
       "    <tr>\n",
       "      <th>520</th>\n",
       "      <td>Monty Python Speaks, Revised and Updated Editi...</td>\n",
       "      <td>David Morgan and John Oliver</td>\n",
       "      <td>17.99</td>\n",
       "      <td>432.0</td>\n",
       "      <td>English</td>\n",
       "      <td>Dey Street Books; Revised, Updated edition (Ja...</td>\n",
       "      <td>978-0062866448</td>\n",
       "      <td>https://www.amazon.com/Monty-Python-Speaks-Rev...</td>\n",
       "      <td>NaN</td>\n",
       "    </tr>\n",
       "    <tr>\n",
       "      <th>213</th>\n",
       "      <td>Mastering pandas: A complete guide to pandas, ...</td>\n",
       "      <td>Ashish Kumar</td>\n",
       "      <td>21.09</td>\n",
       "      <td>1004.0</td>\n",
       "      <td>English</td>\n",
       "      <td>Packt Publishing; 2nd edition (October 25, 2019)</td>\n",
       "      <td>NaN</td>\n",
       "      <td>https://www.amazon.com/Mastering-pandas-comple...</td>\n",
       "      <td>NaN</td>\n",
       "    </tr>\n",
       "    <tr>\n",
       "      <th>365</th>\n",
       "      <td>Microsoft Excel Data Analysis and Business Mod...</td>\n",
       "      <td>Wayne Winston</td>\n",
       "      <td>34.87</td>\n",
       "      <td>1168.0</td>\n",
       "      <td>English</td>\n",
       "      <td>Microsoft Press; 7th edition (December 16, 2021)</td>\n",
       "      <td>978-0137613663</td>\n",
       "      <td>https://www.amazon.com/Microsoft-Analysis-Busi...</td>\n",
       "      <td>NaN</td>\n",
       "    </tr>\n",
       "    <tr>\n",
       "      <th>497</th>\n",
       "      <td>Bite-Size Python: An Introduction to Python Pr...</td>\n",
       "      <td>April Speight</td>\n",
       "      <td>23.72</td>\n",
       "      <td>240.0</td>\n",
       "      <td>English</td>\n",
       "      <td>Wiley; 1st edition (September 1, 2020)</td>\n",
       "      <td>978-1119643814</td>\n",
       "      <td>https://www.amazon.com/Bite-Size-Python-Introd...</td>\n",
       "      <td>NaN</td>\n",
       "    </tr>\n",
       "    <tr>\n",
       "      <th>315</th>\n",
       "      <td>Julia for Data Analysis</td>\n",
       "      <td>Bogumil Kaminski</td>\n",
       "      <td>59.99</td>\n",
       "      <td>472.0</td>\n",
       "      <td>English</td>\n",
       "      <td>Manning (January 10, 2023)</td>\n",
       "      <td>978-1633439368</td>\n",
       "      <td>https://www.amazon.com/Julia-Data-Analysis-Bog...</td>\n",
       "      <td>NaN</td>\n",
       "    </tr>\n",
       "  </tbody>\n",
       "</table>\n",
       "</div>"
      ],
      "text/plain": [
       "                                                 title  \\\n",
       "520  Monty Python Speaks, Revised and Updated Editi...   \n",
       "213  Mastering pandas: A complete guide to pandas, ...   \n",
       "365  Microsoft Excel Data Analysis and Business Mod...   \n",
       "497  Bite-Size Python: An Introduction to Python Pr...   \n",
       "315                            Julia for Data Analysis   \n",
       "\n",
       "                           author  price   pages language  \\\n",
       "520  David Morgan and John Oliver  17.99   432.0  English   \n",
       "213                  Ashish Kumar  21.09  1004.0  English   \n",
       "365                 Wayne Winston  34.87  1168.0  English   \n",
       "497                 April Speight  23.72   240.0  English   \n",
       "315              Bogumil Kaminski  59.99   472.0  English   \n",
       "\n",
       "                                             publisher         ISBN_13  \\\n",
       "520  Dey Street Books; Revised, Updated edition (Ja...  978-0062866448   \n",
       "213   Packt Publishing; 2nd edition (October 25, 2019)             NaN   \n",
       "365   Microsoft Press; 7th edition (December 16, 2021)  978-0137613663   \n",
       "497             Wiley; 1st edition (September 1, 2020)  978-1119643814   \n",
       "315                         Manning (January 10, 2023)  978-1633439368   \n",
       "\n",
       "                                         complete_link comments  \n",
       "520  https://www.amazon.com/Monty-Python-Speaks-Rev...      NaN  \n",
       "213  https://www.amazon.com/Mastering-pandas-comple...      NaN  \n",
       "365  https://www.amazon.com/Microsoft-Analysis-Busi...      NaN  \n",
       "497  https://www.amazon.com/Bite-Size-Python-Introd...      NaN  \n",
       "315  https://www.amazon.com/Julia-Data-Analysis-Bog...      NaN  "
      ]
     },
     "execution_count": 16,
     "metadata": {},
     "output_type": "execute_result"
    }
   ],
   "source": [
    "df.sample(5)"
   ]
  },
  {
   "cell_type": "markdown",
   "id": "b33959be-5e88-43aa-8c6e-2a0c162c5eb9",
   "metadata": {},
   "source": [
    "Next column to clean will be `language'."
   ]
  },
  {
   "cell_type": "code",
   "execution_count": 17,
   "id": "8a942aa8-29e7-468a-8dd9-4b1ee4bf4bd5",
   "metadata": {
    "tags": []
   },
   "outputs": [
    {
     "data": {
      "text/plain": [
       "array(['English', nan, 'Spanish',\n",
       "       'Unqualified, Japanese (Dolby Digital 2.0 Mono), English (Dolby Digital 5.1), English (Dolby Digital 2.0 Mono)',\n",
       "       'you will discover all you need ',\n",
       "       '• How to make better business decisions using ',\n",
       "       'Concepts are presented in a \"to-the-point\" style to cater to the busy individual. With this book, you can learn Python in just one day and start coding immediately. ',\n",
       "       'standard library',\n",
       "       'This Python programming guide assumes certain level of programming knowledge. It is not a beginner textbook.',\n",
       "       'Scroll to the top of the page and click the ',\n",
       "       'English (Dolby Digital 2.0 Mono)',\n",
       "       'English (DTS-HD Master Audio 5.1), French (DTS-HD 2.0)',\n",
       "       '\"Brilliant.\"'], dtype=object)"
      ]
     },
     "execution_count": 17,
     "metadata": {},
     "output_type": "execute_result"
    }
   ],
   "source": [
    "df.language.unique()"
   ]
  },
  {
   "cell_type": "markdown",
   "id": "e7a33e4f-6967-4d9a-b451-9a1b1e8b2e91",
   "metadata": {},
   "source": [
    "Some values have `English` or `Spanish` as language values. Some others have languages with other comments. Other values are just comments. This needs a more deep cleaning than previous columns."
   ]
  },
  {
   "cell_type": "markdown",
   "id": "ea031c7c-4bd3-4fbe-a0aa-1d6d959350ae",
   "metadata": {},
   "source": [
    "`language` values that don't have English, Spanish, Japanese or French, will be considered as comments."
   ]
  },
  {
   "cell_type": "markdown",
   "id": "84318391-4a72-4980-831d-a01c0745e025",
   "metadata": {},
   "source": [
    "Multiple conditions to check:"
   ]
  },
  {
   "cell_type": "code",
   "execution_count": 18,
   "id": "c0c9f13f-30f1-4d99-8855-fbae5b0a350e",
   "metadata": {},
   "outputs": [],
   "source": [
    "contains_english = df.language.str.contains('English')\n",
    "contains_spanish = df.language.str.contains('Spanish')\n",
    "contains_japanese = df.language.str.contains('Japanese')\n",
    "contains_french = df.language.str.contains('French')"
   ]
  },
  {
   "cell_type": "markdown",
   "id": "4a1c5fc6-6d15-4809-8baa-940223948ad5",
   "metadata": {},
   "source": [
    "Extract all the values that don't contain information about language."
   ]
  },
  {
   "cell_type": "code",
   "execution_count": 19,
   "id": "e5f69f94-e72a-4c4d-938d-e720e465985c",
   "metadata": {},
   "outputs": [],
   "source": [
    "not_language_info = ~(contains_english | contains_spanish | contains_japanese | contains_french | df.language.isnull() )"
   ]
  },
  {
   "cell_type": "code",
   "execution_count": 20,
   "id": "cfd98389-67bd-4260-b85a-cb3a884ad903",
   "metadata": {},
   "outputs": [
    {
     "data": {
      "text/plain": [
       "54                       you will discover all you need \n",
       "290       • How to make better business decisions using \n",
       "381    Concepts are presented in a \"to-the-point\" sty...\n",
       "382                                     standard library\n",
       "476    This Python programming guide assumes certain ...\n",
       "492         Scroll to the top of the page and click the \n",
       "633                                         \"Brilliant.\"\n",
       "Name: language, dtype: object"
      ]
     },
     "execution_count": 20,
     "metadata": {},
     "output_type": "execute_result"
    }
   ],
   "source": [
    "df.language[not_language_info]"
   ]
  },
  {
   "cell_type": "markdown",
   "id": "3e6d8879-1394-4b13-aa06-328365b7b250",
   "metadata": {},
   "source": [
    "I will store the indexes of these rows, which do not contain some language information."
   ]
  },
  {
   "cell_type": "code",
   "execution_count": 21,
   "id": "5abe7404-5bfb-467a-94b7-c24796486dc4",
   "metadata": {},
   "outputs": [],
   "source": [
    "not_lang_indexes = df.language[not_language_info].index"
   ]
  },
  {
   "cell_type": "code",
   "execution_count": 22,
   "id": "5d141838-4eff-4494-b01e-435ffe8f8d99",
   "metadata": {},
   "outputs": [
    {
     "data": {
      "text/plain": [
       "Int64Index([54, 290, 381, 382, 476, 492, 633], dtype='int64')"
      ]
     },
     "execution_count": 22,
     "metadata": {},
     "output_type": "execute_result"
    }
   ],
   "source": [
    "not_lang_indexes"
   ]
  },
  {
   "cell_type": "markdown",
   "id": "94cfa309-5ae0-40a8-a670-26bdacf2425b",
   "metadata": {},
   "source": [
    "Now I will create a function to add these comments to the comments column"
   ]
  },
  {
   "cell_type": "markdown",
   "id": "029684ae-2342-4a02-b94c-4cc777d1c4ab",
   "metadata": {},
   "source": [
    "Check if these rows have already a comment"
   ]
  },
  {
   "cell_type": "code",
   "execution_count": 23,
   "id": "3106dec5-eb3a-4581-923c-8e6e1a634ef5",
   "metadata": {},
   "outputs": [
    {
     "data": {
      "text/plain": [
       "54       NaN\n",
       "290      NaN\n",
       "381      NaN\n",
       "382    1,000\n",
       "476      NaN\n",
       "492      NaN\n",
       "633      NaN\n",
       "Name: comments, dtype: object"
      ]
     },
     "execution_count": 23,
     "metadata": {},
     "output_type": "execute_result"
    }
   ],
   "source": [
    "df.loc[not_lang_indexes].comments"
   ]
  },
  {
   "cell_type": "markdown",
   "id": "ef852486-71de-463a-95cd-71fbb76136c4",
   "metadata": {},
   "source": [
    "I have just discovered that row 382 had a valid number of pages:  1000 pages. I sent his page number to comments. I will fix this before going further."
   ]
  },
  {
   "cell_type": "code",
   "execution_count": 24,
   "id": "321c7aee-ded2-43f0-b418-69d9a1c4e52d",
   "metadata": {
    "tags": []
   },
   "outputs": [],
   "source": [
    "df.loc[382, ['pages']] = 1000\n",
    "df.loc[382, ['comments']] = np.nan"
   ]
  },
  {
   "cell_type": "code",
   "execution_count": 25,
   "id": "ab9e233d-0a53-4645-9c05-a04be39bcdce",
   "metadata": {},
   "outputs": [
    {
     "data": {
      "text/plain": [
       "title            Python 3: The Comprehensive Guide to Hands-On ...\n",
       "author                           Johannes Ernesti and Peter Kaiser\n",
       "price                                                        55.48\n",
       "pages                                                       1000.0\n",
       "language                                          standard library\n",
       "publisher        Rheinwerk Computing; First edition (September ...\n",
       "ISBN_13                                             978-1493223022\n",
       "complete_link    https://www.amazon.com/gp/slredirect/picassoRe...\n",
       "comments                                                       NaN\n",
       "Name: 382, dtype: object"
      ]
     },
     "execution_count": 25,
     "metadata": {},
     "output_type": "execute_result"
    }
   ],
   "source": [
    "df.iloc[382]"
   ]
  },
  {
   "cell_type": "code",
   "execution_count": 26,
   "id": "f0263039-89cb-405d-8cf6-bbcb484cb67e",
   "metadata": {},
   "outputs": [
    {
     "data": {
      "text/plain": [
       "54     NaN\n",
       "290    NaN\n",
       "381    NaN\n",
       "382    NaN\n",
       "476    NaN\n",
       "492    NaN\n",
       "633    NaN\n",
       "Name: comments, dtype: object"
      ]
     },
     "execution_count": 26,
     "metadata": {},
     "output_type": "execute_result"
    }
   ],
   "source": [
    "df.loc[not_lang_indexes].comments"
   ]
  },
  {
   "cell_type": "markdown",
   "id": "0dbca003-0091-40fa-8945-42582cfa5f1b",
   "metadata": {},
   "source": [
    "Their comments values are NaN, so I will replace the with their values in column `language`"
   ]
  },
  {
   "cell_type": "code",
   "execution_count": 27,
   "id": "3cf9a75b-14d9-43ee-a004-61436b9d1f45",
   "metadata": {},
   "outputs": [],
   "source": [
    "df.loc[not_lang_indexes].comments = df.loc[not_lang_indexes].language"
   ]
  },
  {
   "cell_type": "markdown",
   "id": "e9956517-8146-49e9-9ce8-67be4dde98a1",
   "metadata": {},
   "source": [
    "Remove the comments from the `language` column:"
   ]
  },
  {
   "cell_type": "code",
   "execution_count": 28,
   "id": "29c36e98-222b-4936-ac9d-000e9003ce74",
   "metadata": {},
   "outputs": [],
   "source": [
    "df.loc[not_lang_indexes, ['language']] = np.nan"
   ]
  },
  {
   "cell_type": "markdown",
   "id": "41e72460-0848-4ce5-b841-f6cfe7ab3464",
   "metadata": {},
   "source": [
    "Now let's process the rest of the language values."
   ]
  },
  {
   "cell_type": "code",
   "execution_count": 29,
   "id": "7386b761-8aab-4713-b0d4-0537db711cea",
   "metadata": {},
   "outputs": [
    {
     "data": {
      "text/plain": [
       "array(['English', nan, 'Spanish',\n",
       "       'Unqualified, Japanese (Dolby Digital 2.0 Mono), English (Dolby Digital 5.1), English (Dolby Digital 2.0 Mono)',\n",
       "       'English (Dolby Digital 2.0 Mono)',\n",
       "       'English (DTS-HD Master Audio 5.1), French (DTS-HD 2.0)'],\n",
       "      dtype=object)"
      ]
     },
     "execution_count": 29,
     "metadata": {},
     "output_type": "execute_result"
    }
   ],
   "source": [
    "df.language.unique()"
   ]
  },
  {
   "cell_type": "markdown",
   "id": "d8417ade-3803-4f82-b3a1-4a325386244e",
   "metadata": {},
   "source": [
    "I will select the"
   ]
  },
  {
   "cell_type": "markdown",
   "id": "1c3d78a7-4709-473a-9f7e-25837ecf1c91",
   "metadata": {},
   "source": [
    "There are only three types of language values which need cleaning, so I will create a function to clean them:"
   ]
  },
  {
   "cell_type": "code",
   "execution_count": 30,
   "id": "da56241f-94ac-452f-abda-040c23aa323c",
   "metadata": {},
   "outputs": [],
   "source": [
    "def clean_language(row):\n",
    "\tlang = row.language\n",
    "\tcomment = row.comments\n",
    "\tif lang == 'Unqualified, Japanese (Dolby Digital 2.0 Mono), English (Dolby Digital 5.1), English (Dolby Digital 2.0 Mono)' :\n",
    "\t\trow.language = 'English, Japanese'\n",
    "\t\tif comment != comment:  #check if comment is NaN\n",
    "\t\t\trow.comments = 'Avaliable languages: Japanese (Dolby Digital 2.0 Mono), English (Dolby Digital 5.1), English (Dolby Digital 2.0 Mono)'\n",
    "\t\telse:\n",
    "\t\t\trow.comments += ' Avaliable languages: Japanese (Dolby Digital 2.0 Mono), English (Dolby Digital 5.1), English (Dolby Digital 2.0 Mono)'\n",
    "\t\n",
    "\telif lang == 'English (Dolby Digital 2.0 Mono)' :\n",
    "\t\trow.language = 'English'\n",
    "\t\tif comment != comment:\n",
    "\t\t\trow.comments = 'English (Dolby Digital 2.0 Mono)'\n",
    "\t\telse:\n",
    "\t\t\trow.comments += 'English (Dolby Digital 2.0 Mono)'\n",
    "\t\n",
    "\telif lang == 'English (DTS-HD Master Audio 5.1), French (DTS-HD 2.0)' :\n",
    "\t\trow.language = 'English, French'\n",
    "\t\tif comment != comment :\n",
    "\t\t\trow.comments = 'English (DTS-HD Master Audio 5.1), French (DTS-HD 2.0)'\n",
    "\t\telse:\n",
    "\t\t\trow.comments += ' English (DTS-HD Master Audio 5.1), French (DTS-HD 2.0)'\n",
    "\treturn row"
   ]
  },
  {
   "cell_type": "code",
   "execution_count": 31,
   "id": "e21851ba-36f5-4185-a74f-9d4c9f720c7e",
   "metadata": {},
   "outputs": [],
   "source": [
    "df = df.apply(clean_language, axis=1)"
   ]
  },
  {
   "cell_type": "markdown",
   "id": "dac74903-1dd9-4f85-aab6-e4a8b2f97e74",
   "metadata": {},
   "source": [
    "Now the `language` column is clean:"
   ]
  },
  {
   "cell_type": "code",
   "execution_count": 32,
   "id": "934803cb-5f37-4069-b372-43857ac2071e",
   "metadata": {},
   "outputs": [
    {
     "data": {
      "text/plain": [
       "array(['English', nan, 'Spanish', 'English, Japanese', 'English, French'],\n",
       "      dtype=object)"
      ]
     },
     "execution_count": 32,
     "metadata": {},
     "output_type": "execute_result"
    }
   ],
   "source": [
    "df.language.unique()"
   ]
  },
  {
   "cell_type": "markdown",
   "id": "7a813d0f-d334-413a-8ce0-f4af8fa38af9",
   "metadata": {},
   "source": [
    "Next step is clean `publisher` column. I want to extract the date of publishing and create a new `publishing_date` column."
   ]
  },
  {
   "cell_type": "code",
   "execution_count": 34,
   "id": "5001d571-fe66-4693-920a-30f9bcdc583e",
   "metadata": {},
   "outputs": [
    {
     "data": {
      "text/plain": [
       "0         Notion Press Media Pvt Ltd (November 22, 2021)\n",
       "1          O'Reilly Media; 1st edition (August 18, 2009)\n",
       "2      Holy Macro! Books; Third edition (August 1, 2022)\n",
       "3        O'Reilly Media; 2nd edition (November 14, 2017)\n",
       "4            For Dummies; 5th edition (February 3, 2022)\n",
       "                             ...                        \n",
       "825            Corwin; First edition (December 15, 2017)\n",
       "826        Springer; 1st ed. 2020 edition (July 2, 2020)\n",
       "827                      Packt Publishing (July 8, 2022)\n",
       "828                                                  NaN\n",
       "829                                                  NaN\n",
       "Name: publisher, Length: 830, dtype: object"
      ]
     },
     "execution_count": 34,
     "metadata": {},
     "output_type": "execute_result"
    }
   ],
   "source": [
    "df.publisher"
   ]
  },
  {
   "cell_type": "markdown",
   "id": "0d425941-82db-4246-bcd8-2894618c08d3",
   "metadata": {},
   "source": [
    "Create a function to extract the publishing date from the values"
   ]
  },
  {
   "cell_type": "code",
   "execution_count": 50,
   "id": "2b95c79a-6aff-4512-ac93-a53347aeb157",
   "metadata": {},
   "outputs": [],
   "source": [
    "def extract_date(value):\n",
    "\tif value == value: \n",
    "\t\tsplited_value = value.split(' (')\n",
    "\t\t# date is the 2nd value of the list. \n",
    "\t\t# Furthermore, drop the closing parenthesis using [:-1]\n",
    "\t\tif len(splited_value) == 2:\n",
    "\t\t\tpublisher = splited_value[0]\n",
    "\t\t\tdate = splited_value[1][:-1]\n",
    "\t\t\treturn [publisher, date]\n",
    "\t\telse:\n",
    "\t\t\treturn 'invalid data'\n",
    "\telse:\n",
    "\t\treturn np.nan"
   ]
  },
  {
   "cell_type": "code",
   "execution_count": 53,
   "id": "246ed611-f9bb-44d3-82b8-682387df53a2",
   "metadata": {},
   "outputs": [],
   "source": [
    "publish_info = df.publisher.apply(extract_date)"
   ]
  },
  {
   "cell_type": "code",
   "execution_count": 57,
   "id": "3930f97e-d715-4145-87db-a13fc79dabc9",
   "metadata": {},
   "outputs": [
    {
     "data": {
      "text/plain": [
       "667                  [The MIT Press, April 18, 2023]\n",
       "538    [O'Reilly Media; 1st edition, August 4, 2009]\n",
       "691           [Wiley; 1st edition, January 27, 2015]\n",
       "95        [For Dummies; 1st edition, March 20, 2017]\n",
       "820                                              NaN\n",
       "Name: publisher, dtype: object"
      ]
     },
     "execution_count": 57,
     "metadata": {},
     "output_type": "execute_result"
    }
   ],
   "source": [
    "publish_info.sample(5)"
   ]
  },
  {
   "cell_type": "markdown",
   "id": "8ba56eb2-e356-4588-a9e7-4deecf0e978f",
   "metadata": {},
   "source": [
    "I will check if there are any invalid values, in order to investigate them later."
   ]
  },
  {
   "cell_type": "code",
   "execution_count": 55,
   "id": "033a06e8-9469-4984-be39-bd6058c8b946",
   "metadata": {},
   "outputs": [
    {
     "data": {
      "text/plain": [
       "174    invalid data\n",
       "374    invalid data\n",
       "586    invalid data\n",
       "Name: publisher, dtype: object"
      ]
     },
     "execution_count": 55,
     "metadata": {},
     "output_type": "execute_result"
    }
   ],
   "source": [
    "publish_info [publish_info == 'invalid data']"
   ]
  },
  {
   "cell_type": "markdown",
   "id": "d28b7d6d-863f-40f8-9bf4-6156b8e578ce",
   "metadata": {},
   "source": [
    "They are just three values, so there's no need to create a function. I will extract the date manually."
   ]
  },
  {
   "cell_type": "code",
   "execution_count": 58,
   "id": "dfee438d-a5fc-40d9-96b0-e1c03aa8324b",
   "metadata": {},
   "outputs": [
    {
     "data": {
      "text/plain": [
       "'Real Python (realpython.com); 4th edition (August 30, 2022)'"
      ]
     },
     "execution_count": 58,
     "metadata": {},
     "output_type": "execute_result"
    }
   ],
   "source": [
    "df.loc[374].publisher"
   ]
  },
  {
   "cell_type": "code",
   "execution_count": 59,
   "id": "aff4a92b-f634-44f7-af1f-807be59f2de7",
   "metadata": {},
   "outputs": [],
   "source": [
    "df.loc[374, ['publisher']] = 'Real Python - realpython.com - 4th edition (August 30, 2022)'"
   ]
  },
  {
   "cell_type": "markdown",
   "id": "14f6e801-c2e3-42c1-b680-29a7638d1312",
   "metadata": {},
   "source": [
    "<hr style='color: green'/>"
   ]
  },
  {
   "cell_type": "code",
   "execution_count": 60,
   "id": "9d1f60f8-7562-46c8-a46b-23c21776756a",
   "metadata": {},
   "outputs": [
    {
     "data": {
      "text/plain": [
       "'Real Python (realpython.com) (May 5, 2021)'"
      ]
     },
     "execution_count": 60,
     "metadata": {},
     "output_type": "execute_result"
    }
   ],
   "source": [
    "df.loc[586].publisher"
   ]
  },
  {
   "cell_type": "code",
   "execution_count": 61,
   "id": "54234a66-030a-41ce-adb8-2097bc29effb",
   "metadata": {},
   "outputs": [],
   "source": [
    "df.loc[586, ['publisher']] = 'Real Python realpython.com (May 5, 2021)'"
   ]
  },
  {
   "cell_type": "markdown",
   "id": "ce718994-3484-4c2f-8921-e74c9bf98068",
   "metadata": {},
   "source": [
    "<hr style='color: green'/>"
   ]
  },
  {
   "cell_type": "code",
   "execution_count": 62,
   "id": "d2d0d4f8-506c-4684-9304-ef45d2875eba",
   "metadata": {},
   "outputs": [
    {
     "data": {
      "text/plain": [
       "publisher    ;\n",
       "Name: 174, dtype: object"
      ]
     },
     "execution_count": 62,
     "metadata": {},
     "output_type": "execute_result"
    }
   ],
   "source": [
    "df.loc[174, ['publisher']]"
   ]
  },
  {
   "cell_type": "code",
   "execution_count": 63,
   "id": "d3f146c7-6c71-4263-a7a3-7b61e2d0b9da",
   "metadata": {},
   "outputs": [],
   "source": [
    "df.loc[174, ['publisher']] = np.nan"
   ]
  },
  {
   "cell_type": "markdown",
   "id": "c4d04739-205b-4749-8fb7-ea021a30c9c2",
   "metadata": {},
   "source": [
    "Once the three anormal data have been processed, I will apply the `extract_date` function again."
   ]
  },
  {
   "cell_type": "code",
   "execution_count": 64,
   "id": "52034d10-f6dd-4375-8e49-b676cbc8dae3",
   "metadata": {},
   "outputs": [],
   "source": [
    "publish_info = df.publisher.apply(extract_date)"
   ]
  },
  {
   "cell_type": "markdown",
   "id": "9e44908c-7515-480f-bd11-e203f94039ec",
   "metadata": {},
   "source": [
    "I create a new column: `publishing_date` :"
   ]
  },
  {
   "cell_type": "code",
   "execution_count": 71,
   "id": "610ef393-c8ff-4c5d-bbc6-5875907cbec6",
   "metadata": {},
   "outputs": [],
   "source": [
    "df['publishing_date'] = [i[1] if (i==i) else i for i in publish_info  ]"
   ]
  },
  {
   "cell_type": "code",
   "execution_count": 74,
   "id": "333e0285-fcfd-4ec6-8480-ce0f1c6eda29",
   "metadata": {},
   "outputs": [],
   "source": [
    "df.publishing_date = pd.to_datetime(df.publishing_date)"
   ]
  },
  {
   "cell_type": "markdown",
   "id": "a5c8798c-81ff-4f5c-a618-bbb50c8f36af",
   "metadata": {},
   "source": [
    "Now I replace the `publisher` values with the processed publisher information:"
   ]
  },
  {
   "cell_type": "code",
   "execution_count": 75,
   "id": "2ba612bd-d4bf-4326-a255-9aa0b867accd",
   "metadata": {},
   "outputs": [],
   "source": [
    "df['publisher'] = [i[0] if (i==i) else i for i in publish_info  ]"
   ]
  },
  {
   "cell_type": "code",
   "execution_count": 76,
   "id": "208ff443-9971-40a1-a4d0-61cab6188934",
   "metadata": {},
   "outputs": [
    {
     "data": {
      "text/plain": [
       "0            Notion Press Media Pvt Ltd\n",
       "1           O'Reilly Media; 1st edition\n",
       "2      Holy Macro! Books; Third edition\n",
       "3           O'Reilly Media; 2nd edition\n",
       "4              For Dummies; 5th edition\n",
       "                     ...               \n",
       "825               Corwin; First edition\n",
       "826      Springer; 1st ed. 2020 edition\n",
       "827                    Packt Publishing\n",
       "828                                 NaN\n",
       "829                                 NaN\n",
       "Name: publisher, Length: 830, dtype: object"
      ]
     },
     "execution_count": 76,
     "metadata": {},
     "output_type": "execute_result"
    }
   ],
   "source": [
    "df.publisher"
   ]
  },
  {
   "cell_type": "code",
   "execution_count": 77,
   "id": "8d906290-96d5-4717-90fe-d891e1c1bd73",
   "metadata": {},
   "outputs": [],
   "source": [
    "df.publisher = df.publisher.str.replace(';', ',')"
   ]
  },
  {
   "cell_type": "code",
   "execution_count": 78,
   "id": "06bc0246-1a66-404b-9f44-1cbc5abf59a9",
   "metadata": {},
   "outputs": [
    {
     "data": {
      "text/plain": [
       "575       No Starch Press, Illustrated edition\n",
       "21                 O'Reilly Media, 2nd edition\n",
       "586                 Real Python realpython.com\n",
       "154                                   Opentask\n",
       "44                No Starch Press, 2nd edition\n",
       "671                                        NaN\n",
       "678    Cambridge University Press, 1st edition\n",
       "5                                          NaN\n",
       "350          Packt Publishing, 2nd ed. edition\n",
       "69                    For Dummies, 4th edition\n",
       "Name: publisher, dtype: object"
      ]
     },
     "execution_count": 78,
     "metadata": {},
     "output_type": "execute_result"
    }
   ],
   "source": [
    "df.publisher.sample(10)"
   ]
  },
  {
   "cell_type": "code",
   "execution_count": 80,
   "id": "1858f46b-219f-45ac-89d6-8e79374a9d9c",
   "metadata": {},
   "outputs": [
    {
     "data": {
      "text/html": [
       "<div>\n",
       "<style scoped>\n",
       "    .dataframe tbody tr th:only-of-type {\n",
       "        vertical-align: middle;\n",
       "    }\n",
       "\n",
       "    .dataframe tbody tr th {\n",
       "        vertical-align: top;\n",
       "    }\n",
       "\n",
       "    .dataframe thead th {\n",
       "        text-align: right;\n",
       "    }\n",
       "</style>\n",
       "<table border=\"1\" class=\"dataframe\">\n",
       "  <thead>\n",
       "    <tr style=\"text-align: right;\">\n",
       "      <th></th>\n",
       "      <th>title</th>\n",
       "      <th>author</th>\n",
       "      <th>price</th>\n",
       "      <th>pages</th>\n",
       "      <th>language</th>\n",
       "      <th>publisher</th>\n",
       "      <th>ISBN_13</th>\n",
       "      <th>complete_link</th>\n",
       "      <th>comments</th>\n",
       "      <th>publishing_date</th>\n",
       "    </tr>\n",
       "  </thead>\n",
       "  <tbody>\n",
       "    <tr>\n",
       "      <th>145</th>\n",
       "      <td>Hands-On Data Analysis in R for Finance</td>\n",
       "      <td>Jean-Francois Collard</td>\n",
       "      <td>79.96</td>\n",
       "      <td>414.0</td>\n",
       "      <td>English</td>\n",
       "      <td>Chapman and Hall/CRC, 1st edition</td>\n",
       "      <td>NaN</td>\n",
       "      <td>https://www.amazon.com/Hands-Data-Analysis-R-F...</td>\n",
       "      <td>NaN</td>\n",
       "      <td>2022-11-16</td>\n",
       "    </tr>\n",
       "    <tr>\n",
       "      <th>784</th>\n",
       "      <td>The Handbook of Data Science and AI: Generate ...</td>\n",
       "      <td>Stefan Papp, Wolfgang Weidinger, et al.</td>\n",
       "      <td>42.49</td>\n",
       "      <td>576.0</td>\n",
       "      <td>English</td>\n",
       "      <td>Hanser Publications</td>\n",
       "      <td>978-1569908860</td>\n",
       "      <td>https://www.amazon.com/Handbook-Data-Science-A...</td>\n",
       "      <td>NaN</td>\n",
       "      <td>2022-04-28</td>\n",
       "    </tr>\n",
       "    <tr>\n",
       "      <th>347</th>\n",
       "      <td>Mastering PyTorch: Build powerful neural netwo...</td>\n",
       "      <td>Ashish Ranjan Jha and Dr. Gopinath Pillai</td>\n",
       "      <td>39.99</td>\n",
       "      <td>450.0</td>\n",
       "      <td>English</td>\n",
       "      <td>Packt Publishing</td>\n",
       "      <td></td>\n",
       "      <td>https://www.amazon.com/gp/slredirect/picassoRe...</td>\n",
       "      <td>NaN</td>\n",
       "      <td>2021-02-12</td>\n",
       "    </tr>\n",
       "    <tr>\n",
       "      <th>525</th>\n",
       "      <td>Developing IoT Projects with ESP32: Automate y...</td>\n",
       "      <td>Vedat Ozan Oner</td>\n",
       "      <td>46.99</td>\n",
       "      <td>474.0</td>\n",
       "      <td>English</td>\n",
       "      <td>Packt Publishing</td>\n",
       "      <td></td>\n",
       "      <td>https://www.amazon.com/gp/slredirect/picassoRe...</td>\n",
       "      <td>NaN</td>\n",
       "      <td>2021-09-13</td>\n",
       "    </tr>\n",
       "    <tr>\n",
       "      <th>446</th>\n",
       "      <td>100 Days of Code Learning Journal: Notebook fo...</td>\n",
       "      <td>Corinth Ruiz</td>\n",
       "      <td>7.00</td>\n",
       "      <td>108.0</td>\n",
       "      <td>English</td>\n",
       "      <td>Independently published</td>\n",
       "      <td>979-8775112295</td>\n",
       "      <td>https://www.amazon.com/100-Days-Code-Learning-...</td>\n",
       "      <td>NaN</td>\n",
       "      <td>2021-11-28</td>\n",
       "    </tr>\n",
       "  </tbody>\n",
       "</table>\n",
       "</div>"
      ],
      "text/plain": [
       "                                                 title  \\\n",
       "145            Hands-On Data Analysis in R for Finance   \n",
       "784  The Handbook of Data Science and AI: Generate ...   \n",
       "347  Mastering PyTorch: Build powerful neural netwo...   \n",
       "525  Developing IoT Projects with ESP32: Automate y...   \n",
       "446  100 Days of Code Learning Journal: Notebook fo...   \n",
       "\n",
       "                                        author  price  pages language  \\\n",
       "145                      Jean-Francois Collard  79.96  414.0  English   \n",
       "784    Stefan Papp, Wolfgang Weidinger, et al.  42.49  576.0  English   \n",
       "347  Ashish Ranjan Jha and Dr. Gopinath Pillai  39.99  450.0  English   \n",
       "525                            Vedat Ozan Oner  46.99  474.0  English   \n",
       "446                               Corinth Ruiz   7.00  108.0  English   \n",
       "\n",
       "                             publisher         ISBN_13  \\\n",
       "145  Chapman and Hall/CRC, 1st edition             NaN   \n",
       "784                Hanser Publications  978-1569908860   \n",
       "347                   Packt Publishing                   \n",
       "525                   Packt Publishing                   \n",
       "446            Independently published  979-8775112295   \n",
       "\n",
       "                                         complete_link comments  \\\n",
       "145  https://www.amazon.com/Hands-Data-Analysis-R-F...      NaN   \n",
       "784  https://www.amazon.com/Handbook-Data-Science-A...      NaN   \n",
       "347  https://www.amazon.com/gp/slredirect/picassoRe...      NaN   \n",
       "525  https://www.amazon.com/gp/slredirect/picassoRe...      NaN   \n",
       "446  https://www.amazon.com/100-Days-Code-Learning-...      NaN   \n",
       "\n",
       "    publishing_date  \n",
       "145      2022-11-16  \n",
       "784      2022-04-28  \n",
       "347      2021-02-12  \n",
       "525      2021-09-13  \n",
       "446      2021-11-28  "
      ]
     },
     "execution_count": 80,
     "metadata": {},
     "output_type": "execute_result"
    }
   ],
   "source": [
    "df.sample(5)"
   ]
  },
  {
   "cell_type": "markdown",
   "id": "818629f7-0c22-4098-a441-7aa29a5980c9",
   "metadata": {},
   "source": [
    "Reorder the columns:"
   ]
  },
  {
   "cell_type": "markdown",
   "id": "daf7e703-4ca0-4913-9a2f-864044b6c01a",
   "metadata": {},
   "source": [
    "It seems like some `ISBN_13` values are empty but not set as NaN. Aslo, lenght of ISBN_13 code must be 14 (13 + hyphen)."
   ]
  },
  {
   "cell_type": "code",
   "execution_count": 89,
   "id": "217746ee-d086-4225-bfa3-16a90465fa73",
   "metadata": {},
   "outputs": [
    {
     "data": {
      "text/plain": [
       "5                              NaN\n",
       "7      Research in Drama Education\n",
       "12                             NaN\n",
       "13                                \n",
       "14                                \n",
       "                  ...             \n",
       "824                             99\n",
       "825                             59\n",
       "826                               \n",
       "828                            NaN\n",
       "829                               \n",
       "Name: ISBN_13, Length: 369, dtype: object"
      ]
     },
     "execution_count": 89,
     "metadata": {},
     "output_type": "execute_result"
    }
   ],
   "source": [
    "df.ISBN_13 [ df.ISBN_13.str.len() != 14]"
   ]
  },
  {
   "cell_type": "code",
   "execution_count": 90,
   "id": "a97730db-abf6-4831-b9bc-5647b3056693",
   "metadata": {},
   "outputs": [
    {
     "data": {
      "text/plain": [
       "array([nan, 'Research in Drama Education', ' ', '$13.99 ', '-34%',\n",
       "       '     ', 'Usually ships within 2 to 3 days.', '#NAME?', '#250 in ',\n",
       "       '#1 in ', '  Second Edition, Second edition ', '$113.19 ', '-22%',\n",
       "       'The Data Revolution',\n",
       "       'Regulating Alcohol around the World: Policy Cocktails', '-19%',\n",
       "       '#35 in ', 'x', '-27%', '79', '99', '-21%', '75', '49', '69', '29',\n",
       "       '66', '-30%', '  Kindle Edition ', '$139.99 ', '$13.79 ', 'Python',\n",
       "       '#372 in ', 'PennyLane', 'JOSH TYSON', '—', '-39%', '59', '39',\n",
       "       '-25%', '30', '56', '25'], dtype=object)"
      ]
     },
     "execution_count": 90,
     "metadata": {},
     "output_type": "execute_result"
    }
   ],
   "source": [
    "df.ISBN_13 [ df.ISBN_13.str.len() != 14].unique()"
   ]
  },
  {
   "cell_type": "markdown",
   "id": "ff0c184c-72f0-41ba-811e-4813c230324b",
   "metadata": {},
   "source": [
    "First set empty values to NaN"
   ]
  },
  {
   "cell_type": "code",
   "execution_count": 93,
   "id": "33299b23-55cb-4b07-bbb0-225febaea861",
   "metadata": {},
   "outputs": [],
   "source": [
    "df.ISBN_13 = np.where(df.ISBN_13 == '', np.nan, df.ISBN_13)"
   ]
  },
  {
   "cell_type": "markdown",
   "id": "81c2de67-4d88-495d-a2b5-c56e713d02b3",
   "metadata": {},
   "source": [
    "Check if row with invalid ISBN_13 values have already comments:"
   ]
  },
  {
   "cell_type": "code",
   "execution_count": 100,
   "id": "30ed87db-9786-4162-9036-595bf3449e07",
   "metadata": {},
   "outputs": [
    {
     "data": {
      "text/plain": [
       "False"
      ]
     },
     "execution_count": 100,
     "metadata": {},
     "output_type": "execute_result"
    }
   ],
   "source": [
    "df[ (df.ISBN_13.str.len() != 14) & (df.ISBN_13.notnull()) ].comments.isnull().all()"
   ]
  },
  {
   "cell_type": "markdown",
   "id": "55a7352a-2f48-4ba5-baf6-f2a777635f1d",
   "metadata": {},
   "source": [
    "It looks as if some rows with invalid ISBN_13 values have been already commented."
   ]
  },
  {
   "cell_type": "code",
   "execution_count": 109,
   "id": "31c188ac-3ece-449a-9338-9dc6f539f38c",
   "metadata": {},
   "outputs": [],
   "source": [
    "invalid_isbn_with_comments = df[ (df.ISBN_13.str.len() != 14) & (df.ISBN_13.notnull()) ].comments.notnull()"
   ]
  },
  {
   "cell_type": "code",
   "execution_count": 111,
   "id": "065ca173-d98d-4f57-8e99-36dd4840cef0",
   "metadata": {},
   "outputs": [
    {
     "data": {
      "text/plain": [
       "7      NaN\n",
       "13     NaN\n",
       "14     NaN\n",
       "19     NaN\n",
       "31     NaN\n",
       "      ... \n",
       "820    NaN\n",
       "824    NaN\n",
       "825    NaN\n",
       "826    NaN\n",
       "829    NaN\n",
       "Name: comments, Length: 204, dtype: object"
      ]
     },
     "execution_count": 111,
     "metadata": {},
     "output_type": "execute_result"
    }
   ],
   "source": [
    "df.loc[invalid_isbn_with_comments.index].comments"
   ]
  },
  {
   "cell_type": "code",
   "execution_count": null,
   "id": "8700726e-a1a4-49a1-b523-ceb9b9dd78ce",
   "metadata": {},
   "outputs": [],
   "source": []
  },
  {
   "cell_type": "code",
   "execution_count": null,
   "id": "750564b9-13c4-4c5a-86a9-99041bdf7a2b",
   "metadata": {},
   "outputs": [],
   "source": []
  },
  {
   "cell_type": "code",
   "execution_count": 81,
   "id": "b0be84dc-42b2-4c30-be66-eec682ebf368",
   "metadata": {},
   "outputs": [],
   "source": [
    "new_order = ['title', 'author', 'publisher', 'publishing_date', 'pages', 'price', 'language', 'ISBN_13', 'complete_link', 'comments']"
   ]
  },
  {
   "cell_type": "code",
   "execution_count": 84,
   "id": "c7b9934b-471f-4b12-a8ca-cac291f0ddbb",
   "metadata": {},
   "outputs": [],
   "source": [
    "df = df.reindex(new_order, axis=1)"
   ]
  },
  {
   "cell_type": "markdown",
   "id": "00e1ddd1-aad5-4472-8504-8ac7e6ce8ee2",
   "metadata": {},
   "source": [
    "Finally, get a sample to have an overview of the clean dataset."
   ]
  },
  {
   "cell_type": "code",
   "execution_count": 85,
   "id": "ad6ccc7a-689d-466b-974b-0feb058e457b",
   "metadata": {},
   "outputs": [
    {
     "data": {
      "text/html": [
       "<div>\n",
       "<style scoped>\n",
       "    .dataframe tbody tr th:only-of-type {\n",
       "        vertical-align: middle;\n",
       "    }\n",
       "\n",
       "    .dataframe tbody tr th {\n",
       "        vertical-align: top;\n",
       "    }\n",
       "\n",
       "    .dataframe thead th {\n",
       "        text-align: right;\n",
       "    }\n",
       "</style>\n",
       "<table border=\"1\" class=\"dataframe\">\n",
       "  <thead>\n",
       "    <tr style=\"text-align: right;\">\n",
       "      <th></th>\n",
       "      <th>title</th>\n",
       "      <th>author</th>\n",
       "      <th>publisher</th>\n",
       "      <th>publishing_date</th>\n",
       "      <th>pages</th>\n",
       "      <th>price</th>\n",
       "      <th>language</th>\n",
       "      <th>ISBN_13</th>\n",
       "      <th>complete_link</th>\n",
       "      <th>comments</th>\n",
       "    </tr>\n",
       "  </thead>\n",
       "  <tbody>\n",
       "    <tr>\n",
       "      <th>341</th>\n",
       "      <td>Introduction to Multivariate Data Analysis (Ea...</td>\n",
       "      <td>NaN</td>\n",
       "      <td>anushabooks.com</td>\n",
       "      <td>2022-06-22</td>\n",
       "      <td>67.0</td>\n",
       "      <td>NaN</td>\n",
       "      <td>English</td>\n",
       "      <td>NaN</td>\n",
       "      <td>https://www.amazon.com/Introduction-Multivaria...</td>\n",
       "      <td>NaN</td>\n",
       "    </tr>\n",
       "    <tr>\n",
       "      <th>343</th>\n",
       "      <td>Python for Geospatial Data Analysis: Theory, T...</td>\n",
       "      <td>Bonny McClain</td>\n",
       "      <td>O'Reilly Media, 1st edition</td>\n",
       "      <td>2022-11-29</td>\n",
       "      <td>279.0</td>\n",
       "      <td>59.05</td>\n",
       "      <td>English</td>\n",
       "      <td>978-1098104795</td>\n",
       "      <td>https://www.amazon.com/Python-Geospatial-Data-...</td>\n",
       "      <td>NaN</td>\n",
       "    </tr>\n",
       "    <tr>\n",
       "      <th>278</th>\n",
       "      <td>The Decision Maker's Handbook to Data Science:...</td>\n",
       "      <td>Stylianos Kampakis</td>\n",
       "      <td>Apress, 2nd ed. edition</td>\n",
       "      <td>2019-11-27</td>\n",
       "      <td>164.0</td>\n",
       "      <td>18.04</td>\n",
       "      <td>English</td>\n",
       "      <td>978-1484254936</td>\n",
       "      <td>https://www.amazon.com/Decision-Makers-Handboo...</td>\n",
       "      <td>NaN</td>\n",
       "    </tr>\n",
       "    <tr>\n",
       "      <th>705</th>\n",
       "      <td>The Little Book of Data Science Tricks: 100+ T...</td>\n",
       "      <td>Maverick Lin</td>\n",
       "      <td>Independently published</td>\n",
       "      <td>2020-06-20</td>\n",
       "      <td>59.0</td>\n",
       "      <td>4.99</td>\n",
       "      <td>English</td>\n",
       "      <td>979-8655659063</td>\n",
       "      <td>https://www.amazon.com/Little-Book-Data-Scienc...</td>\n",
       "      <td>NaN</td>\n",
       "    </tr>\n",
       "    <tr>\n",
       "      <th>642</th>\n",
       "      <td>Practical Data Science with Python: Learn tool...</td>\n",
       "      <td>Nathan George</td>\n",
       "      <td>Packt Publishing</td>\n",
       "      <td>2021-09-30</td>\n",
       "      <td>620.0</td>\n",
       "      <td>51.99</td>\n",
       "      <td>English</td>\n",
       "      <td>978-1801071970</td>\n",
       "      <td>https://www.amazon.com/Practical-Data-Science-...</td>\n",
       "      <td>NaN</td>\n",
       "    </tr>\n",
       "    <tr>\n",
       "      <th>574</th>\n",
       "      <td>Real-World Python: A Hacker's Guide to Solving...</td>\n",
       "      <td>Lee Vaughan</td>\n",
       "      <td>No Starch Press</td>\n",
       "      <td>2020-11-05</td>\n",
       "      <td>360.0</td>\n",
       "      <td>34.95</td>\n",
       "      <td>English</td>\n",
       "      <td></td>\n",
       "      <td>https://www.amazon.com/Real-World-Python-Hacke...</td>\n",
       "      <td>NaN</td>\n",
       "    </tr>\n",
       "    <tr>\n",
       "      <th>21</th>\n",
       "      <td>Think Bayes: Bayesian Statistics in Python (O'...</td>\n",
       "      <td>Allen B. Downey</td>\n",
       "      <td>O'Reilly Media, 2nd edition</td>\n",
       "      <td>2021-06-08</td>\n",
       "      <td>338.0</td>\n",
       "      <td>24.20</td>\n",
       "      <td>English</td>\n",
       "      <td>978-1492089469</td>\n",
       "      <td>https://www.amazon.com/Think-Bayes-Bayesian-St...</td>\n",
       "      <td>NaN</td>\n",
       "    </tr>\n",
       "    <tr>\n",
       "      <th>770</th>\n",
       "      <td>Computer Science Unleashed: Harness the Power ...</td>\n",
       "      <td>NaN</td>\n",
       "      <td>Code Energy</td>\n",
       "      <td>2021-07-02</td>\n",
       "      <td>270.0</td>\n",
       "      <td>19.95</td>\n",
       "      <td>English</td>\n",
       "      <td>NaN</td>\n",
       "      <td>https://www.amazon.com/Computer-Science-Unleas...</td>\n",
       "      <td>NaN</td>\n",
       "    </tr>\n",
       "    <tr>\n",
       "      <th>219</th>\n",
       "      <td>Data Visualization: A Practical Introduction</td>\n",
       "      <td>Kieran Healy</td>\n",
       "      <td>Princeton University Press, 1st edition</td>\n",
       "      <td>2018-12-18</td>\n",
       "      <td>296.0</td>\n",
       "      <td>42.00</td>\n",
       "      <td>English</td>\n",
       "      <td></td>\n",
       "      <td>https://www.amazon.com/Data-Visualization-Intr...</td>\n",
       "      <td>NaN</td>\n",
       "    </tr>\n",
       "    <tr>\n",
       "      <th>781</th>\n",
       "      <td>Data Science in Chemistry (De Gruyter Textbook)</td>\n",
       "      <td>Thorsten Gressling</td>\n",
       "      <td>De Gruyter</td>\n",
       "      <td>2020-11-23</td>\n",
       "      <td>330.0</td>\n",
       "      <td>52.64</td>\n",
       "      <td>English</td>\n",
       "      <td>978-3110629392</td>\n",
       "      <td>https://www.amazon.com/Data-Science-Chemistry-...</td>\n",
       "      <td>NaN</td>\n",
       "    </tr>\n",
       "  </tbody>\n",
       "</table>\n",
       "</div>"
      ],
      "text/plain": [
       "                                                 title              author  \\\n",
       "341  Introduction to Multivariate Data Analysis (Ea...                 NaN   \n",
       "343  Python for Geospatial Data Analysis: Theory, T...       Bonny McClain   \n",
       "278  The Decision Maker's Handbook to Data Science:...  Stylianos Kampakis   \n",
       "705  The Little Book of Data Science Tricks: 100+ T...        Maverick Lin   \n",
       "642  Practical Data Science with Python: Learn tool...       Nathan George   \n",
       "574  Real-World Python: A Hacker's Guide to Solving...         Lee Vaughan   \n",
       "21   Think Bayes: Bayesian Statistics in Python (O'...     Allen B. Downey   \n",
       "770  Computer Science Unleashed: Harness the Power ...                 NaN   \n",
       "219       Data Visualization: A Practical Introduction        Kieran Healy   \n",
       "781    Data Science in Chemistry (De Gruyter Textbook)  Thorsten Gressling   \n",
       "\n",
       "                                   publisher publishing_date  pages  price  \\\n",
       "341                          anushabooks.com      2022-06-22   67.0    NaN   \n",
       "343              O'Reilly Media, 1st edition      2022-11-29  279.0  59.05   \n",
       "278                  Apress, 2nd ed. edition      2019-11-27  164.0  18.04   \n",
       "705                  Independently published      2020-06-20   59.0   4.99   \n",
       "642                         Packt Publishing      2021-09-30  620.0  51.99   \n",
       "574                          No Starch Press      2020-11-05  360.0  34.95   \n",
       "21               O'Reilly Media, 2nd edition      2021-06-08  338.0  24.20   \n",
       "770                              Code Energy      2021-07-02  270.0  19.95   \n",
       "219  Princeton University Press, 1st edition      2018-12-18  296.0  42.00   \n",
       "781                               De Gruyter      2020-11-23  330.0  52.64   \n",
       "\n",
       "    language         ISBN_13  \\\n",
       "341  English             NaN   \n",
       "343  English  978-1098104795   \n",
       "278  English  978-1484254936   \n",
       "705  English  979-8655659063   \n",
       "642  English  978-1801071970   \n",
       "574  English                   \n",
       "21   English  978-1492089469   \n",
       "770  English             NaN   \n",
       "219  English                   \n",
       "781  English  978-3110629392   \n",
       "\n",
       "                                         complete_link comments  \n",
       "341  https://www.amazon.com/Introduction-Multivaria...      NaN  \n",
       "343  https://www.amazon.com/Python-Geospatial-Data-...      NaN  \n",
       "278  https://www.amazon.com/Decision-Makers-Handboo...      NaN  \n",
       "705  https://www.amazon.com/Little-Book-Data-Scienc...      NaN  \n",
       "642  https://www.amazon.com/Practical-Data-Science-...      NaN  \n",
       "574  https://www.amazon.com/Real-World-Python-Hacke...      NaN  \n",
       "21   https://www.amazon.com/Think-Bayes-Bayesian-St...      NaN  \n",
       "770  https://www.amazon.com/Computer-Science-Unleas...      NaN  \n",
       "219  https://www.amazon.com/Data-Visualization-Intr...      NaN  \n",
       "781  https://www.amazon.com/Data-Science-Chemistry-...      NaN  "
      ]
     },
     "execution_count": 85,
     "metadata": {},
     "output_type": "execute_result"
    }
   ],
   "source": [
    "df.sample(10)"
   ]
  },
  {
   "cell_type": "code",
   "execution_count": null,
   "id": "673c412c-2241-40ee-8e03-5fa3768fedbb",
   "metadata": {},
   "outputs": [],
   "source": []
  }
 ],
 "metadata": {
  "kernelspec": {
   "display_name": "Python 3 (ipykernel)",
   "language": "python",
   "name": "python3"
  },
  "language_info": {
   "codemirror_mode": {
    "name": "ipython",
    "version": 3
   },
   "file_extension": ".py",
   "mimetype": "text/x-python",
   "name": "python",
   "nbconvert_exporter": "python",
   "pygments_lexer": "ipython3",
   "version": "3.10.9"
  }
 },
 "nbformat": 4,
 "nbformat_minor": 5
}
